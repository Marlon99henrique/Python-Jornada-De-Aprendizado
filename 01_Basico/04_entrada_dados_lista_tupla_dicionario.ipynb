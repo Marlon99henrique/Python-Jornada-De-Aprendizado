{
 "cells": [
  {
   "cell_type": "markdown",
   "id": "c84b9ddd-149d-4f49-8575-eea1750f60e2",
   "metadata": {},
   "source": [
    "# 📥 Entrada de Dados e Estruturas Básicas\n",
    "\n",
    "## 1. Capturando Dados com `input()`\n",
    "### 📌 O que faz?\n",
    "Permite que o usuário insira dados durante a execução do programa.\n",
    "\n",
    "### 🖥️ Sintaxe Básica\n",
    "```python\n",
    "variavel = input(\"Mensagem ao usuário: \")\n"
   ]
  },
  {
   "cell_type": "markdown",
   "id": "1749de3f-d574-442f-a678-fd91acef7eb8",
   "metadata": {},
   "source": [
    "### 💡 Exemplo Prático"
   ]
  },
  {
   "cell_type": "code",
   "execution_count": 1,
   "id": "e0e991a5-07c3-40d2-a6cd-2f7fc0d84a47",
   "metadata": {},
   "outputs": [
    {
     "name": "stdin",
     "output_type": "stream",
     "text": [
      "Digite seu nome:  marlon\n",
      "Digite sua idade:  32\n"
     ]
    },
    {
     "name": "stdout",
     "output_type": "stream",
     "text": [
      "Olá marlon! Você tem 32 anos.\n"
     ]
    }
   ],
   "source": [
    "nome = input(\"Digite seu nome: \")\n",
    "idade = int(input(\"Digite sua idade: \"))  # Convertendo para número\n",
    "\n",
    "print(f\"Olá {nome}! Você tem {idade} anos.\")"
   ]
  },
  {
   "cell_type": "markdown",
   "id": "44fff529-6b09-4489-b0ab-69b5eb4f2763",
   "metadata": {},
   "source": [
    "### ⚠️ Cuidados\n",
    "- Sempre o tipo de varial va iser uma string quando o usuario colocar os dados\n",
    "- Sempre converta o input quando necessário (int(), float())  \n",
    "- Trate erros (veremos depois em \"Tratamento de Exceções, no funções\")"
   ]
  },
  {
   "cell_type": "markdown",
   "id": "914687b6-6473-4dac-845d-9c9bac7b6ae0",
   "metadata": {},
   "source": [
    "## 📚 Listas em Python: Guia Completo\n",
    "### 1. O que são Listas?\n",
    "- Estrutura: Coleção ordenada, mutável e heterogênea de elementos.  \n",
    "- Sintaxe: Delimitada por colchetes [], com elementos separados por vírgulas.  \n",
    "#### - Exemplo:"
   ]
  },
  {
   "cell_type": "code",
   "execution_count": 4,
   "id": "bc1528b4-c9ee-4018-bff6-ff753db533ae",
   "metadata": {},
   "outputs": [],
   "source": [
    "lista = [1, \"Python\", 3.14, True]  # Aceita diferentes tipos"
   ]
  },
  {
   "cell_type": "markdown",
   "id": "f8ef4ebd-35fb-47dd-a11f-5ec61a219fe9",
   "metadata": {},
   "source": [
    "### 2. Anatomia de uma Lista\n",
    "#### 🔍 Índices e Acesso\n",
    "##### -Indexação: Cada elemento tem um índice numérico (começa em 0)."
   ]
  },
  {
   "cell_type": "code",
   "execution_count": 8,
   "id": "28fc9d8b-7631-4f59-a4e6-5a1da6105602",
   "metadata": {},
   "outputs": [
    {
     "name": "stdout",
     "output_type": "stream",
     "text": [
      "10\n",
      "40\n",
      "40\n"
     ]
    }
   ],
   "source": [
    "numeros = [10, 20, 30, 40]\n",
    "print(numeros[0])  # 10 (primeiro elemento)\n",
    "print(numeros[3])  # 40 (último elemento)\n",
    "print(numeros[-1])  # 40 (último elemento)\n",
    "# index de uma lista é visto por [], e o elemento dentro, o indice vai de 0 até o ultimo indice da lista,\n",
    "# nesta lista tem 4 elementos, onde começa no index 0,\n",
    "# se chamar o index por numero negativo [-1], ele vai começar da direta para a esquerda"
   ]
  },
  {
   "cell_type": "markdown",
   "id": "32f566e1-e465-45cf-a397-367e203acd47",
   "metadata": {},
   "source": [
    "### 3. Operações Essenciais\n",
    "### 🧰 Métodos de Listas em Python - Tabela Completa\n",
    "\n",
    "## 🧰 Métodos de Lista em Python\n",
    "\n",
    "| 🔧 **Método**         | 📘 **Descrição**                          | 🧪 **Exemplo**                         |\n",
    "|-----------------------|-------------------------------------------|----------------------------------------|\n",
    "| `.append(x)`          | Adiciona `x` ao final da lista            | `lista.append(5)`                      |\n",
    "| `.insert(i, x)`       | Insere `x` na posição de índice `i`       | `lista.insert(1, \"novo\")`              |\n",
    "| `.remove(x)`          | Remove a primeira ocorrência de `x`       | `lista.remove(30)`                     |\n",
    "| `.pop([i])`           | Remove e retorna o item no índice `i`     | `ultimo = lista.pop()`                 |\n",
    "| `.sort()`             | Ordena a lista (modifica a original)      | `lista.sort(reverse=True)`             |\n",
    "| `.copy()`             | Cria uma cópia superficial da lista       | `nova = lista.copy()`                  |\n",
    "| `.reverse()`          | Inverte a ordem dos elementos in-place    | `lista.reverse()`                      |\n",
    "| `.index(x)`           | Retorna o índice da primeira ocorrência   | `lista.index('b')`                     |\n",
    "| `.count(x)`           | Conta ocorrências de `x` na lista         | `lista.count(2)`                       |\n",
    "| `.clear()`            | Remove todos os itens                     | `lista.clear()`                        |\n",
    "| `.extend(iterable)`   | Adiciona itens de um iterável             | `lista.extend([3, 4])`                 |\n",
    "\n",
    "\n",
    "#### 01. `.append(x)` - Adiciona elemento ao final"
   ]
  },
  {
   "cell_type": "code",
   "execution_count": 9,
   "id": "87d99ae5-cc54-4adc-b75c-2da5e5cb57b2",
   "metadata": {},
   "outputs": [
    {
     "name": "stdout",
     "output_type": "stream",
     "text": [
      "['maçã', 'banana', 'laranja']\n"
     ]
    }
   ],
   "source": [
    "frutas = ['maçã', 'banana']\n",
    "frutas.append('laranja')\n",
    "print(frutas)  # ['maçã', 'banana', 'laranja']"
   ]
  },
  {
   "cell_type": "markdown",
   "id": "0da824b9-742e-4a34-ada1-9fcd0d0e467a",
   "metadata": {},
   "source": [
    "#### 02. `.insert(i, x)` - Insere em posição específica"
   ]
  },
  {
   "cell_type": "code",
   "execution_count": 10,
   "id": "a07fbea9-ec36-4e7b-97d9-be3eea90a3c3",
   "metadata": {},
   "outputs": [
    {
     "name": "stdout",
     "output_type": "stream",
     "text": [
      "[10, 20, 30]\n"
     ]
    }
   ],
   "source": [
    "numeros = [10, 30]\n",
    "numeros.insert(1, 20)  # Insere 20 no índice 1\n",
    "print(numeros)  # [10, 20, 30]"
   ]
  },
  {
   "cell_type": "markdown",
   "id": "215c9d8c-178d-4dd2-bf85-b5e4ba730c70",
   "metadata": {},
   "source": [
    "#### 03. `.remove(x)` - Remove primeira ocorrência\n",
    "\n"
   ]
  },
  {
   "cell_type": "code",
   "execution_count": 11,
   "id": "ae99e74f-d813-4e95-9a86-a31bbc3d29fa",
   "metadata": {},
   "outputs": [
    {
     "name": "stdout",
     "output_type": "stream",
     "text": [
      "['azul', 'verde', 'vermelho']\n"
     ]
    }
   ],
   "source": [
    "cores = ['azul', 'vermelho', 'verde', 'vermelho']\n",
    "cores.remove('vermelho')\n",
    "print(cores)  # ['azul', 'verde', 'vermelho']"
   ]
  },
  {
   "cell_type": "markdown",
   "id": "49a93174-0eab-4dcf-b528-736af39beec0",
   "metadata": {},
   "source": [
    "#### 04. `.pop([i])` - Remove e retorna elemento"
   ]
  },
  {
   "cell_type": "code",
   "execution_count": 12,
   "id": "c5d3b904-061d-4c8d-a767-552a089b5ae3",
   "metadata": {},
   "outputs": [
    {
     "name": "stdout",
     "output_type": "stream",
     "text": [
      "['a'] c b\n"
     ]
    }
   ],
   "source": [
    "letras = ['a', 'b', 'c']\n",
    "ultima = letras.pop()    # Remove o último\n",
    "\n",
    "segunda = letras.pop(1)  # Remove do índice 1\n",
    "print(letras, ultima, segunda)  # ['a'] 'c' 'b'"
   ]
  },
  {
   "cell_type": "markdown",
   "id": "567682c5-fc32-419c-aba1-66a22f0ccdfb",
   "metadata": {},
   "source": [
    "### 🔄 Métodos de Ordenação\n",
    "#### 05. `.sort()` - Ordena in-place"
   ]
  },
  {
   "cell_type": "code",
   "execution_count": 13,
   "id": "c8d8024e-2fa7-4a2d-b8bc-29421a187e62",
   "metadata": {},
   "outputs": [
    {
     "name": "stdout",
     "output_type": "stream",
     "text": [
      "[1, 2, 3, 4]\n",
      "[4, 3, 2, 1]\n"
     ]
    }
   ],
   "source": [
    "valores = [3, 1, 4, 2]\n",
    "valores.sort()\n",
    "print(valores)  # [1, 2, 3, 4]\n",
    "\n",
    "# Ordem decrescente\n",
    "valores.sort(reverse=True)\n",
    "print(valores)  # [4, 3, 2, 1]"
   ]
  },
  {
   "cell_type": "markdown",
   "id": "f3b3dc12-f6d3-48d8-8890-1e5cdd70bf4c",
   "metadata": {},
   "source": [
    "\n",
    "#### 06. `.copy()` - Cria cópia superficial"
   ]
  },
  {
   "cell_type": "code",
   "execution_count": 17,
   "id": "01d8d7f5-0b79-47b8-85f8-aad8f51d0c43",
   "metadata": {},
   "outputs": [
    {
     "name": "stdout",
     "output_type": "stream",
     "text": [
      "[1, [9, 3]]\n"
     ]
    }
   ],
   "source": [
    "original = [1, [2, 3]]\n",
    "copia = original.copy()\n",
    "copia[1][0] = 9\n",
    "print(original)  # [1, [9, 3]] (cuidado com listas aninhadas)"
   ]
  },
  {
   "cell_type": "markdown",
   "id": "ec683762-ef0e-41d8-9ed3-763d8e2a56eb",
   "metadata": {},
   "source": [
    "#### 07. `.reverse()` - Inverte a ordem"
   ]
  },
  {
   "cell_type": "code",
   "execution_count": 14,
   "id": "0f154b81-0161-44eb-8bbf-9dba4adb3004",
   "metadata": {},
   "outputs": [
    {
     "name": "stdout",
     "output_type": "stream",
     "text": [
      "[3, 2, 1]\n"
     ]
    }
   ],
   "source": [
    "lista = [1, 2, 3]\n",
    "lista.reverse()\n",
    "print(lista)  # [3, 2, 1]"
   ]
  },
  {
   "cell_type": "markdown",
   "id": "2937eba7-c053-4f21-ac2f-939a28ccd6fc",
   "metadata": {},
   "source": [
    "#### 08. `.index(x)` - Retorna índice do elemento"
   ]
  },
  {
   "cell_type": "code",
   "execution_count": 20,
   "id": "249193e5-b04a-4a59-9e39-d65dc3078827",
   "metadata": {},
   "outputs": [
    {
     "name": "stdout",
     "output_type": "stream",
     "text": [
      "2\n"
     ]
    }
   ],
   "source": [
    "vogais = ['a', 'e', 'i', 'o', 'u']\n",
    "print(vogais.index('i'))  # 2"
   ]
  },
  {
   "cell_type": "markdown",
   "id": "5298ae90-f4a1-4422-a219-f8fe6e5e8e65",
   "metadata": {},
   "source": [
    "#### 09. `.count(x)` - Conta ocorrências"
   ]
  },
  {
   "cell_type": "code",
   "execution_count": 21,
   "id": "3ad82ae9-3690-486c-a4ac-ec26543b7a65",
   "metadata": {},
   "outputs": [
    {
     "name": "stdout",
     "output_type": "stream",
     "text": [
      "3\n"
     ]
    }
   ],
   "source": [
    "dados = [1, 2, 2, 3, 2, 4]\n",
    "print(dados.count(2))  # 3"
   ]
  },
  {
   "cell_type": "markdown",
   "id": "304f1446-be31-41d4-a7da-6f22fa4fdd64",
   "metadata": {},
   "source": [
    "#### 10. `.clear()` - Limpa a lista"
   ]
  },
  {
   "cell_type": "code",
   "execution_count": 22,
   "id": "26624469-2959-4009-b3d9-8d45ca4d8cb8",
   "metadata": {},
   "outputs": [
    {
     "name": "stdout",
     "output_type": "stream",
     "text": [
      "[]\n"
     ]
    }
   ],
   "source": [
    "itens = ['livro', 'caneta', 'caderno']\n",
    "itens.clear()\n",
    "print(itens)  # []"
   ]
  },
  {
   "cell_type": "markdown",
   "id": "b5ab6a2b-304f-4466-952b-63ccc4702d13",
   "metadata": {},
   "source": [
    "#### 11. `.extend(iterable)` - Concatena iteráveis"
   ]
  },
  {
   "cell_type": "code",
   "execution_count": 23,
   "id": "8ba8d8fe-ad44-4036-b777-f895ac5a1bc1",
   "metadata": {},
   "outputs": [
    {
     "name": "stdout",
     "output_type": "stream",
     "text": [
      "[1, 2, 3, 4]\n"
     ]
    }
   ],
   "source": [
    "lista1 = [1, 2]\n",
    "lista2 = [3, 4]\n",
    "lista1.extend(lista2)\n",
    "print(lista1)  # [1, 2, 3, 4]"
   ]
  },
  {
   "cell_type": "markdown",
   "id": "cd103a4f-9472-4e42-959a-6bec43e0e351",
   "metadata": {},
   "source": [
    "## 📚 Funções para Trabalhar com Listas em Python\n",
    "\n",
    "### 📌 Principais Funções Built-in\n",
    "\n",
    "#### 🔢 Funções Básicas\n",
    "\n",
    "| 🧠 **Função** | 📘 **Descrição**             | 🧪 **Exemplo**           | 🎯 **Saída** |\n",
    "|---------------|------------------------------|---------------------------|--------------|\n",
    "| `len()`       | Retorna tamanho da lista     | `len([1, 2, 3])`          | `3`          |\n",
    "| `max()`       | Retorna maior elemento       | `max([4, 1, 7])`          | `7`          |\n",
    "| `min()`       | Retorna menor elemento       | `min([\"a\", \"b\"])`         | `\"a\"`        |\n",
    "| `sum()`       | Soma elementos numéricos     | `sum([1.5, 2, 3])`        | `6.5`        |\n",
    "\n",
    "#### 🔄 Funções de Transformação\n",
    "\n",
    "| 🧠 **Função**     | 📘 **Descrição**                     | 🧪 **Exemplo**                  | 🎯 **Saída**     |\n",
    "|------------------|--------------------------------------|----------------------------------|------------------|\n",
    "| `sorted()`       | Retorna lista ordenada               | `sorted([3, 1, 2])`              | `[1, 2, 3]`      |\n",
    "| `reversed()`     | Inverte a ordem (retorna iterador)   | `list(reversed([1, 2]))`         | `[2, 1]`         |\n",
    "| `enumerate()`    | Gera pares (índice, valor)           | `list(enumerate([\"a\"]))`         | `[(0, 'a')]`     |\n",
    "| `zip()`          | Combina múltiplas listas             | `list(zip([1], [\"a\"]))`          | `[(1, 'a')]`     |\n",
    "\n",
    "### 💡 Exemplos Detalhados\n",
    "\n",
    "#### 1. `len()` - Tamanho da Lista\n",
    "**O que faz?**  \n",
    "Retorna o número de elementos na lista.\n",
    "\n",
    "**Detalhes:**\n",
    "- Funciona com qualquer iterável (listas, tuplas, strings)\n",
    "- Complexidade: O(1)\n",
    "\n",
    "**Exemplo:**\n",
    "```python\n",
    "lista = [10, 20, 30]\n",
    "print(len(lista))  # Saída: 3"
   ]
  },
  {
   "cell_type": "markdown",
   "id": "e94a077f-e75b-496b-8a28-42f10a029dc1",
   "metadata": {},
   "source": [
    "#### 2. `max()` - Maior Valor\n",
    "##### O que faz?\n",
    "Retorna o elemento de maior valor.  \n",
    "##### Detalhes:  \n",
    "- Para números: compara valores  \n",
    "- Para strings: compara ordem alfabética  \n",
    "- Não funciona com tipos mistos  \n",
    "##### Exemplo:"
   ]
  },
  {
   "cell_type": "code",
   "execution_count": null,
   "id": "5427ce54-9398-436f-9dbb-fcb463a17a85",
   "metadata": {},
   "outputs": [],
   "source": [
    "numeros = [15, 7, 23]\n",
    "print(max(numeros))  # Saída: 23\n",
    "\n",
    "letras = ['z', 'a', 'm']\n",
    "print(max(letras))   # Saída: 'z'"
   ]
  },
  {
   "cell_type": "markdown",
   "id": "cdfcd2c8-a180-4b68-ad03-427e5d725514",
   "metadata": {},
   "source": [
    "#### 3. `min()` - Menor Valor\n",
    "##### O que faz?\n",
    "Retorna o elemento de menor valor.  \n",
    "##### Detalhes:  \n",
    "- Mesmo comportamento que max(), mas para mínimo  \n",
    "- Requer elementos comparáveis  \n",
    "##### Exemplo:"
   ]
  },
  {
   "cell_type": "code",
   "execution_count": null,
   "id": "be0b5ac3-ac66-4971-a246-04e6885e14ea",
   "metadata": {},
   "outputs": [],
   "source": [
    "precos = [19.90, 8.50, 35.20]\n",
    "print(min(precos))  # Saída: 8.5"
   ]
  },
  {
   "cell_type": "markdown",
   "id": "0ad5523a-ac23-4e0f-9318-ec624ffba0db",
   "metadata": {},
   "source": [
    "#### 4. `sum()` - Soma de Elementos\n",
    "##### O que faz?\n",
    "Soma todos os elementos numéricos.  \n",
    "##### Detalhes:  \n",
    "- Aceita parâmetro start para valor inicial  \n",
    "- Só funciona com números  \n",
    "##### Exemplo:"
   ]
  },
  {
   "cell_type": "code",
   "execution_count": null,
   "id": "6284bbb2-ba63-4080-a266-ce1bd682e9b8",
   "metadata": {},
   "outputs": [],
   "source": [
    "valores = [1, 2.5, 3]\n",
    "print(sum(valores))          # Saída: 6.5\n",
    "print(sum(valores, 10))      # Saída: 16.5 (10 + 6.5)"
   ]
  },
  {
   "cell_type": "markdown",
   "id": "60beb3b4-9360-47b6-a6c1-27ca688f5fd9",
   "metadata": {},
   "source": [
    "### 🔄 Funções de Transformação\n",
    "#### 1. `sorted()` - Ordenação\n",
    "##### O que faz?\n",
    "Retorna nova lista ordenada.  \n",
    "##### Parâmetros:  \n",
    "- key: função para definir critério de ordenação  \n",
    "- reverse: ordem decrescente\n",
    "##### Exemplo:"
   ]
  },
  {
   "cell_type": "code",
   "execution_count": null,
   "id": "177eb9c6-ce8d-4fca-825b-ed530ccb607b",
   "metadata": {},
   "outputs": [],
   "source": [
    "numeros = [3, 1, 4, 2]\n",
    "print(sorted(numeros))               # [1, 2, 3, 4]\n",
    "print(sorted(numeros, reverse=True)) # [4, 3, 2, 1]\n",
    "\n",
    "pessoas = [('Ana', 30), ('João', 25)]\n",
    "print(sorted(pessoas, key=lambda x: x[1]))  # Ordena por idade: [('João', 25), ('Ana', 30)]"
   ]
  },
  {
   "cell_type": "markdown",
   "id": "1003fdd1-03d6-4e10-853e-9888729092c5",
   "metadata": {},
   "source": [
    "#### 2. `reversed()` - Inversão\n",
    "##### O que faz?\n",
    "Retorna iterador com elementos na ordem inversa.  \n",
    "##### Detalhes:  \n",
    "- Precisa ser convertido para lista  \n",
    "- Não modifica a lista original  \n",
    "##### Exemplo:"
   ]
  },
  {
   "cell_type": "code",
   "execution_count": null,
   "id": "cb6934d9-8483-43b0-9df4-ccc238ad8eec",
   "metadata": {},
   "outputs": [],
   "source": [
    "lista = [1, 2, 3]\n",
    "invertida = list(reversed(lista))\n",
    "print(invertida)  # [3, 2, 1]"
   ]
  },
  {
   "cell_type": "markdown",
   "id": "21ec4c02-a0c5-4fa2-a385-e16d22fbc6f5",
   "metadata": {},
   "source": [
    "#### 3. `enumerate()` - Índices e Valores\n",
    "##### O que faz?\n",
    "Retorna pares (índice, valor).  \n",
    "##### Parâmetro:  \n",
    "- start: número inicial para contagem  \n",
    "##### Exemplo:"
   ]
  },
  {
   "cell_type": "code",
   "execution_count": null,
   "id": "f9afe95a-3da2-44c2-8977-e772486f2979",
   "metadata": {},
   "outputs": [],
   "source": [
    "frutas = ['maçã', 'banana', 'uva']\n",
    "for indice, fruta in enumerate(frutas, start=1):\n",
    "    print(f\"{indice}. {fruta}\")\n",
    "\n",
    "# Saída:\n",
    "# 1. maçã\n",
    "# 2. banana\n",
    "# 3. uva"
   ]
  },
  {
   "cell_type": "markdown",
   "id": "7cfae085-3cf6-463e-815c-472ba803594f",
   "metadata": {},
   "source": [
    "#### 4. `zip()` - Combinação\n",
    "##### O que faz?\n",
    "Agrupa elementos de múltiplos iteráveis.  \n",
    "##### Detalhes:  \n",
    "Para quando o menor iterável acabar  \n",
    "Pode descompactar com *  \n",
    "##### Exemplo:"
   ]
  },
  {
   "cell_type": "code",
   "execution_count": null,
   "id": "0ba1cfa7-7954-4259-88d8-c5196583c66c",
   "metadata": {},
   "outputs": [],
   "source": [
    "nomes = ['Ana', 'João']\n",
    "idades = [25, 30]\n",
    "\n",
    "# Combinação simples\n",
    "for nome, idade in zip(nomes, idades):\n",
    "    print(f\"{nome} tem {idade} anos\")\n",
    "\n",
    "# Descompactação\n",
    "pares = list(zip(nomes, idades))\n",
    "print(pares)  # [('Ana', 25), ('João', 30)]\n",
    "nomes_novos, idades_novas = zip(*pares)"
   ]
  },
  {
   "cell_type": "markdown",
   "id": "77f330c5-007f-4089-ba9f-a388b7120a00",
   "metadata": {},
   "source": [
    "### ⚠️ Armadilhas Comuns\n",
    "##### 1.`sum()` com strings:"
   ]
  },
  {
   "cell_type": "code",
   "execution_count": null,
   "id": "a4f750bb-01f4-4422-b323-1ec32a67f1fe",
   "metadata": {},
   "outputs": [],
   "source": [
    "sum([\"a\", \"b\"])  # TypeError!"
   ]
  },
  {
   "cell_type": "markdown",
   "id": "23ef7ce1-f753-4210-af3a-37773894fda1",
   "metadata": {},
   "source": [
    "##### 2.`zip()` com tamanhos diferentes:"
   ]
  },
  {
   "cell_type": "markdown",
   "id": "389bbfb9-53f7-4a56-b131-b49afc7a6e38",
   "metadata": {},
   "source": [
    "##### 3.`sorted()` vs .sort():"
   ]
  },
  {
   "cell_type": "code",
   "execution_count": null,
   "id": "e35746bd-1fd4-40c3-babc-48d201a13fdb",
   "metadata": {},
   "outputs": [],
   "source": [
    "lista = [3, 1, 2]\n",
    "nova = sorted(lista)  # Não modifica original\n",
    "lista.sort()          # Modifica original"
   ]
  },
  {
   "cell_type": "markdown",
   "id": "b6a55ba1-5910-460b-9f64-7ceedd7fbbe3",
   "metadata": {},
   "source": [
    "### 🏆 Melhores Práticas\n",
    "##### 1.Prefira `enumerate` a `range+len`:"
   ]
  },
  {
   "cell_type": "code",
   "execution_count": null,
   "id": "6b9e49cd-a4ba-416d-a40d-42c3fd72e273",
   "metadata": {},
   "outputs": [],
   "source": [
    "# Ruim\n",
    "for i in range(len(lista)):\n",
    "    print(lista[i])\n",
    "\n",
    "# Bom\n",
    "for i, item in enumerate(lista):\n",
    "    print(item)"
   ]
  },
  {
   "cell_type": "markdown",
   "id": "78838f18-9e3d-4806-a1a8-3850ebc93ffd",
   "metadata": {},
   "source": [
    "##### 2.Use `zip` para loops paralelos:"
   ]
  },
  {
   "cell_type": "code",
   "execution_count": null,
   "id": "f01015e3-40f5-4a5f-a7dc-6d1e1a58fbd5",
   "metadata": {},
   "outputs": [],
   "source": [
    "# Ruim\n",
    "for i in range(min(len(nomes), len(idades))):\n",
    "    print(nomes[i], idades[i])\n",
    "\n",
    "# Bom\n",
    "for nome, idade in zip(nomes, idades):\n",
    "    print(nome, idade)"
   ]
  },
  {
   "cell_type": "markdown",
   "id": "4f54b9a0-30e1-4328-bb62-1921cf0f908c",
   "metadata": {},
   "source": [
    "##### 3.`sorted` para dados imutáveis:"
   ]
  },
  {
   "cell_type": "code",
   "execution_count": null,
   "id": "2f156a66-a029-41fe-bf28-f1aea1488447",
   "metadata": {},
   "outputs": [],
   "source": [
    "tupla = (3, 1, 2)\n",
    "ordenada = sorted(tupla)  # Retorna lista [1, 2, 3]"
   ]
  }
 ],
 "metadata": {
  "kernelspec": {
   "display_name": "Python [conda env:base] *",
   "language": "python",
   "name": "conda-base-py"
  },
  "language_info": {
   "codemirror_mode": {
    "name": "ipython",
    "version": 3
   },
   "file_extension": ".py",
   "mimetype": "text/x-python",
   "name": "python",
   "nbconvert_exporter": "python",
   "pygments_lexer": "ipython3",
   "version": "3.12.7"
  }
 },
 "nbformat": 4,
 "nbformat_minor": 5
}
