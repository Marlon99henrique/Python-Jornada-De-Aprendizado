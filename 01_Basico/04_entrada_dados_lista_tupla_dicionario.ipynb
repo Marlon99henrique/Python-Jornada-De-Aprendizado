{
 "cells": [
  {
   "cell_type": "markdown",
   "id": "c84b9ddd-149d-4f49-8575-eea1750f60e2",
   "metadata": {},
   "source": [
    "# 📥 Entrada de Dados e Estruturas Básicas\n",
    "\n",
    "## 1. Capturando Dados com `input()`\n",
    "### 📌 O que faz?\n",
    "Permite que o usuário insira dados durante a execução do programa.\n",
    "\n",
    "### 🖥️ Sintaxe Básica\n",
    "```python\n",
    "variavel = input(\"Mensagem ao usuário: \")\n"
   ]
  },
  {
   "cell_type": "markdown",
   "id": "1749de3f-d574-442f-a678-fd91acef7eb8",
   "metadata": {},
   "source": [
    "### 💡 Exemplo Prático"
   ]
  },
  {
   "cell_type": "code",
   "execution_count": 1,
   "id": "e0e991a5-07c3-40d2-a6cd-2f7fc0d84a47",
   "metadata": {},
   "outputs": [
    {
     "name": "stdin",
     "output_type": "stream",
     "text": [
      "Digite seu nome:  marlon\n",
      "Digite sua idade:  32\n"
     ]
    },
    {
     "name": "stdout",
     "output_type": "stream",
     "text": [
      "Olá marlon! Você tem 32 anos.\n"
     ]
    }
   ],
   "source": [
    "nome = input(\"Digite seu nome: \")\n",
    "idade = int(input(\"Digite sua idade: \"))  # Convertendo para número\n",
    "\n",
    "print(f\"Olá {nome}! Você tem {idade} anos.\")"
   ]
  },
  {
   "cell_type": "markdown",
   "id": "44fff529-6b09-4489-b0ab-69b5eb4f2763",
   "metadata": {},
   "source": [
    "### ⚠️ Cuidados\n",
    "- Sempre o tipo de varial va iser uma string quando o usuario colocar os dados\n",
    "- Sempre converta o input quando necessário (int(), float())  \n",
    "- Trate erros (veremos depois em \"Tratamento de Exceções, no funções\")"
   ]
  },
  {
   "cell_type": "markdown",
   "id": "914687b6-6473-4dac-845d-9c9bac7b6ae0",
   "metadata": {},
   "source": [
    "## 📚 Listas em Python: Guia Completo\n",
    "### 1. O que são Listas?\n",
    "- Estrutura: Coleção ordenada, mutável e heterogênea de elementos.  \n",
    "- Sintaxe: Delimitada por colchetes [], com elementos separados por vírgulas.  \n",
    "#### - Exemplo:"
   ]
  },
  {
   "cell_type": "code",
   "execution_count": 4,
   "id": "bc1528b4-c9ee-4018-bff6-ff753db533ae",
   "metadata": {},
   "outputs": [],
   "source": [
    "lista = [1, \"Python\", 3.14, True]  # Aceita diferentes tipos"
   ]
  },
  {
   "cell_type": "markdown",
   "id": "f8ef4ebd-35fb-47dd-a11f-5ec61a219fe9",
   "metadata": {},
   "source": [
    "### 2. Anatomia de uma Lista\n",
    "#### 🔍 Índices e Acesso\n",
    "##### -Indexação: Cada elemento tem um índice numérico (começa em 0)."
   ]
  },
  {
   "cell_type": "code",
   "execution_count": 8,
   "id": "28fc9d8b-7631-4f59-a4e6-5a1da6105602",
   "metadata": {},
   "outputs": [
    {
     "name": "stdout",
     "output_type": "stream",
     "text": [
      "10\n",
      "40\n",
      "40\n"
     ]
    }
   ],
   "source": [
    "numeros = [10, 20, 30, 40]\n",
    "print(numeros[0])  # 10 (primeiro elemento)\n",
    "print(numeros[3])  # 40 (último elemento)\n",
    "print(numeros[-1])  # 40 (último elemento)\n",
    "# index de uma lista é visto por [], e o elemento dentro, o indice vai de 0 até o ultimo indice da lista,\n",
    "# nesta lista tem 4 elementos, onde começa no index 0,\n",
    "# se chamar o index por numero negativo [-1], ele vai começar da direta para a esquerda"
   ]
  },
  {
   "cell_type": "markdown",
   "id": "32f566e1-e465-45cf-a397-367e203acd47",
   "metadata": {},
   "source": [
    "### 3. Operações Essenciais\n",
    "### 🧰 Métodos de Listas em Python - Tabela Completa\n",
    "\n",
    "## 🧰 Métodos de Lista em Python\n",
    "\n",
    "| 🔧 **Método**         | 📘 **Descrição**                          | 🧪 **Exemplo**                         |\n",
    "|-----------------------|-------------------------------------------|----------------------------------------|\n",
    "| `.append(x)`          | Adiciona `x` ao final da lista            | `lista.append(5)`                      |\n",
    "| `.insert(i, x)`       | Insere `x` na posição de índice `i`       | `lista.insert(1, \"novo\")`              |\n",
    "| `.remove(x)`          | Remove a primeira ocorrência de `x`       | `lista.remove(30)`                     |\n",
    "| `.pop([i])`           | Remove e retorna o item no índice `i`     | `ultimo = lista.pop()`                 |\n",
    "| `.sort()`             | Ordena a lista (modifica a original)      | `lista.sort(reverse=True)`             |\n",
    "| `.copy()`             | Cria uma cópia superficial da lista       | `nova = lista.copy()`                  |\n",
    "| `.reverse()`          | Inverte a ordem dos elementos in-place    | `lista.reverse()`                      |\n",
    "| `.index(x)`           | Retorna o índice da primeira ocorrência   | `lista.index('b')`                     |\n",
    "| `.count(x)`           | Conta ocorrências de `x` na lista         | `lista.count(2)`                       |\n",
    "| `.clear()`            | Remove todos os itens                     | `lista.clear()`                        |\n",
    "| `.extend(iterable)`   | Adiciona itens de um iterável             | `lista.extend([3, 4])`                 |\n",
    "\n",
    "\n",
    "#### 01. `.append(x)` - Adiciona elemento ao final"
   ]
  },
  {
   "cell_type": "code",
   "execution_count": 9,
   "id": "87d99ae5-cc54-4adc-b75c-2da5e5cb57b2",
   "metadata": {},
   "outputs": [
    {
     "name": "stdout",
     "output_type": "stream",
     "text": [
      "['maçã', 'banana', 'laranja']\n"
     ]
    }
   ],
   "source": [
    "frutas = ['maçã', 'banana']\n",
    "frutas.append('laranja')\n",
    "print(frutas)  # ['maçã', 'banana', 'laranja']"
   ]
  },
  {
   "cell_type": "markdown",
   "id": "0da824b9-742e-4a34-ada1-9fcd0d0e467a",
   "metadata": {},
   "source": [
    "#### 02. `.insert(i, x)` - Insere em posição específica"
   ]
  },
  {
   "cell_type": "code",
   "execution_count": 10,
   "id": "a07fbea9-ec36-4e7b-97d9-be3eea90a3c3",
   "metadata": {},
   "outputs": [
    {
     "name": "stdout",
     "output_type": "stream",
     "text": [
      "[10, 20, 30]\n"
     ]
    }
   ],
   "source": [
    "numeros = [10, 30]\n",
    "numeros.insert(1, 20)  # Insere 20 no índice 1\n",
    "print(numeros)  # [10, 20, 30]"
   ]
  },
  {
   "cell_type": "markdown",
   "id": "215c9d8c-178d-4dd2-bf85-b5e4ba730c70",
   "metadata": {},
   "source": [
    "#### 03. `.remove(x)` - Remove primeira ocorrência\n",
    "\n"
   ]
  },
  {
   "cell_type": "code",
   "execution_count": 11,
   "id": "ae99e74f-d813-4e95-9a86-a31bbc3d29fa",
   "metadata": {},
   "outputs": [
    {
     "name": "stdout",
     "output_type": "stream",
     "text": [
      "['azul', 'verde', 'vermelho']\n"
     ]
    }
   ],
   "source": [
    "cores = ['azul', 'vermelho', 'verde', 'vermelho']\n",
    "cores.remove('vermelho')\n",
    "print(cores)  # ['azul', 'verde', 'vermelho']"
   ]
  },
  {
   "cell_type": "markdown",
   "id": "49a93174-0eab-4dcf-b528-736af39beec0",
   "metadata": {},
   "source": [
    "#### 04. `.pop([i])` - Remove e retorna elemento"
   ]
  },
  {
   "cell_type": "code",
   "execution_count": 12,
   "id": "c5d3b904-061d-4c8d-a767-552a089b5ae3",
   "metadata": {},
   "outputs": [
    {
     "name": "stdout",
     "output_type": "stream",
     "text": [
      "['a'] c b\n"
     ]
    }
   ],
   "source": [
    "letras = ['a', 'b', 'c']\n",
    "ultima = letras.pop()    # Remove o último\n",
    "\n",
    "segunda = letras.pop(1)  # Remove do índice 1\n",
    "print(letras, ultima, segunda)  # ['a'] 'c' 'b'"
   ]
  },
  {
   "cell_type": "markdown",
   "id": "567682c5-fc32-419c-aba1-66a22f0ccdfb",
   "metadata": {},
   "source": [
    "### 🔄 Métodos de Ordenação\n",
    "#### 05. `.sort()` - Ordena in-place"
   ]
  },
  {
   "cell_type": "code",
   "execution_count": 13,
   "id": "c8d8024e-2fa7-4a2d-b8bc-29421a187e62",
   "metadata": {},
   "outputs": [
    {
     "name": "stdout",
     "output_type": "stream",
     "text": [
      "[1, 2, 3, 4]\n",
      "[4, 3, 2, 1]\n"
     ]
    }
   ],
   "source": [
    "valores = [3, 1, 4, 2]\n",
    "valores.sort()\n",
    "print(valores)  # [1, 2, 3, 4]\n",
    "\n",
    "# Ordem decrescente\n",
    "valores.sort(reverse=True)\n",
    "print(valores)  # [4, 3, 2, 1]"
   ]
  },
  {
   "cell_type": "markdown",
   "id": "f3b3dc12-f6d3-48d8-8890-1e5cdd70bf4c",
   "metadata": {},
   "source": [
    "\n",
    "#### 06. `.copy()` - Cria cópia superficial"
   ]
  },
  {
   "cell_type": "code",
   "execution_count": 17,
   "id": "01d8d7f5-0b79-47b8-85f8-aad8f51d0c43",
   "metadata": {},
   "outputs": [
    {
     "name": "stdout",
     "output_type": "stream",
     "text": [
      "[1, [9, 3]]\n"
     ]
    }
   ],
   "source": [
    "original = [1, [2, 3]]\n",
    "copia = original.copy()\n",
    "copia[1][0] = 9\n",
    "print(original)  # [1, [9, 3]] (cuidado com listas aninhadas)"
   ]
  },
  {
   "cell_type": "markdown",
   "id": "ec683762-ef0e-41d8-9ed3-763d8e2a56eb",
   "metadata": {},
   "source": [
    "#### 07. `.reverse()` - Inverte a ordem"
   ]
  },
  {
   "cell_type": "code",
   "execution_count": 14,
   "id": "0f154b81-0161-44eb-8bbf-9dba4adb3004",
   "metadata": {},
   "outputs": [
    {
     "name": "stdout",
     "output_type": "stream",
     "text": [
      "[3, 2, 1]\n"
     ]
    }
   ],
   "source": [
    "lista = [1, 2, 3]\n",
    "lista.reverse()\n",
    "print(lista)  # [3, 2, 1]"
   ]
  },
  {
   "cell_type": "markdown",
   "id": "2937eba7-c053-4f21-ac2f-939a28ccd6fc",
   "metadata": {},
   "source": [
    "#### 08. `.index(x)` - Retorna índice do elemento"
   ]
  },
  {
   "cell_type": "code",
   "execution_count": 20,
   "id": "249193e5-b04a-4a59-9e39-d65dc3078827",
   "metadata": {},
   "outputs": [
    {
     "name": "stdout",
     "output_type": "stream",
     "text": [
      "2\n"
     ]
    }
   ],
   "source": [
    "vogais = ['a', 'e', 'i', 'o', 'u']\n",
    "print(vogais.index('i'))  # 2"
   ]
  },
  {
   "cell_type": "markdown",
   "id": "5298ae90-f4a1-4422-a219-f8fe6e5e8e65",
   "metadata": {},
   "source": [
    "#### 09. `.count(x)` - Conta ocorrências"
   ]
  },
  {
   "cell_type": "code",
   "execution_count": 21,
   "id": "3ad82ae9-3690-486c-a4ac-ec26543b7a65",
   "metadata": {},
   "outputs": [
    {
     "name": "stdout",
     "output_type": "stream",
     "text": [
      "3\n"
     ]
    }
   ],
   "source": [
    "dados = [1, 2, 2, 3, 2, 4]\n",
    "print(dados.count(2))  # 3"
   ]
  },
  {
   "cell_type": "markdown",
   "id": "304f1446-be31-41d4-a7da-6f22fa4fdd64",
   "metadata": {},
   "source": [
    "#### 10. `.clear()` - Limpa a lista"
   ]
  },
  {
   "cell_type": "code",
   "execution_count": 22,
   "id": "26624469-2959-4009-b3d9-8d45ca4d8cb8",
   "metadata": {},
   "outputs": [
    {
     "name": "stdout",
     "output_type": "stream",
     "text": [
      "[]\n"
     ]
    }
   ],
   "source": [
    "itens = ['livro', 'caneta', 'caderno']\n",
    "itens.clear()\n",
    "print(itens)  # []"
   ]
  },
  {
   "cell_type": "markdown",
   "id": "b5ab6a2b-304f-4466-952b-63ccc4702d13",
   "metadata": {},
   "source": [
    "#### 11. `.extend(iterable)` - Concatena iteráveis"
   ]
  },
  {
   "cell_type": "code",
   "execution_count": 23,
   "id": "8ba8d8fe-ad44-4036-b777-f895ac5a1bc1",
   "metadata": {},
   "outputs": [
    {
     "name": "stdout",
     "output_type": "stream",
     "text": [
      "[1, 2, 3, 4]\n"
     ]
    }
   ],
   "source": [
    "lista1 = [1, 2]\n",
    "lista2 = [3, 4]\n",
    "lista1.extend(lista2)\n",
    "print(lista1)  # [1, 2, 3, 4]"
   ]
  },
  {
   "cell_type": "markdown",
   "id": "cd103a4f-9472-4e42-959a-6bec43e0e351",
   "metadata": {},
   "source": [
    "## 📌 Funções Úteis (não são métodos)\n",
    "\n",
    "| 🧠 **Função**         | 📘 **Descrição**                          | 🧪 **Exemplo**                         |\n",
    "|-----------------------|-------------------------------------------|----------------------------------------|\n",
    "| `len()`               | Retorna o tamanho da lista                | `len(lista)`                           |\n",
    "| `max()`               | Retorna o maior elemento                  | `max(lista)`                           |\n",
    "| `min()`               | Retorna o menor elemento                  | `min(lista)`                           |\n",
    "| `sum()`               | Soma elementos numéricos                  | `sum(lista)`                           |\n",
    "| `sorted()`            | Retorna nova lista ordenada               | `nova = sorted(lista, reverse=True)`   |\n",
    "| `reversed()`          | Retorna iterador invertido                | `invertida = list(reversed(lista))`    |\n",
    "| `enumerate()`         | Retorna pares (índice, valor)             | `for i, v in enumerate(lista):`        |\n",
    "| `zip()`               | Combina múltiplas listas                  | `for a, b in zip(lista1, lista2):`     |"
   ]
  },
  {
   "cell_type": "code",
   "execution_count": null,
   "id": "5fb998bf-7a21-4346-8d43-05bb1011e077",
   "metadata": {},
   "outputs": [],
   "source": []
  }
 ],
 "metadata": {
  "kernelspec": {
   "display_name": "Python [conda env:base] *",
   "language": "python",
   "name": "conda-base-py"
  },
  "language_info": {
   "codemirror_mode": {
    "name": "ipython",
    "version": 3
   },
   "file_extension": ".py",
   "mimetype": "text/x-python",
   "name": "python",
   "nbconvert_exporter": "python",
   "pygments_lexer": "ipython3",
   "version": "3.12.7"
  }
 },
 "nbformat": 4,
 "nbformat_minor": 5
}
