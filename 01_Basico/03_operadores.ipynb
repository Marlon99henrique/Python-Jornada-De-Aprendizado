{
 "cells": [
  {
   "cell_type": "markdown",
   "id": "e8a90467-4d95-400f-9209-2a435cf6527f",
   "metadata": {},
   "source": [
    "# 📌 03 - Operadores em Python  \n",
    "\n",
    "Neste notebook/aula, vamos explorar os principais tipos de operadores em Python, desde os mais simples até os mais avançados. Alguns conteúdos ainda não vimos, mas não se preocupe: vou explicando tudo conforme aparecer algo novo. "
   ]
  },
  {
   "cell_type": "markdown",
   "id": "6cd43500-9677-4648-aea8-c35e5c761f2d",
   "metadata": {},
   "source": [
    " \n",
    "- 🔢 Aritméticos  \n",
    "- ⚖️ Comparação (relacionais)  \n",
    "- 🧠 Lógicos  \n",
    "- ➡️ Atribuição  \n",
    "- 🆔 Identidade  \n",
    "- 🔍 Associação  "
   ]
  },
  {
   "cell_type": "markdown",
   "id": "02619edd-54ee-4bc1-ba07-d2530a85e12c",
   "metadata": {},
   "source": [
    "##  🔢 Operadores Aritméticos"
   ]
  },
  {
   "cell_type": "markdown",
   "id": "03f75198-9946-4431-a5ef-eae05626c7e8",
   "metadata": {},
   "source": [
    "### 📌 Sintaxe Básica:\n",
    "valor1 operador valor2\n"
   ]
  },
  {
   "cell_type": "markdown",
   "id": "fd251954-47b9-4cf4-b50e-23987992b393",
   "metadata": {},
   "source": [
    "### 📊 Tabela dos Operadores Fundamentais\n",
    "| Operador       | Símbolo | Exemplo | Resultado | Descrição                                  |\n",
    "|----------------|---------|---------|-----------|--------------------------------------------|\n",
    "| Adição         | +       | 5 + 3   | 8         | Soma dois valores                          |\n",
    "| Subtração      | -       | 10 - 4  | 6         | Subtrai o segundo valor                    |\n",
    "| Multiplicação  | *       | 7 * 2   | 14        | Multiplica valores                         |\n",
    "| Divisão        | /       | 15 / 3  | 5.0       | Divisão normal (retorna float)             |\n",
    "| Divisão Inteira| //      | 15 // 2 | 7         | Descarta a parte decimal                   |\n",
    "| Módulo         | %       | 15 % 2  | 1         | Resto da divisão                           |\n",
    "| Exponenciação  | **      | 2 ** 3  | 8         | Potência (2 elevado a 3)                   |\n"
   ]
  },
  {
   "cell_type": "markdown",
   "id": "dbe4f687-313b-43aa-ac84-dced1466d565",
   "metadata": {},
   "source": [
    "### 💡 Exemplos Práticos"
   ]
  },
  {
   "cell_type": "markdown",
   "id": "7bfea0fa-8562-44af-9068-f4530a67efa4",
   "metadata": {},
   "source": [
    "#### 1️⃣ Adição ( + )\n",
    "Adição é a operação matemática que soma dois ou mais valores.\n",
    "\n",
    "Cenário: Calcular o total de produtos em um carrinho de compras"
   ]
  },
  {
   "cell_type": "code",
   "execution_count": 60,
   "id": "fbd4c7f9-2ac2-4828-bc6b-221f17c21c8b",
   "metadata": {},
   "outputs": [
    {
     "name": "stdout",
     "output_type": "stream",
     "text": [
      "Total da compra: R$ 14.98\n"
     ]
    }
   ],
   "source": [
    "# primeiro declara a variavel com o dado, visto com se faz na aula 2\n",
    "produto1 = 3.50\n",
    "produto2 = 8.99\n",
    "produto3 = 2.49\n",
    "# fazendo o calculo, declare uma nova variavel que vai receber o restultado da operação\n",
    "# varivel num1   +  num2    + num3\n",
    "total = produto1 + produto2 + produto3\n",
    "print(\"Total da compra: R$\",total)  # Saída: Total da compra: R$14.98"
   ]
  },
  {
   "cell_type": "markdown",
   "id": "518c1c75-368a-4f02-ae28-3507a31a3f6b",
   "metadata": {},
   "source": [
    "#### 2️⃣Subtração ( - )\n",
    "Subtração é a operação matemática de tirar um valor de outro, ou seja, calcular a diferença entre dois números.\n",
    "\n",
    "Cenário: calcular o valor do troco de uma compra"
   ]
  },
  {
   "cell_type": "code",
   "execution_count": 112,
   "id": "20842d1a-0eb1-4a48-bb5c-8b8f44288c92",
   "metadata": {},
   "outputs": [
    {
     "name": "stdout",
     "output_type": "stream",
     "text": [
      "O valor do troco é: R$ 20.55\n"
     ]
    }
   ],
   "source": [
    "valor_pago = 50.00\n",
    "valor_compra = 29.45\n",
    "troco = valor_pago - valor_compra\n",
    "print(\"O valor do troco é: R$\",troco)"
   ]
  },
  {
   "cell_type": "markdown",
   "id": "876d65c6-9f69-494b-9432-b5b8620c899b",
   "metadata": {},
   "source": [
    "#### 3️⃣ Multiplicação ( * )\n",
    "Multiplicação é a operação matemática que calcula o produto de dois ou mais números, ou seja, quantas vezes um número é somado a si mesmo.\n",
    "\n",
    "Cenário: Calcular horas trabalhadas"
   ]
  },
  {
   "cell_type": "code",
   "execution_count": 114,
   "id": "7d623174-ca14-4570-96dc-26b4aba25177",
   "metadata": {},
   "outputs": [
    {
     "name": "stdout",
     "output_type": "stream",
     "text": [
      "O salario do dia é: R$ 200\n"
     ]
    }
   ],
   "source": [
    "valor_hora = 25\n",
    "horas_trabalhadas = 8\n",
    "salario_dia = valor_hora * horas_trabalhadas\n",
    "print(\"O salario do dia é: R$\",salario_dia)"
   ]
  },
  {
   "cell_type": "markdown",
   "id": "e199fccd-ded7-4ffb-81ea-25bfdd969831",
   "metadata": {},
   "source": [
    "#### 4️⃣ Divisão ( / )\n",
    "Divisão é a operação matemática que calcula quantas vezes um número cabe dentro de outro, ou seja, o quociente da divisão.\n",
    "\n",
    "Cenário: Calcular média de notas"
   ]
  },
  {
   "cell_type": "code",
   "execution_count": 92,
   "id": "a82f0a7a-dd16-46e2-a8ad-c3533be967c3",
   "metadata": {},
   "outputs": [
    {
     "name": "stdout",
     "output_type": "stream",
     "text": [
      "A média de nota é  11.166666666666666\n"
     ]
    }
   ],
   "source": [
    "nota1 = 7.5\n",
    "nota2 = 8.0\n",
    "nota3 = 9.5\n",
    "nota4 = 8.5\n",
    "\n",
    "# para fazer primeiro uma conta depois outra so colcoar entre ()\n",
    "media_nota =(nota1+nota2+nota3+nota4)/ 3\n",
    "print(\"A média de nota é \",media_nota)"
   ]
  },
  {
   "cell_type": "markdown",
   "id": "e83474a9-37be-4e39-88d9-5cc801364cfa",
   "metadata": {},
   "source": [
    "#### 5️⃣ Divisão Inteira ( // )\n",
    "Divisão inteira em Python é a operação que divide um número pelo outro e retorna apenas a parte inteira do resultado, descartando qualquer parte decimal (ou resto).\n",
    "\n",
    "Cenário: Quantidade de garrafas que cabem em uma caixa"
   ]
  },
  {
   "cell_type": "code",
   "execution_count": 106,
   "id": "b8c06588-dab8-4b11-bda3-c48d4d2bade8",
   "metadata": {},
   "outputs": [
    {
     "name": "stdout",
     "output_type": "stream",
     "text": [
      "Caixas completas:  8\n"
     ]
    }
   ],
   "source": [
    "garrafas = 50\n",
    "capacidade_caixa = 6\n",
    "caixas_completas = garrafas // capacidade_caixa\n",
    "print(\"Caixas completas: \",caixas_completas)  # Saída: Caixas completas: 8"
   ]
  },
  {
   "cell_type": "markdown",
   "id": "a1cec92a-c4c5-4649-9808-0cc6edca25b8",
   "metadata": {},
   "source": [
    "####  6️⃣ Módulo ( % )\n",
    "O operador módulo (%) em Python retorna o resto da divisão inteira entre dois números.\n",
    "\n",
    "Cenário: Verificar se um número é par"
   ]
  },
  {
   "cell_type": "code",
   "execution_count": 119,
   "id": "56fa2603-6e8e-43e0-ab93-b656e450adef",
   "metadata": {},
   "outputs": [
    {
     "name": "stdout",
     "output_type": "stream",
     "text": [
      "É ímpar!\n"
     ]
    }
   ],
   "source": [
    "# Se o restto da divisão for \"0\" o numero é par, se não ele é ímpar.\n",
    "# neste exemplo estamos usando \"if e else\" que iremos aprender na aula\n",
    "numero = 7\n",
    "if numero % 2 == 0:\n",
    "    print(\"É par!\")\n",
    "else:\n",
    "    print(\"É ímpar!\")  # Saída: É ímpar!"
   ]
  },
  {
   "cell_type": "markdown",
   "id": "7162c988-d71e-4f11-a5ee-9908184364a8",
   "metadata": {},
   "source": [
    "#### 7️⃣ Exponenciação (**)\n",
    "Operação matemática de elevar um número (base) a uma potência (expoente), ou seja, multiplicar a base por ela mesma várias vezes.\n",
    "\n",
    "Cenário: Calcular área de um quadrado\n",
    "\n"
   ]
  },
  {
   "cell_type": "code",
   "execution_count": 130,
   "id": "bf100dda-4990-4aa3-9fb2-97c5c2bc15ef",
   "metadata": {},
   "outputs": [
    {
     "name": "stdout",
     "output_type": "stream",
     "text": [
      "81\n"
     ]
    }
   ],
   "source": [
    "base = 3\n",
    "expoente = 4\n",
    "resultado = base ** expoente\n",
    "print(resultado)  # saída: 81 (3 * 3 * 3 * 3)\n"
   ]
  },
  {
   "cell_type": "markdown",
   "id": "c7ed72a9-da92-4b05-acef-8f415af9c0c4",
   "metadata": {},
   "source": [
    "### 🎯 Exemplo Integrado (Calculadora de Viagem)"
   ]
  },
  {
   "cell_type": "code",
   "execution_count": 153,
   "id": "aa4bf0bb-96cb-473f-b69c-8b7fdfc10c88",
   "metadata": {},
   "outputs": [
    {
     "name": "stdout",
     "output_type": "stream",
     "text": [
      "Relatório de Viagem: Distância: 300 km Combustível necessário: 25.0 litros Custo total: R$ 147.25\n"
     ]
    }
   ],
   "source": [
    "# Distância em km, consumo do carro (km/l), preço do combustível (R$/l)\n",
    "distancia = 300\n",
    "consumo = 12\n",
    "preco_combustivel = 5.89\n",
    "\n",
    "litros_necessarios = distancia / consumo\n",
    "custo_viagem = litros_necessarios * preco_combustivel\n",
    "\n",
    "print(\n",
    "    \"Relatório de Viagem:\",\n",
    "    \"Distância:\", distancia, \"km\",\n",
    "    \"Combustível necessário:\", litros_necessarios, \"litros\",\n",
    "    \"Custo total: R$\", custo_viagem\n",
    ")\n",
    "\n"
   ]
  },
  {
   "cell_type": "markdown",
   "id": "a4922785-9e85-4398-8d59-a6edc45224d2",
   "metadata": {},
   "source": [
    "##  ⚖️ Exemplos Práticos de Operadores de Comparação em Python"
   ]
  },
  {
   "cell_type": "markdown",
   "id": "f22f5065-878d-4b8a-be42-7a4a62e6128e",
   "metadata": {},
   "source": [
    "#### 1️⃣ Igualdade ( == )\n",
    "Igualdade em Python é usada para comparar dois valores e verificar se eles são iguais.\n",
    "\n",
    "Cenário: Verificar se a senha digitada está correta\n",
    "\n",
    "\n"
   ]
  },
  {
   "cell_type": "code",
   "execution_count": 166,
   "id": "62f939e0-e5b2-4ebd-a83a-f4434ea8f436",
   "metadata": {},
   "outputs": [
    {
     "name": "stdin",
     "output_type": "stream",
     "text": [
      "Digite sua senha:  12345\n"
     ]
    },
    {
     "name": "stdout",
     "output_type": "stream",
     "text": [
      "✅ Acesso permitido!\n"
     ]
    }
   ],
   "source": [
    "senha_cadastrada = \"12345\"\n",
    "# o \" input\", pede para o usuario colocar um dado. o texto digitado entre() ira aprecer para o usuario\n",
    "senha_digitada = input(\"Digite sua senha: \")\n",
    "\n",
    "if senha_digitada == senha_cadastrada:\n",
    "    print(\"✅ Acesso permitido!\")\n",
    "else:\n",
    "    print(\"❌ Senha incorreta!\")"
   ]
  },
  {
   "cell_type": "markdown",
   "id": "71c27ecf-dbca-46fe-ab1d-ba710bf1e38f",
   "metadata": {},
   "source": [
    "####  2️⃣ Diferença ( != )\n",
    "Verifica se dois valores não são iguais\n",
    "\n",
    "Cenário: Verificar se um produto está disponível\n"
   ]
  },
  {
   "cell_type": "code",
   "execution_count": 197,
   "id": "1b4094ba-fc08-4b99-969f-6368a69c324b",
   "metadata": {},
   "outputs": [
    {
     "name": "stdin",
     "output_type": "stream",
     "text": [
      "Tem produto na loja? Responda com sim ou nao:  sim\n"
     ]
    },
    {
     "name": "stdout",
     "output_type": "stream",
     "text": [
      " Produto disponível para compra\n"
     ]
    }
   ],
   "source": [
    "produto_em_estoque = \"sim\"  # string \"sim\"\n",
    "\n",
    "dado_usuario = input(\"Tem produto na loja? Responda com sim ou nao: \").lower()  # converte para minúsculas\n",
    "\n",
    "if dado_usuario != produto_em_estoque:\n",
    "    print(\" Produto indisponível no momento\")\n",
    "else:\n",
    "    print(\" Produto disponível para compra\")\n"
   ]
  },
  {
   "cell_type": "markdown",
   "id": "10c1420d-b513-4a20-baae-a460918414b2",
   "metadata": {},
   "source": [
    "#### 3️⃣ Maior que ( > )\n",
    "Usado para comparar dois valores e verificar se o valor da esquerda é maior que o da direita.\n",
    "\n",
    "Cenário: Verificar limite de crédito\n",
    "\n",
    "\n",
    "\n"
   ]
  },
  {
   "cell_type": "code",
   "execution_count": 200,
   "id": "46b0c51a-295e-40dc-86b9-ce05bef56db3",
   "metadata": {},
   "outputs": [
    {
     "name": "stdout",
     "output_type": "stream",
     "text": [
      " Compra autorizada\n"
     ]
    }
   ],
   "source": [
    "limite_cartao = 5000\n",
    "valor_compra = 3500\n",
    "\n",
    "if valor_compra > limite_cartao:\n",
    "    print(\" Compra acima do limite!\")\n",
    "else:\n",
    "    print(\" Compra autorizada\")"
   ]
  },
  {
   "cell_type": "markdown",
   "id": "81d7a3fe-00fa-4084-8670-32916ed93fde",
   "metadata": {},
   "source": [
    "### 4️⃣ Menor que ( < )\n",
    "Serve para comparar dois valores e verificar se o valor da esquerda é menor que o da direita.\n",
    "\n",
    "Cenário: Verificar temperatura de segurança\n",
    "\n",
    "\n",
    "\n",
    "\n"
   ]
  },
  {
   "cell_type": "code",
   "execution_count": 203,
   "id": "428d4459-23aa-4b43-a0ac-c73e1a1ec20e",
   "metadata": {},
   "outputs": [
    {
     "name": "stdout",
     "output_type": "stream",
     "text": [
      " Temperatura normal\n"
     ]
    }
   ],
   "source": [
    "temperatura_atual = 85\n",
    "limite_seguranca = 90\n",
    "\n",
    "if temperatura_atual < limite_seguranca:\n",
    "    print(\" Temperatura normal\")\n",
    "else:\n",
    "    print(\" Alerta: temperatura crítica!\")"
   ]
  },
  {
   "cell_type": "markdown",
   "id": "75f662ad-81a3-4b85-86ad-9bd0aba6c5c6",
   "metadata": {},
   "source": [
    "####  5️⃣ Maior ou igual ( >= )\n",
    "\n",
    " Verifica se o valor da esquerda é maior ou igual ao valor da direita.\n",
    "\n",
    " Cenário: Verificar idade mínima\n",
    "\n",
    "\n"
   ]
  },
  {
   "cell_type": "code",
   "execution_count": 206,
   "id": "69c019ab-fe43-4bc3-a263-3244d8cd365b",
   "metadata": {},
   "outputs": [
    {
     "name": "stdout",
     "output_type": "stream",
     "text": [
      " Acesso restrito para maiores de 18 anos\n"
     ]
    }
   ],
   "source": [
    "idade = 17\n",
    "idade_minima = 18\n",
    "\n",
    "if idade >= idade_minima:\n",
    "    print(\" Você pode acessar o conteúdo\")\n",
    "else:\n",
    "    print(\" Acesso restrito para maiores de 18 anos\")"
   ]
  },
  {
   "cell_type": "markdown",
   "id": "8d463fd3-8202-4d5a-a59d-53e7768683e2",
   "metadata": {},
   "source": [
    "####  6️⃣ Menor ou igual ( <= )\n",
    "Verifica se o valor da esquerda é menor ou igual ao valor da direita.\n",
    "\n",
    "Cenário: Verificar limite de peso\n",
    "\n",
    "\n",
    "\n"
   ]
  },
  {
   "cell_type": "code",
   "execution_count": 209,
   "id": "f6eb2c27-02be-4250-9156-7f1991867ca3",
   "metadata": {},
   "outputs": [
    {
     "name": "stdout",
     "output_type": "stream",
     "text": [
      "✈️ Bagagem dentro do limite\n"
     ]
    }
   ],
   "source": [
    "peso_bagagem = 22.5\n",
    "limite_permitido = 23\n",
    "\n",
    "if peso_bagagem <= limite_permitido:\n",
    "    print(\" Bagagem dentro do limite\")\n",
    "else:\n",
    "    print(\" Excesso de peso na bagagem\")"
   ]
  },
  {
   "cell_type": "markdown",
   "id": "fc8fa4f8-6c3a-467f-b431-49b99212475d",
   "metadata": {},
   "source": [
    "###  🎯 Exemplo Integrado (Sistema de Notas)"
   ]
  },
  {
   "cell_type": "code",
   "execution_count": 212,
   "id": "f098b86e-efc3-4ff1-a636-6387d21ee79a",
   "metadata": {},
   "outputs": [
    {
     "name": "stdout",
     "output_type": "stream",
     "text": [
      " Resultado Final: Aprovado? True | Nota: 7.5 Nota perfeita? False | Falta: 2.5 Reprovado? False | Diferença: 0\n"
     ]
    }
   ],
   "source": [
    "nota_prova = 7.5\n",
    "nota_aprovacao = 6.0\n",
    "nota_maxima = 10.0\n",
    "\n",
    "print(\n",
    "    \" Resultado Final:\",\n",
    "    \"Aprovado?\", nota_prova >= nota_aprovacao, \"| Nota:\", nota_prova,\n",
    "    \"Nota perfeita?\", nota_prova == nota_maxima, \"| Falta:\", nota_maxima - nota_prova,\n",
    "    \"Reprovado?\", nota_prova < nota_aprovacao, \"| Diferença:\",\n",
    "    nota_aprovacao - nota_prova if nota_prova < nota_aprovacao else 0\n",
    ")"
   ]
  },
  {
   "cell_type": "markdown",
   "id": "6f706988-e35b-423f-8d6d-1350fcb4ea18",
   "metadata": {},
   "source": [
    "## 🧠 Operadores Lógicos"
   ]
  },
  {
   "cell_type": "markdown",
   "id": "50ff626c-9d75-4aac-9de2-0cfdd6e648cc",
   "metadata": {},
   "source": [
    "#### 1️⃣ AND (and) - Ambos devem ser verdadeiros\n",
    "Cenário: Verificar acesso a conteúdo adulto\n"
   ]
  },
  {
   "cell_type": "code",
   "execution_count": 215,
   "id": "28afe061-a92c-483e-b80f-6156cf8892e5",
   "metadata": {},
   "outputs": [
    {
     "name": "stdout",
     "output_type": "stream",
     "text": [
      " Acesso permitido a conteúdo adulto\n"
     ]
    }
   ],
   "source": [
    "idade = 19\n",
    "possui_autorizacao = True\n",
    "\n",
    "if idade >= 18 and possui_autorizacao:\n",
    "    print(\" Acesso permitido a conteúdo adulto\")\n",
    "else:\n",
    "    print(\" Acesso negado\")"
   ]
  },
  {
   "cell_type": "markdown",
   "id": "07d0e3df-b843-4700-923f-f4c0387a3e2e",
   "metadata": {},
   "source": [
    "#### 2️⃣ OR (or) - Pelo menos um verdadeiro\n",
    "Cenário: Desconto para estudantes ou idosos"
   ]
  },
  {
   "cell_type": "code",
   "execution_count": 225,
   "id": "71da8813-90c2-422c-b798-c258b6461b8a",
   "metadata": {},
   "outputs": [
    {
     "name": "stdout",
     "output_type": "stream",
     "text": [
      " Você tem direito a desconto!\n"
     ]
    }
   ],
   "source": [
    "eh_estudante = False\n",
    "eh_idoso = True\n",
    "\n",
    "if eh_estudante or eh_idoso:\n",
    "    print(\" Você tem direito a desconto!\")\n",
    "else:\n",
    "    print(\" Valor integral\")"
   ]
  },
  {
   "cell_type": "markdown",
   "id": "cea86ffc-534a-4f34-9e1e-b5812128de74",
   "metadata": {},
   "source": [
    "#### 3️⃣ NOT (not) - Inverte o valor lógico\n",
    "Cenário: Verificar se um produto não está em promoção"
   ]
  },
  {
   "cell_type": "code",
   "execution_count": 223,
   "id": "9fcdfd4a-cc43-4aaf-b388-f5519c819473",
   "metadata": {},
   "outputs": [
    {
     "name": "stdout",
     "output_type": "stream",
     "text": [
      " Produto com preço normal\n"
     ]
    }
   ],
   "source": [
    "em_promocao = False\n",
    "\n",
    "if not em_promocao:\n",
    "    print(\" Produto com preço normal\")\n",
    "else:\n",
    "    print(\" Aproveite nossa promoção!\")"
   ]
  },
  {
   "cell_type": "markdown",
   "id": "e3938a4d-d9f7-430a-a4c6-cbc08381d425",
   "metadata": {},
   "source": [
    "#### 4️⃣ Combinação AND + OR\n",
    "Cenário: Aprovação em curso"
   ]
  },
  {
   "cell_type": "code",
   "execution_count": 230,
   "id": "e1a034de-c64e-4848-bd8c-7dc788c6d27a",
   "metadata": {},
   "outputs": [
    {
     "name": "stdout",
     "output_type": "stream",
     "text": [
      " Parabéns, você foi aprovado!\n"
     ]
    }
   ],
   "source": [
    "nota_final = 7.5\n",
    "frequencia = 0.75  # 75%\n",
    "\n",
    "if nota_final >= 6 and frequencia >= 0.75 or nota_final >= 9:\n",
    "    print(\" Parabéns, você foi aprovado!\")\n",
    "else:\n",
    "    print(\" Você precisa estudar mais\")"
   ]
  },
  {
   "cell_type": "markdown",
   "id": "6b5172d5-9d67-4096-9e3a-b5677e7ab3e0",
   "metadata": {},
   "source": [
    "#### 5️⃣ Combinação NOT + AND\n",
    "Cenário: Verificar elegibilidade para empréstimo"
   ]
  },
  {
   "cell_type": "code",
   "execution_count": null,
   "id": "0a16e18a-cb7e-4f54-ba8c-6fcc205c9e71",
   "metadata": {},
   "outputs": [],
   "source": [
    "tem_emprego = True\n",
    "tem_restricao = False\n",
    "\n",
    "if tem_emprego and not tem_restricao:\n",
    "    print(\" Empréstimo aprovado\")\n",
    "else:\n",
    "    print(\" Não elegível para empréstimo\")"
   ]
  },
  {
   "cell_type": "markdown",
   "id": "fd4c517e-b50d-4ec3-aaf0-66f155b42679",
   "metadata": {},
   "source": [
    "#### 🎯 Exemplo Integrado (Sistema de Alarme)"
   ]
  },
  {
   "cell_type": "code",
   "execution_count": 236,
   "id": "e8eaf922-076e-490e-a8e1-3a5aff8c520e",
   "metadata": {},
   "outputs": [
    {
     "name": "stdout",
     "output_type": "stream",
     "text": [
      " Status do Sistema de Segurança: Porta: Fechada Janela: Aberta Movimento: Detectado Alarme: Ligado Situação perigosa? SIM!\n"
     ]
    }
   ],
   "source": [
    "porta_aberta = False\n",
    "janela_aberta = True\n",
    "sensor_movimento = True\n",
    "alarme_ligado = True\n",
    "\n",
    "situacao_perigosa = (porta_aberta or janela_aberta) and sensor_movimento and alarme_ligado\n",
    "\n",
    "print(\n",
    "    \" Status do Sistema de Segurança:\",\n",
    "    \"Porta:\", \"Aberta\" if porta_aberta else \"Fechada\",\n",
    "    \"Janela:\", \"Aberta\" if janela_aberta else \"Fechada\",\n",
    "    \"Movimento:\", \"Detectado\" if sensor_movimento else \"Nenhum\",\n",
    "    \"Alarme:\", \"Ligado\" if alarme_ligado else \"Desligado\",\n",
    "    \"Situação perigosa?\", \"SIM!\" if situacao_perigosa else \"Não\"\n",
    ")"
   ]
  },
  {
   "cell_type": "markdown",
   "id": "eb4e8b01-59f8-48f9-ad8c-040e08c4577e",
   "metadata": {},
   "source": [
    "###  📝 Operadores de Atribuição em Python - Exemplos Práticos"
   ]
  },
  {
   "cell_type": "markdown",
   "id": "b8602ffe-6a0c-4220-b64d-5d3189bae5fa",
   "metadata": {},
   "source": [
    "#### 1️⃣ Atribuição Simples ( = )\n",
    "O operador de atribuição simples (=) em Python serve para guardar um valor dentro de uma variavel\n",
    "\n",
    "Cenário: Cadastro de usuário"
   ]
  },
  {
   "cell_type": "code",
   "execution_count": 248,
   "id": "91194adf-3fc1-4738-8406-c6679b6c3175",
   "metadata": {},
   "outputs": [
    {
     "name": "stdout",
     "output_type": "stream",
     "text": [
      "Usuário: Maria Silva, Idade: 25, Ativo: True\n"
     ]
    }
   ],
   "source": [
    "nome_usuario = \"Maria Silva\"\n",
    "idade = 25\n",
    "cadastro_ativo = True\n",
    "# vou começar a usar o texto formatado, o codigo fica mais limpo.\n",
    "# vai ser explicado, mas deve udas o \"f\" antes do texto par chamar uam variavel basta chamar o nomde dela dentro das {}.\n",
    "print(f\"Usuário: {nome_usuario}, Idade: {idade}, Ativo: {cadastro_ativo}\")"
   ]
  },
  {
   "cell_type": "markdown",
   "id": "f4f250db-2c35-43f7-adc5-d15f51d7b98b",
   "metadata": {},
   "source": [
    "#### 2️⃣ Atribuição com Adição ( += )\n",
    "É uma forma abreviada de fazer uma atribuição somando um valor à variável.\n",
    "\n",
    "Cenário: Contador de visualizações\n"
   ]
  },
  {
   "cell_type": "code",
   "execution_count": 246,
   "id": "73429594-ad4c-4ebb-be1a-a3b53c103661",
   "metadata": {},
   "outputs": [
    {
     "name": "stdout",
     "output_type": "stream",
     "text": [
      "Total de visualizações: 115\n"
     ]
    }
   ],
   "source": [
    "visualizacoes = 100\n",
    "visualizacoes += 15  # Equivalente a: visualizacoes = visualizacoes + 15\n",
    "print(f\"Total de visualizações: {visualizacoes}\")  # Saída: 115"
   ]
  },
  {
   "cell_type": "markdown",
   "id": "f74e1f81-a98a-4717-8887-a4e84b00da19",
   "metadata": {},
   "source": [
    "#### 3️⃣ Atribuição com Subtração ( -= )\n",
    "\n",
    "É uma forma curta de fazer uma subtração e atribuir o resultado de volta à variável.\n",
    "\n",
    "Cenário: Controle de estoque\n"
   ]
  },
  {
   "cell_type": "code",
   "execution_count": 255,
   "id": "45c6e6ff-d0d9-4893-b4f9-e1730ab24686",
   "metadata": {},
   "outputs": [
    {
     "name": "stdout",
     "output_type": "stream",
     "text": [
      "Quantidade em estoque: 43\n"
     ]
    }
   ],
   "source": [
    "estoque = 50\n",
    "vendas = 7\n",
    "estoque -= vendas  # Equivalente a: estoque = estoque - vendas\n",
    "print(f\"Quantidade em estoque: {estoque}\")  # Saída: 43"
   ]
  },
  {
   "cell_type": "markdown",
   "id": "3cf8a854-c3f9-4fe4-a7e0-2be82452eeed",
   "metadata": {},
   "source": [
    "####  4️⃣ Atribuição com Multiplicação ( *= )\n",
    "É uma forma abreviada de multiplicar o valor atual da variável por outro valor e atribuir o resultado de volta a essa variável.\n",
    "\n",
    "Cenário: Ajuste de preço com inflação"
   ]
  },
  {
   "cell_type": "code",
   "execution_count": 260,
   "id": "08ef5710-2b0c-4df6-9c76-be1f6b4f580d",
   "metadata": {},
   "outputs": [
    {
     "name": "stdout",
     "output_type": "stream",
     "text": [
      "Novo preço: R$108.00\n"
     ]
    }
   ],
   "source": [
    "preco = 100.0\n",
    "inflacao = 1.08  # 8%\n",
    "preco *= inflacao  # Equivalente a: preco = preco * inflacao\n",
    "print(f\"Novo preço: R${preco:.2f}\")  # Saída: R$108.00"
   ]
  },
  {
   "cell_type": "markdown",
   "id": "38489236-61f9-4c35-a6f7-ab447c30df5a",
   "metadata": {},
   "source": [
    "#### 5️⃣ Atribuição com Divisão ( /= ) \n",
    "\n",
    "É uma forma curta de dividir o valor atual da variável por outro valor e atribuir o resultado de volta à variável.\n",
    "\n",
    "\n",
    "Cenário: Divisão de lucros\n"
   ]
  },
  {
   "cell_type": "code",
   "execution_count": 266,
   "id": "c55bd16d-6fb7-4c0c-b570-fbd0cb6abb66",
   "metadata": {},
   "outputs": [
    {
     "name": "stdout",
     "output_type": "stream",
     "text": [
      "Lucro por sócio: R$2500.00\n"
     ]
    }
   ],
   "source": [
    "lucro_total = 10000\n",
    "socios = 4\n",
    "lucro_individual = lucro_total\n",
    "lucro_individual /= socios  # Equivalente a: lucro_individual = lucro_individual / socios\n",
    "print(f\"Lucro por sócio: R${lucro_individual:.2f}\")  # Saída: R$2500.00"
   ]
  },
  {
   "cell_type": "markdown",
   "id": "47934e0f-24ca-4dcb-a24f-235470e9de57",
   "metadata": {},
   "source": [
    "#### 6️⃣ Atribuição com Divisão Inteira ( //= )\n",
    "\n",
    "É uma forma abreviada de fazer divisão inteira e atribuir o resultado de volta à variável.\n",
    "\n",
    "Cenário: Embalagem de produtos\n"
   ]
  },
  {
   "cell_type": "code",
   "execution_count": 271,
   "id": "468e126b-04b0-4e36-8904-846a25babc44",
   "metadata": {},
   "outputs": [
    {
     "name": "stdout",
     "output_type": "stream",
     "text": [
      "Caixas completas: 8\n"
     ]
    }
   ],
   "source": [
    "produtos = 50\n",
    "por_caixa = 6\n",
    "caixas_completas = produtos\n",
    "caixas_completas //= por_caixa  # Equivalente a: caixas_completas = caixas_completas // por_caixa\n",
    "print(f\"Caixas completas: {caixas_completas}\")  # Saída: 8"
   ]
  },
  {
   "cell_type": "markdown",
   "id": "00758383-15eb-4885-97f2-81b67859e086",
   "metadata": {},
   "source": [
    "#### 7️⃣ Atribuição com Módulo ( %= )\n",
    "\n",
    "É uma forma curta de calcular o resto da divisão (módulo) e atribuir o resultado de volta à variável.\n",
    "\n",
    "Cenário: Gerenciamento de recursos"
   ]
  },
  {
   "cell_type": "code",
   "execution_count": 274,
   "id": "996e66e2-072b-4008-a5e6-ea3ee0dc5cc2",
   "metadata": {},
   "outputs": [
    {
     "name": "stdout",
     "output_type": "stream",
     "text": [
      "Recursos restantes: 2\n"
     ]
    }
   ],
   "source": [
    "total_recursos = 100\n",
    "uso_diario = 7\n",
    "total_recursos %= uso_diario  # Equivalente a: total_recursos = total_recursos % uso_diario\n",
    "print(f\"Recursos restantes: {total_recursos}\")  # Saída: 2"
   ]
  },
  {
   "cell_type": "markdown",
   "id": "587b8555-b4b9-48fd-87dd-052928711af2",
   "metadata": {},
   "source": [
    "#### 8️⃣ Atribuição com Exponenciação ( **= )\n",
    "É uma forma abreviada de elevar o valor atual da variável a uma potência e atribuir o resultado de volta à variável\n",
    "\n",
    "Cenário: Cálculo de juros compostos"
   ]
  },
  {
   "cell_type": "code",
   "execution_count": 279,
   "id": "cc0121f8-7910-41b3-9422-21383b8b52d8",
   "metadata": {},
   "outputs": [
    {
     "name": "stdout",
     "output_type": "stream",
     "text": [
      "Montante após 3 anos: R$1412.54\n"
     ]
    }
   ],
   "source": [
    "capital = 1000\n",
    "taxa = 1.05  # 5% ao ano\n",
    "periodos = 3\n",
    "capital **= taxa  # Equivalente a: capital = capital ** taxa\n",
    "print(f\"Montante após {periodos} anos: R${capital:.2f}\")  # Saída: R$1050.00"
   ]
  },
  {
   "cell_type": "markdown",
   "id": "de12525c-f9f5-4994-b0a9-4bcd1ee8fbe2",
   "metadata": {},
   "source": [
    "####  🏦 Exemplo Integrado (Sistema Bancário)"
   ]
  },
  {
   "cell_type": "code",
   "execution_count": 284,
   "id": "34b3fbfb-6184-40c9-bc7b-b43647000e65",
   "metadata": {},
   "outputs": [
    {
     "name": "stdout",
     "output_type": "stream",
     "text": [
      "Saldo inicial: R$1000.00\n",
      "Após depósito: R$1500.00\n",
      "Após saque: R$1300.00\n",
      "Com rendimento: R$1313.00\n",
      "Saldo final: R$1303.00\n"
     ]
    }
   ],
   "source": [
    "# no texto formatado o \".2f\" é quantas casas quero depois da virgula\n",
    "\n",
    "saldo = 1000.00\n",
    "print(f\"Saldo inicial: R${saldo:.2f}\")\n",
    "\n",
    "# Depósito\n",
    "saldo += 500.00\n",
    "print(f\"Após depósito: R${saldo:.2f}\")\n",
    "\n",
    "# Saque\n",
    "saldo -= 200.00\n",
    "print(f\"Após saque: R${saldo:.2f}\")\n",
    "\n",
    "# Rendimento mensal (1%)\n",
    "saldo *= 1.01\n",
    "print(f\"Com rendimento: R${saldo:.2f}\")\n",
    "\n",
    "# Taxa mensal (R$10)\n",
    "saldo -= 10.00\n",
    "print(f\"Saldo final: R${saldo:.2f}\")"
   ]
  },
  {
   "cell_type": "markdown",
   "id": "b3dff039-1c51-4bef-a87d-ff22d9c547ec",
   "metadata": {},
   "source": [
    "##  🎯 Exercicios"
   ]
  },
  {
   "cell_type": "markdown",
   "id": "031bad73-ae2a-49ca-929a-f28ae186d6a6",
   "metadata": {},
   "source": [
    "### 1.🔢 Exercícios: Operadores Aritméticos"
   ]
  },
  {
   "cell_type": "markdown",
   "id": "176bde01-a51e-4d44-aaee-e52451a62292",
   "metadata": {},
   "source": [
    "#### A. Cálculo de IMC\n",
    "Calcule seu  Índice de Massa Corporal (peso / altura²) com:"
   ]
  },
  {
   "cell_type": "markdown",
   "id": "5815a344-7923-4efb-b1f4-38962b0066fa",
   "metadata": {},
   "source": [
    "### 2.⚖️ Exercícios: Operadores de Comparação"
   ]
  },
  {
   "cell_type": "markdown",
   "id": "e512dff7-d7c1-4aa0-8092-4aa5e49e1875",
   "metadata": {},
   "source": [
    "#### A. Controle de Estoque\n",
    "Crie a logica que o resultado seja \"True\" se tiver menos de 10 itens no estoque\n",
    "\n",
    "estoque_atual = 7"
   ]
  },
  {
   "cell_type": "markdown",
   "id": "bec0d973-08a3-441c-a31e-766018c5ed18",
   "metadata": {},
   "source": [
    "#### B.Faixa Etária\n",
    "Confira se uma idade está entre 18 e 65 anos \n",
    "\n"
   ]
  },
  {
   "cell_type": "markdown",
   "id": "c9f4c1e5-d08a-4ed7-ba35-596c5ec6715a",
   "metadata": {},
   "source": [
    "### 3.� Exercícios: Operadores Lógicos"
   ]
  },
  {
   "cell_type": "markdown",
   "id": "348d5c22-f6cc-4e94-a87a-98efc66862db",
   "metadata": {},
   "source": [
    "#### A.Acesso VIP\n",
    "Permita entrada apenas para maiores de 18 anos OU acompanhados por adulto:  \n",
    "dados:  \n",
    "idade = 16  \n",
    "acompanhado = True"
   ]
  },
  {
   "cell_type": "markdown",
   "id": "642832ee-1ab6-434a-a4a5-1b90d298fbc5",
   "metadata": {
    "jp-MarkdownHeadingCollapsed": true
   },
   "source": [
    "#### B.Triagem Médica\n",
    "Marque como urgente se:  \n",
    "Temperatura > 39°C  \n",
    "idade > 50  \n",
    "\n",
    "dados:  \n",
    "temperatura = 39.5  \n",
    "idade = 45\n"
   ]
  },
  {
   "cell_type": "markdown",
   "id": "15735459-b983-48dd-9989-b4fef86d71a0",
   "metadata": {},
   "source": [
    "#### C.Desconto Especial\n",
    "Aplique desconto para:\n",
    "\n",
    "Idosos (>60 anos)\n",
    "OU\n",
    "\n",
    "Estudantes com carteirinha válida\n",
    "\n",
    "dados:  \n",
    "coloque dados ficticios\n",
    "\n"
   ]
  },
  {
   "cell_type": "markdown",
   "id": "3a4f3077-ad93-4073-b2f9-b39a5cf297c2",
   "metadata": {},
   "source": [
    "### 4.➡️ Exercícios: Operadores de Atribuição"
   ]
  },
  {
   "cell_type": "markdown",
   "id": "77ab0ab6-23c1-42c3-865e-923063ea2bcb",
   "metadata": {},
   "source": [
    "#### A.Contador Progressivo\n",
    "Incremente um valor inicial 5 vezes:  \n",
    "contador = 0\n",
    "\n",
    "\n"
   ]
  },
  {
   "cell_type": "markdown",
   "id": "08feb58c-ceb4-455b-9324-cfbe7991dbda",
   "metadata": {},
   "source": [
    "#### B.Redução de Inventário\n",
    "Subtraia 3 unidades de um produto com estoque inicial de 50"
   ]
  }
 ],
 "metadata": {
  "kernelspec": {
   "display_name": "Python [conda env:base] *",
   "language": "python",
   "name": "conda-base-py"
  },
  "language_info": {
   "codemirror_mode": {
    "name": "ipython",
    "version": 3
   },
   "file_extension": ".py",
   "mimetype": "text/x-python",
   "name": "python",
   "nbconvert_exporter": "python",
   "pygments_lexer": "ipython3",
   "version": "3.12.7"
  }
 },
 "nbformat": 4,
 "nbformat_minor": 5
}
