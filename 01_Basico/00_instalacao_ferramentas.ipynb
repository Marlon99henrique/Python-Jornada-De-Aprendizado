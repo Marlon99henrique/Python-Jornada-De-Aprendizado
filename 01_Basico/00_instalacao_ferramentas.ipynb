{
 "cells": [
  {
   "cell_type": "markdown",
   "id": "99fd00e6-4663-4966-8d1c-4b9f965d1e5b",
   "metadata": {},
   "source": [
    "# 📥 Instalando o VS Code e Anaconda\n"
   ]
  },
  {
   "cell_type": "markdown",
   "id": "342fc978-028f-488f-8280-40a7316fcba1",
   "metadata": {},
   "source": [
    "## 📥 Instalando o VS Code (Recomendado para o curso)\n",
    "#### Por que usar VS Code?\n",
    "-Editor gratuito e leve da Microsoft.  \n",
    "-Excelente suporte para Python (extensões, debug, terminal integrado).  \n",
    "-Multiplataforma (Windows, macOS, Linux)."
   ]
  },
  {
   "cell_type": "markdown",
   "id": "7d76d1de-5283-47eb-964c-48e5f54b0551",
   "metadata": {},
   "source": [
    "## 🛠 Passo a Passo de Instalação\n",
    "#### 1. Download\n",
    "Acesse o site oficial e baixe a versão para seu sistema operacional:  \n",
    "🔗 https://code.visualstudio.com/download  \n",
    "https://code.visualstudio.com/assets/images/download-page.png\n",
    "\n",
    "#### 2. Instalação\n",
    "Windows/macOS:\n",
    "- Execute o instalador baixado (.exe ou .dmg).  \n",
    "- Siga as instruções padrão (Next > Install > Finish).\n",
    "\n",
    "#### Linux (Debian/Ubuntu):\n",
    "sudo apt update  \n",
    "sudo apt install -y code"
   ]
  },
  {
   "cell_type": "markdown",
   "id": "730980d9-5800-475c-b495-f4daf35ba827",
   "metadata": {},
   "source": [
    "## 3. Configuração Inicial\n",
    "#### 1.Abra o VS Code após a instalação.  \n",
    "#### 2.Instale a extensão Python:  \n",
    "- Aperte Ctrl+Shift+X (ou clique no ícone de extensões).  \n",
    "- Busque por \"Python\" e instale a extensão da Microsoft.  \n",
    "https://i.imgur.com/vFO7Z1z.png  \n",
    "#### 3.(Opcional) Extensões úteis:  \n",
    "Pylance: Autocompletar inteligente.  \n",
    "Jupyter: Suporte a notebooks .ipynb"
   ]
  },
  {
   "cell_type": "markdown",
   "id": "ef07e0ad-8f51-4a86-b60a-6f54e78d2850",
   "metadata": {},
   "source": [
    "## 🐍 Configurando o Interpretador Python\n",
    "#### 1.Aperte Ctrl+Shift+P e digite:  \n",
    "Python: Select Interpreter\n",
    "\n",
    "#### 2.Escolha a versão do Python instalada (ex.: Python 3.10).\n",
    "Escolha a versão mais atual"
   ]
  },
  {
   "cell_type": "markdown",
   "id": "932af168-a2d1-41ac-8e83-a45c37f7ac3f",
   "metadata": {},
   "source": [
    "## 🚀 Como Criar e Executar Arquivos .py no VS Code\n",
    "### Passo 1: Criando um Arquivo Python\n",
    "#### 1.Abra o VS Code.  \n",
    "#### 2.Clique em:\n",
    "File > New File (ou pressione Ctrl+N).  \n",
    "#### 3.Salve o arquivo com:\n",
    "File > Save As... (ou Ctrl+Shift+S).  \n",
    "- Nomeie como 01_exercicio.py (ou conforme a aula).  \n",
    "- Escolha uma pasta dedicada para o curso (ex.: python_curso).  \n",
    "(O VS Code detectará automaticamente que é um arquivo Python pela extensão .py)."
   ]
  },
  {
   "cell_type": "markdown",
   "id": "71646908-7c85-4311-b58e-500c411e4c3f",
   "metadata": {},
   "source": [
    "### Passo 2: Escrevendo o Código\n",
    "#### Digite seu código no arquivo. Exemplo para um exercício:\n"
   ]
  },
  {
   "cell_type": "code",
   "execution_count": 42,
   "id": "ac1f4187-ddc6-45ce-bb8a-afa5534f1835",
   "metadata": {},
   "outputs": [
    {
     "name": "stdout",
     "output_type": "stream",
     "text": [
      "Sua média é: 7.8\n"
     ]
    }
   ],
   "source": [
    "print(\"Olá, Mundo\")"
   ]
  },
  {
   "cell_type": "markdown",
   "id": "02bcb87a-0357-4517-bd0b-2d3d6c57bd8c",
   "metadata": {},
   "source": [
    "### Passo 3: Executando o Arquivo\n",
    "#### 1.Método: Botão de Execução\n",
    "- Clique no ícone ▶️ no canto superior direito (ou pressione F5).\n",
    "\n",
    "#### 2.Método: Terminal Integrado\n",
    "##### 1.Abra o terminal no VS Code:\n",
    "View > Terminal (ou Ctrl+`).\n",
    "\n",
    "##### 2.Navegue até a pasta do arquivo (se necessário):\n",
    "cd caminho/da/pasta  \n",
    "##### 3.Excute:  \n",
    "python 01_exercicio.py"
   ]
  },
  {
   "cell_type": "markdown",
   "id": "25a1a18f-08ee-4b0e-966d-282c264494c1",
   "metadata": {},
   "source": [
    "## 📌 Diferenças Chave: Notebook vs. VS Code\n",
    "\n",
    "| **Feature**       | **Jupyter Notebook**                      | **VS Code (.py)**                          |\n",
    "|-------------------|-------------------------------------------|--------------------------------------------|\n",
    "| 💻 Execução       | Por células (blocos isolados)             | Arquivo completo (`python arquivo.py`)     |\n",
    "| 🎯 Uso Principal  | Aulas, análise de dados                   | Projetos, scripts reais                    |\n",
    "| 🐞 Debugging       | Limitado                                  | Avançado (breakpoints, step-by-step)       |\n",
    "| 🗂️ Organização     | Ideal para exemplos rápidos               | Estrutura em módulos/pastas                |"
   ]
  },
  {
   "cell_type": "markdown",
   "id": "0d476353-bee7-42f8-873f-13d906f42bd3",
   "metadata": {},
   "source": [
    "##  🔗 Links Úteis\n",
    "- Documentação oficial do VS Code \n",
    "- Tutorial Python no VS Code\n",
    "\n"
   ]
  },
  {
   "cell_type": "markdown",
   "id": "6623cb54-f029-40cc-8c63-7774c217066e",
   "metadata": {},
   "source": [
    "## 📌 Dicas Importantes\n",
    "### Modelo do Curso e Diferenças Entre Ambientes\n",
    "Este curso utiliza notebooks do Jupyter (Anaconda) para as aulas, mas recomendamos que os exercícios sejam feitos em arquivos .py no VS Code (como 02_exercicio.py). Entenda as diferenças:\n",
    "\n",
    "### 📓 Jupyter Notebook (Anaconda)\n",
    "Ideal para aprendizado interativo (células executáveis separadas).  \n",
    "Visualização imediata de resultados e gráficos.  \n",
    "Usado nas aulas para exemplos rápidos.  \n",
    "### ⌨️ VS Code (Arquivos .py)\n",
    "Ambiente profissional para desenvolvimento de projetos.  \n",
    "Necessário para:  \n",
    "Escrever scripts completos.  \n",
    "Praticar a estruturação de código em arquivos.  \n",
    "Usar ferramentas como debugger e controle de versão (Git).  \n",
    "### 📌 Por que fazer exercícios em .py?\n",
    "Aprende a executar programas via terminal (python 02_exercicio.py).  \n",
    "Desenvolve boas práticas de organização de código.  \n",
    "Prepara para projetos reais fora do notebook.\n"
   ]
  },
  {
   "cell_type": "markdown",
   "id": "97cf72de-6001-4120-8463-70c48fff7e2b",
   "metadata": {},
   "source": [
    "##  🐍 Instalação do Anaconda(Recomendo se quiser seguir a carreira de dados)\n",
    "## 📥 Passo 1: Download\n",
    "#### 1.Acesse o site oficial:\n",
    "🔗 https://www.anaconda.com/download  \n",
    "#### 2.Escolha a versão para seu sistema operacional (Windows/macOS/Linux)\n",
    "Recomendado: Python 3.x mais recente  \n",
    "https://docs.anaconda.com/_images/download-page.png"
   ]
  },
  {
   "cell_type": "markdown",
   "id": "41386e8a-bafe-496d-ae39-463a678725a1",
   "metadata": {},
   "source": [
    "## 🛠️ Passo 2: Instalação\n",
    "### Windows/macOS\n",
    "#### 1.Execute o instalador baixado (.exe ou .pkg).\n",
    "\n",
    "#### 2.Siga estas opções:  \n",
    "- ✅ \"Add Anaconda3 to my PATH environment variable\" (MARQUE esta opção no Windows)  \n",
    "- ✅ \"Register Anaconda3 as my default Python\"\n",
    "(Ignorar avisos se aparecerem no Windows)  \n",
    "### Linux (via terminal)\n",
    "cd ~/Downloads  \n",
    "bash Anaconda3-2023.07-2-Linux-x86_64.sh  # Substitua pelo nome do arquivo baixado  \n",
    "Siga os prompts (tecle \"Enter\" e digite \"yes\" quando solicitado)  "
   ]
  },
  {
   "cell_type": "markdown",
   "id": "3495ee62-685b-4bb2-a1a9-cfb2c55f5171",
   "metadata": {},
   "source": [
    "## ✅ Passo 3: Verificando a Instalação\n",
    "#### Abra um novo terminal (ou Anaconda Prompt no Windows) e digite:\n",
    "conda --version  \n",
    "##### Saída esperada:  \n",
    "conda 23.x.x (versão instalada)"
   ]
  },
  {
   "cell_type": "markdown",
   "id": "9a2e3df5-81a8-4af8-95ab-6189986f66ea",
   "metadata": {},
   "source": [
    "## 📝 Criando e Executando Arquivos Python no Anaconda\n",
    "O Anaconda oferece várias formas de criar e executar arquivos Python. Aqui estão os principais métodos:\n",
    "\n"
   ]
  },
  {
   "cell_type": "markdown",
   "id": "b7f5d600-1a82-4576-825f-6d89833c9d1b",
   "metadata": {},
   "source": [
    "### 📌 Método 1: Usando o Jupyter Notebook\n",
    "##### 1. Abra o Jupyter Notebook (pelo Anaconda Navigator ou digitando no terminal):\n",
    "jupyter notebook  \n",
    "##### 2. Crie um novo notebook:  \n",
    "- Clique em New > Python 3  \n",
    "- Digite seu código em células (Shift+Enter para executar).\n",
    "##### 3.Salve como .ipynb (formato de notebook) ou exporte como .py:  \n",
    "- File > Download as > Python (.py)"
   ]
  },
  {
   "cell_type": "markdown",
   "id": "d3344b1e-3562-426a-b82e-5e37649c0279",
   "metadata": {},
   "source": [
    "### 📌 Criando e Formatando Células no Jupyter Notebook\n",
    "#### 1.Criando uma Nova Célula\n",
    "##### - 1. Método (mouse):  \n",
    "Clique no espaço vazio entre células ou no ícone + na barra de ferramentas.\n",
    "##### -2.Método (atalho):  \n",
    "Pressione Esc (para sair do modo de edição) + B (Below) para criar célula abaixo ou A (Above) para criar acima."
   ]
  },
  {
   "cell_type": "markdown",
   "id": "ac9a6f61-0481-451f-ab58-a50fc57f84c6",
   "metadata": {},
   "source": [
    "#### 2. Alternando entre Tipos de Célula\n",
    "##### - Para Código Python (padrão):  \n",
    "Selecione a célula e pressione Esc + Y (ou no menu: Cell > Cell Type > Code).\n",
    "\n",
    "##### - Para Markdown (texto formatado):\n",
    "Pressione Esc + M (ou no menu: Cell > Cell Type > Markdown).\n",
    "\n",
    "\n"
   ]
  },
  {
   "cell_type": "markdown",
   "id": "1256631a-c958-4373-8a4f-488b88263639",
   "metadata": {},
   "source": [
    "#### 3. Sintaxe Básica de Markdown\n",
    "Use estas formatações em células Markdown:  \n"
   ]
  },
  {
   "cell_type": "raw",
   "id": "fbf6c572-5441-4d8f-952e-b590859a1af0",
   "metadata": {},
   "source": [
    "# Título Nível 1\n",
    "## Subtítulo Nível 2\n",
    "**Negrito** ou __Negrito__  \n",
    "*Itálico* ou _Itálico_  \n",
    "- Lista com marcadores  \n",
    "1. Lista numerada  \n",
    "\n",
    "`Código inline`  \n",
    "```python\n",
    "# Bloco de código (sintaxe highlight)\n",
    "print(\"Olá, mundo!\")"
   ]
  },
  {
   "cell_type": "markdown",
   "id": "dd9d3211-2ccd-46f3-b414-a242564670df",
   "metadata": {},
   "source": [
    "Pressione Shift+Enter para renderizar."
   ]
  },
  {
   "cell_type": "markdown",
   "id": "375f58b1-4dd7-4823-bb62-f367aabfe59c",
   "metadata": {},
   "source": [
    "#### 5.Dicas Rápidas\n",
    "##### Atalhos úteis:  \n",
    "- Shift+Enter: Executa célula e vai para a próxima.  \n",
    "- Ctrl+Enter: Executa célula sem mudar de foco.  \n"
   ]
  },
  {
   "cell_type": "markdown",
   "id": "2ef43d82-3dc5-4656-8e6e-9d41aed10833",
   "metadata": {},
   "source": [
    "## 📌 Os 3 Tipos de Células no Jupyter Notebook\n",
    "### 1. Célula de Código (Code)\n",
    "##### - Símbolo: In [ ]:  \n",
    "##### - Função:\n",
    "Executa código Python (ou outras linguagens suportadas).  \n",
    "##### - Como usar:\n",
    "Digite o código e pressione Shift+Enter para rodar.  \n",
    "##### - Exemplo:"
   ]
  },
  {
   "cell_type": "code",
   "execution_count": 109,
   "id": "26a30a08-f990-4b3f-bbad-f336be102ebf",
   "metadata": {},
   "outputs": [
    {
     "name": "stdout",
     "output_type": "stream",
     "text": [
      "Olá, mundo!\n"
     ]
    }
   ],
   "source": [
    "print(\"Olá, mundo!\")  # Saída: Olá, mundo!"
   ]
  },
  {
   "cell_type": "markdown",
   "id": "7ed46df3-4069-49cb-a464-76b05ffdeb8a",
   "metadata": {},
   "source": [
    "### 2. Célula Markdown\n",
    "##### -Símbolo: Sem In [ ]: (aparece como texto puro).  \n",
    "##### - Função:\n",
    "Formata textos com cabeçalhos, listas, links, imagens e equações matemáticas.  \n",
    "##### -Como usar:\n",
    "Mude para Markdown com Esc + M e use sintaxe própria.  \n",
    "##### -Exemplo:"
   ]
  },
  {
   "cell_type": "raw",
   "id": "c4596e4e-7626-46f5-97f3-58358e08aae4",
   "metadata": {},
   "source": [
    "## Título Nível 2\n",
    "- Item de lista  \n",
    "**Negrito** e *itálico*."
   ]
  },
  {
   "cell_type": "markdown",
   "id": "2c7d244f-1a12-4102-b5f7-62af876c4271",
   "metadata": {},
   "source": [
    "### 3. Célula Raw (Bruta)\n",
    "##### -Símbolo: Sem In [ ]: (raro de ser usado).  \n",
    "##### -Função:\n",
    "Texto não processado pelo notebook (útil para exportar em formatos específicos como LaTeX).  \n",
    "##### -Como usar:\n",
    "Mude para Raw com Esc + R – o conteúdo é ignorado na execução.  \n",
    "##### -Exemplo:"
   ]
  },
  {
   "cell_type": "raw",
   "id": "925a7023-2cc4-41b7-a9d8-2f2920459a6e",
   "metadata": {},
   "source": [
    "Este texto aparecerá \"como está\" na exportação."
   ]
  },
  {
   "cell_type": "markdown",
   "id": "126af350-ae0b-40c2-89b3-1ae6def3596e",
   "metadata": {},
   "source": [
    "### 🔍 Comparação Rápida\n",
    "\n",
    "| **Tipo**     | **Atalho** | **Uso Principal**              | **Renderiza?** | **Executável?** |\n",
    "|--------------|------------|-------------------------------|----------------|------------------|\n",
    "| 🧠 Code       | Esc + Y    | Programação                   | ❌ Não         | ✅ Sim           |\n",
    "| 📝 Markdown   | Esc + M    | Documentação / Formatação     | ✅ Sim         | ❌ Não           |\n",
    "| 📦 Raw        | Esc + R    | Conteúdo para exportação      | ❌ Não*        | ❌ Não           |\n",
    "\n",
    "> (*) Só aparece no formato exportado (ex.: PDF, HTML).\n",
    "\n",
    "---\n",
    "\n",
    "### 💡 Dica Prática\n",
    "\n",
    "Para ver todos os tipos de célula:\n",
    "\n",
    "- Vá em **Cell > Cell Type** no menu.\n",
    "- Use os atalhos (`Esc + Y/M/R`) para alternar rapidamente!\n",
    "\n",
    "Quer um exemplo de uso avançado de células Raw? Posso mostrar! 😊"
   ]
  },
  {
   "cell_type": "code",
   "execution_count": null,
   "id": "8288d403-5217-4ef8-ba4d-28a0f2eb67eb",
   "metadata": {},
   "outputs": [],
   "source": []
  }
 ],
 "metadata": {
  "kernelspec": {
   "display_name": "Python [conda env:base] *",
   "language": "python",
   "name": "conda-base-py"
  },
  "language_info": {
   "codemirror_mode": {
    "name": "ipython",
    "version": 3
   },
   "file_extension": ".py",
   "mimetype": "text/x-python",
   "name": "python",
   "nbconvert_exporter": "python",
   "pygments_lexer": "ipython3",
   "version": "3.12.7"
  }
 },
 "nbformat": 4,
 "nbformat_minor": 5
}
