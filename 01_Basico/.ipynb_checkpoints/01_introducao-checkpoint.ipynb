{
 "cells": [
  {
   "cell_type": "markdown",
   "id": "7ea308dc-b790-4d93-9b8f-5147717bc3c6",
   "metadata": {},
   "source": [
    "# 🏁 01.Introdução ao Python e Variáveis\n",
    "\n",
    "## 📌 Objetivo\n",
    "Apresentar os conceitos básicos da linguagem Python, incluindo sua sintaxe, histórico e aplicações principais.\n",
    "Introduzir a manipulação de variáveis, tipos de dados básicos e a forma como armazenamos e exibimos informações em Python.\n",
    "\n",
    "---\n",
    "\n",
    "## 📖 O que é Python?\n",
    "Python é uma linguagem de programação de alto nível, interpretada e com sintaxe simples.  \n",
    "Usada em:\n",
    "- Ciência de Dados\n",
    "- Desenvolvimento Web\n",
    "- Automação de Tarefas\n",
    "- Inteligência Artificial\n",
    "\n",
    "\n",
    "\n",
    "\n",
    "\n",
    "\n",
    "\n",
    "\n",
    "\n"
   ]
  },
  {
   "cell_type": "markdown",
   "id": "40bd32eb-e235-423b-aaf1-39fd64453ce6",
   "metadata": {},
   "source": [
    "## 🧠 O que é linguagem de alto nível?\n",
    "\n",
    "Uma linguagem de **alto nível** é projetada para ser fácil de entender e escrever por humanos. Ela abstrai os detalhes técnicos do hardware, permitindo que o programador foque na lógica do problema.\n",
    "\n",
    "---\n",
    "\n",
    "### 🔄 Comparação: Alto nível vs. Baixo nível\n",
    "\n",
    "| Característica                       | Linguagem de Alto Nível (Python)        | Linguagem de Baixo Nível (Assembly - MASM)       |\n",
    "|-------------------------------------|-----------------------------------------|--------------------------------------------------|\n",
    "| **Proximidade com linguagem humana**| Alta                                    | Baixa                                            |\n",
    "| **Facilidade de aprendizado**       | Fácil                                   | Difícil                                          |\n",
    "| **Controle sobre hardware**         | Limitado                                | Total                                            |\n",
    "| **Exemplos**                        | Python, Java, JavaScript                | Assembly, C (parcialmente)                       |\n",
    "| **Código para imprimir \"Olá, mundo!\"** | `print(\"Olá, mundo!\")`                  | `.model small`<br>`.stack 100h`<br><br>`.data`<br>`msg db 'Olá, mundo!$'`<br><br>`.code`<br>`main:`<br>`mov ax, @data`<br>`mov ds, ax`<br>`mov ah, 09h`<br>`lea dx, msg`<br>`int 21h`<br>`mov ah, 4Ch`<br>`int 21h`<br>`end main` |\n",
    "\n",
    "\n",
    "---\n",
    "\n",
    "**Resumo**:  \n",
    "> Linguagens de alto nível são ideais para produtividade e aprendizado, enquanto linguagens de baixo nível são usadas quando é necessário controle direto sobre o hardware."
   ]
  },
  {
   "cell_type": "markdown",
   "id": "8a0c9698-cd9f-422e-a425-84d0fc707f58",
   "metadata": {},
   "source": [
    "## 🧩 O que é linguagem interpretada?\n",
    "\n",
    "Uma linguagem **interpretada** é executada diretamente por um programa chamado **interpretador**, que lê e roda o código linha por linha. Isso elimina a necessidade de compilar o código antes de executá-lo, tornando o processo mais ágil e flexível.\n",
    "\n",
    "---\n",
    "\n",
    "### 🔄 Comparação: Interpretada vs. Compilada\n",
    "\n",
    "| Característica                       | Linguagem Interpretada (Python)         | Linguagem Compilada (C)                         |\n",
    "|-------------------------------------|-----------------------------------------|-------------------------------------------------|\n",
    "| **Execução**                        | Direta, via interpretador               | Precisa ser compilada antes de rodar            |\n",
    "| **Velocidade**                      | Menor                                   | Maior                                           |\n",
    "| **Facilidade para testar**          | Alta                                    | Média                                           |\n",
    "| **Portabilidade**                   | Alta                                    | Depende do compilador e sistema                 |\n",
    "| **Código para imprimir \"Olá, mundo!\"** | `print(\"Olá, mundo!\")`                  | `#include <stdio.h>`<br>`int main() {`<br>`printf(\"Olá, mundo!\");`<br>`return 0;`<br>`}` |\n",
    "\n",
    "---\n",
    "\n",
    "**Resumo**:  \n",
    "> Linguagens interpretadas são ideais para desenvolvimento rápido e testes interativos, enquanto linguagens compiladas oferecem maior desempenho e controle sobre o ambiente de execução."
   ]
  },
  {
   "cell_type": "markdown",
   "id": "2a888ec3-f7b1-4d37-a75e-08c809ed0a88",
   "metadata": {},
   "source": [
    "### ✍️ O que é sintaxe simples?\n",
    "\n",
    "Uma linguagem com **sintaxe simples** permite que o código seja escrito de forma clara, direta e com menos símbolos ou estruturas complexas. Isso facilita o aprendizado, reduz erros e torna o código mais legível.\n",
    "\n",
    "Python é conhecida por sua sintaxe limpa, que se aproxima da linguagem natural e exige menos \"decoração\" do que outras linguagens.\n",
    "\n",
    "---\n",
    "\n",
    "### 🔄 Comparação: Sintaxe de Python vs. Outras Linguagens\n",
    "\n",
    "| Característica       | Python                                | Java/JavaScript                          |\n",
    "|----------------------|---------------------------------------|------------------------------------------|\n",
    "| **Quantidade de símbolos** | Poucos                              | Muitos                                   |\n",
    "| **Legibilidade**     | Alta                                 | Média                                    |\n",
    "| **Curva de aprendizado** | Suave                          | Mais íngreme                             |\n",
    "| **Exemplo de código** | ```python                           | ```java                                  |\n",
    "|                      | idade = 18                           | int idade = 18;                          |\n",
    "|                      | if idade >= 18:                      | if (idade >= 18) {                       |\n",
    "|                      |     print(\"Maior de idade\")          |     System.out.println(\"Maior de idade\");|\n",
    "|                      | ```                                  | }                                        |\n",
    "|                      |                                     | ```                                      |\n",
    "\n",
    "---\n",
    "\n",
    "**Resumo**:  \n",
    "> A sintaxe simples de Python torna a linguagem acessível e eficiente, ideal para quem está começando ou quer escrever código limpo e direto."
   ]
  },
  {
   "cell_type": "markdown",
   "id": "62039899-b900-4c44-92a0-cf44d26c4ef9",
   "metadata": {},
   "source": [
    "\n",
    "## 💻 Primeiro código em Python"
   ]
  },
  {
   "cell_type": "code",
   "execution_count": 27,
   "id": "835d9bf6-244e-46f7-9c53-557b98463fe9",
   "metadata": {},
   "outputs": [
    {
     "name": "stdout",
     "output_type": "stream",
     "text": [
      "Olá, mundo!\n"
     ]
    }
   ],
   "source": [
    "\n",
    "print(\"Olá, mundo!\")"
   ]
  },
  {
   "cell_type": "markdown",
   "id": "5005eb80-a317-404f-b956-0681dc4e0d09",
   "metadata": {},
   "source": [
    "## 📝 Aprendendo a Comentar em Python\n",
    "Existem duas formas principais de adicionar comentários ao código:\n",
    "\n",
    "### 1. Comentário de linha única (#)\n",
    "Como usar: Adicione # no início da linha.\n",
    "\n",
    "Funcionalidade:  \n",
    "Comenta apenas a linha atual.  \n",
    "Pode ser usado ao lado de código (após a instrução).\n"
   ]
  },
  {
   "cell_type": "code",
   "execution_count": 31,
   "id": "0f0c1a82-bd96-4780-b3d7-5807eb0d572f",
   "metadata": {},
   "outputs": [],
   "source": [
    "# Isto é um comentário de linha única\n",
    "x = 10  # Posso comentar aqui também"
   ]
  },
  {
   "cell_type": "markdown",
   "id": "01f366ad-08bd-47d8-8a47-43e235d21f96",
   "metadata": {},
   "source": [
    "### 2. Comentário de múltiplas linhas (''' ou \"\"\")\n",
    "Como usar: Envolva o texto com 3 aspas simples (''') ou duplas (\"\"\").  \n",
    "Funcionalidade:  \n",
    "Comenta tudo o que estiver entre as aspas.  \n",
    "Usado para:  \n",
    "Documentar funções/classes (mais comum).  \n",
    "Desativar blocos de código temporariamente.  \n",
    "Exemplo:"
   ]
  },
  {
   "cell_type": "code",
   "execution_count": null,
   "id": "0d12586e-3127-406b-a348-c2ba7bc5d65b",
   "metadata": {},
   "outputs": [],
   "source": [
    "'''\n",
    "Este é um comentário\n",
    "que pode abranger\n",
    "várias linhas.\n",
    "'''\n",
    "\n",
    "\"\"\"\n",
    "print(\"Este código não será executado\")\n",
    "print(\"Porque está dentro do comentário\")\n",
    "\"\"\""
   ]
  }
 ],
 "metadata": {
  "kernelspec": {
   "display_name": "Python [conda env:base] *",
   "language": "python",
   "name": "conda-base-py"
  },
  "language_info": {
   "codemirror_mode": {
    "name": "ipython",
    "version": 3
   },
   "file_extension": ".py",
   "mimetype": "text/x-python",
   "name": "python",
   "nbconvert_exporter": "python",
   "pygments_lexer": "ipython3",
   "version": "3.12.7"
  }
 },
 "nbformat": 4,
 "nbformat_minor": 5
}
