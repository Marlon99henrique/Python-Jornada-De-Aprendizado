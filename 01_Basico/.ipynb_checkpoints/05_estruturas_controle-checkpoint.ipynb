{
 "cells": [
  {
   "cell_type": "markdown",
   "id": "27d89d47-9bd7-4361-aab0-02386ce5b1ef",
   "metadata": {},
   "source": [
    "# Estruturas de Condições em Python\n",
    "Neste notebook, exploraremos as principais estruturas de controle em Python com exemplos práticos.\n",
    "\n",
    "---"
   ]
  },
  {
   "cell_type": "markdown",
   "id": "0492053a-16db-4c23-8c86-ae1fd434b188",
   "metadata": {},
   "source": [
    "## Condicionais (`if`, `elif`, `else`)"
   ]
  },
  {
   "cell_type": "markdown",
   "id": "c943ca77-5666-496f-8e7c-ccce7862b965",
   "metadata": {},
   "source": [
    "### 1. Condicional simples (if)  \n",
    "O if é uma estrutura de controle que permite que seu programa tome decisões com base em condições.  \n",
    "#### Sintaxe Básica:\n"
   ]
  },
  {
   "cell_type": "code",
   "execution_count": 5,
   "id": "b5ed575f-95de-4223-ba65-a102d3f69929",
   "metadata": {},
   "outputs": [
    {
     "name": "stdout",
     "output_type": "stream",
     "text": [
      "Condição é verdadeira\n",
      "Este código só roda se a condição for True\n",
      "Este código roda sempre\n"
     ]
    }
   ],
   "source": [
    "condiçao = True\n",
    "if condiçao:                                             # 1. Inicia com 'if' + condição + ':'\n",
    "    print(\"Condição é verdadeira\")                       # 2. Bloco indentado (geralmente 4 espaços ou 1 TAB)\n",
    "    print(\"Este código só roda se a condição for True\")  # 3. Mesmo bloco = mesma indentação\n",
    "print(\"Este código roda sempre\")                         # 4. Fora do bloco 'if' (sem indentação)"
   ]
  },
  {
   "cell_type": "markdown",
   "id": "36d17d50-fc6b-4de8-bc6c-3eb3bc60c519",
   "metadata": {},
   "source": [
    "#### ⚠️ A indentação é OBRIGATÓRIA\n",
    "Python não usa chaves {} como outras linguagens. O que define o bloco de código é:  \n",
    "Dois pontos (:) ao final da condição.  \n",
    "Espaços ou TAB antes das linhas do bloco (o padrão é 4 espaços)."
   ]
  },
  {
   "cell_type": "markdown",
   "id": "a5146b03-8f6c-4025-8a4c-b727936dc6cb",
   "metadata": {},
   "source": [
    "#### Exemplo Prático 1 (Condição Simples):"
   ]
  },
  {
   "cell_type": "code",
   "execution_count": null,
   "id": "f82c9f80-17ff-4eb8-9221-207e15ffaad0",
   "metadata": {},
   "outputs": [],
   "source": [
    "idade = 18\n",
    "\n",
    "if idade >= 18:\n",
    "    print(\"Você é maior de idade!\")"
   ]
  },
  {
   "cell_type": "markdown",
   "id": "e29645e8-35f4-4901-a4e8-782e282379c7",
   "metadata": {},
   "source": [
    "Neste exemplo:  \n",
    "A variável idade recebe o valor 18  \n",
    "O if verifica se idade é maior ou igual a 18  \n",
    "Como a condição é verdadeira, imprime a mensagem"
   ]
  },
  {
   "cell_type": "markdown",
   "id": "d073c718-9790-427c-b727-94dbf715d6fe",
   "metadata": {},
   "source": [
    "### Exemplo 2 (Com else - \"Senão\"):"
   ]
  },
  {
   "cell_type": "code",
   "execution_count": null,
   "id": "cb5ec117-0559-464d-bb5b-a1598eaa7906",
   "metadata": {},
   "outputs": [],
   "source": [
    "saldo = 100\n",
    "saque = 120\n",
    "\n",
    "if saque <= saldo:\n",
    "    print(\"Saque realizado com sucesso!\")\n",
    "else:\n",
    "    print(\"Saldo insuficiente!\")"
   ]
  },
  {
   "cell_type": "markdown",
   "id": "63179822-a18c-47af-8cf5-d277bee8e7b1",
   "metadata": {},
   "source": [
    "Aqui:  \n",
    "Se a condição for verdadeira, executa o primeiro bloco  \n",
    "Se for falsa, executa o bloco após o else"
   ]
  },
  {
   "cell_type": "markdown",
   "id": "252b334d-2dfa-4a01-9c47-4d4a835f9175",
   "metadata": {},
   "source": [
    "### Exemplo 3 (Com elif - \"Senão Se\"):"
   ]
  },
  {
   "cell_type": "code",
   "execution_count": null,
   "id": "d5f84855-726f-4a27-9c39-1009947dfe6d",
   "metadata": {},
   "outputs": [],
   "source": [
    "nota = 7.5\n",
    "\n",
    "if nota >= 9:\n",
    "    print(\"Conceito A\")\n",
    "elif nota >= 7:\n",
    "    print(\"Conceito B\")\n",
    "elif nota >= 5:\n",
    "    print(\"Conceito C\")\n",
    "else:\n",
    "    print(\"Conceito D\")"
   ]
  },
  {
   "cell_type": "markdown",
   "id": "214b6ce4-6300-43d4-a66b-8b55ab35d3bb",
   "metadata": {},
   "source": [
    "O elif permite verificar múltiplas condições em sequência.\n",
    "#### Dicas Importantes:  \n",
    "Indentação: Em Python, os blocos de código são definidos por indentação (geralmente 4 espaços)  \n",
    "Operadores de Comparação: ==, !=, >, <, >=, <=  \n",
    "Operadores Lógicos: and, or, not"
   ]
  },
  {
   "cell_type": "markdown",
   "id": "3f433044-4b26-4c7c-bcd9-4a547f8ce7d7",
   "metadata": {},
   "source": [
    "## 🌀 Estruturas de Repetição: `for` e `while` em Python\n",
    "\n",
    "As estruturas `for` e `while` são utilizadas para **executar blocos de código repetidamente**, mas possuem diferenças cruciais em seu funcionamento e aplicações.\n",
    "\n",
    "---\n",
    "\n",
    "### 🔄 **O que são Estruturas de Repetição?**\n",
    "São blocos que permitem **automatizar tarefas repetitivas**, evitando a reescrita manual de código. Podem ser controladas por:\n",
    "- **Contagem pré-definida** (`for`)\n",
    "- **Condições lógicas** (`while`)\n",
    "\n",
    "---\n",
    "\n",
    "### 📌 **1. Loop `for`**\n",
    "#### **Definição:**\n",
    "Executa um bloco de código **para cada elemento em uma sequência** (lista, string, range, etc.).\n",
    "\n",
    "#### **Sintaxe:**\n",
    "```python\n",
    "for elemento in sequência:\n",
    "    # Bloco de código"
   ]
  },
  {
   "cell_type": "markdown",
   "id": "1f720608-7cfc-47f6-86d2-ee1e59b29d83",
   "metadata": {},
   "source": [
    "### 💡 Quando usar?\n",
    "##### - Quando você conhece o número de iterações  \n",
    "##### -Para processar coleções de dados item por item  \n",
    "#### ✅ Exemplos Práticos:\n",
    "##### ▶ Iterando em uma lista:\n"
   ]
  },
  {
   "cell_type": "code",
   "execution_count": null,
   "id": "0a9ee508-938e-4dde-900d-a627c94b2b08",
   "metadata": {},
   "outputs": [],
   "source": [
    "frutas = [\"maçã\", \"banana\", \"uva\"]  \n",
    "for fruta in frutas:  \n",
    "    print(f\"Eu gosto de {fruta}\")  \n",
    "# o print vai ser executar com todos os itens da lista, vai mudar a variavel que vai ser cada elementeo da lista"
   ]
  },
  {
   "cell_type": "markdown",
   "id": "3a84f978-8dbd-4903-a4ab-fc1cf83a268f",
   "metadata": {},
   "source": [
    "#### Saída:\n",
    "Eu gosto de maçã  \n",
    "Eu gosto de banana  \n",
    "Eu gosto de uva  "
   ]
  },
  {
   "cell_type": "markdown",
   "id": "ee14ce0c-4138-454a-9ba1-fcc065ca76f0",
   "metadata": {},
   "source": [
    "#### ▶ Com range():"
   ]
  },
  {
   "cell_type": "code",
   "execution_count": 10,
   "id": "831ebeb5-84fc-4076-b8f2-31c7d621e991",
   "metadata": {},
   "outputs": [
    {
     "name": "stdout",
     "output_type": "stream",
     "text": [
      "Contagem: 0\n",
      "Contagem: 1\n",
      "Contagem: 2\n"
     ]
    }
   ],
   "source": [
    "for i in range(3):  # 0, 1, 2\n",
    "    print(f\"Contagem: {i}\")\n",
    "# com o range o loop vai ser feito o quantidade de vez que foi colocado no range(), no exemplo esta o numero 3, mas pode ser qualquer numero.\n",
    "# Coloque outros numeros para testar"
   ]
  },
  {
   "cell_type": "markdown",
   "id": "8563a292-69d7-46ba-82b4-5d141c70debc",
   "metadata": {},
   "source": [
    "## 🔁 2. Loop while\n",
    "#### Definição:\n",
    "Repete um bloco enquanto uma condição for verdadeira.\n",
    "\n",
    "#### Sintaxe:"
   ]
  },
  {
   "cell_type": "code",
   "execution_count": null,
   "id": "21680ba3-ce2d-484a-ae70-2db3aa8c1aa0",
   "metadata": {},
   "outputs": [],
   "source": [
    "while condição:\n",
    "    # Bloco de código"
   ]
  },
  {
   "cell_type": "markdown",
   "id": "6f630b44-58bc-4687-96f9-fb39683bc479",
   "metadata": {},
   "source": [
    "## 💡 Quando usar?\n",
    "- Quando o número de repetições é desconhecido  \n",
    "- Para validação de entradas ou processos contínuos  \n",
    "### ✅ Exemplos Práticos:\n",
    "#### ▶ Contador básico:"
   ]
  },
  {
   "cell_type": "code",
   "execution_count": null,
   "id": "f8d8b9bd-8bd5-4ecf-acd4-59e33181132a",
   "metadata": {},
   "outputs": [],
   "source": [
    "contador = 0\n",
    "while contador < 3:\n",
    "    print(contador)\n",
    "    contador += 1  # Atualização crucial!"
   ]
  },
  {
   "cell_type": "markdown",
   "id": "480940ef-422b-4ce5-8fcc-48b69858d256",
   "metadata": {},
   "source": [
    "#### ▶ Menu interativo:"
   ]
  },
  {
   "cell_type": "code",
   "execution_count": null,
   "id": "d536a1f2-2ab0-4305-b4fb-c17e487e458b",
   "metadata": {},
   "outputs": [],
   "source": [
    "while True:\n",
    "    opção = input(\"Digite 'sair' para encerrar: \")\n",
    "    if opção.lower() == 'sair':\n",
    "        break"
   ]
  },
  {
   "cell_type": "markdown",
   "id": "f5001be6-2fa7-4413-9c43-08fc6e0554c4",
   "metadata": {},
   "source": [
    "### 🔍 Diferenças Essenciais entre `for` e `while`\n",
    "\n",
    "| 🧩 Característica     | 🔁 `for`                          | 🔄 `while`                          |\n",
    "|----------------------|----------------------------------|------------------------------------|\n",
    "| 🎯 Controle           | Por iteração em sequência        | Por condição lógica                |\n",
    "| 📌 Uso típico         | Listas, strings, ranges          | Validações, loops infinitos        |\n",
    "| 📦 Variável externa   | Não necessária                   | Geralmente necessária              |"
   ]
  },
  {
   "cell_type": "markdown",
   "id": "78746cfb-82df-4c8b-8a59-765ff555c7b6",
   "metadata": {},
   "source": [
    "### ⚠️ Cuidados Importantes\n",
    "#### 1. Loop infinito (em while):\n",
    "\n",
    "##### ERRADO (nunca para)\n",
    "while True:  \n",
    "    print(\"Preso aqui!\")\n"
   ]
  },
  {
   "cell_type": "markdown",
   "id": "70a30298-a4ea-48ce-9417-ed40f078a497",
   "metadata": {},
   "source": [
    "#### 2.Esquecer de atualizar a condição:\n",
    "##### ERRADO (nunca para)\n",
    "x = 0  \n",
    "while x < 5:  \n",
    "    print(x)  # Esqueceu de incrementar x!"
   ]
  },
  {
   "cell_type": "markdown",
   "id": "07797c6e-b887-4b8c-bf88-54de2ec10b41",
   "metadata": {},
   "source": [
    "## 🛑 O Comando `break` em Python\n",
    "\n",
    "### **O que é?**\n",
    "O `break` é uma palavra-chave que **interrompe imediatamente** a execução de um loop (`for` ou `while`), \"quebrando\" sua repetição mesmo que a condição original ainda seja verdadeira.\n",
    "\n",
    "---\n",
    "\n",
    "### **💡 Quando usar?**\n",
    "Principalmente em situações onde você precisa:\n",
    "1. **Sair de um loop antecipadamente** quando uma condição específica é atendida.\n",
    "2. **Evitar loops infinitos** em estruturas `while True`.\n",
    "3. **Interromper buscas** quando o item é encontrado (em listas, strings, etc.).\n",
    "\n",
    "---\n",
    "\n",
    "### **📌 Sintaxe Básica**\n"
   ]
  },
  {
   "cell_type": "code",
   "execution_count": null,
   "id": "8098eafa-ebee-46d9-866d-31e4e6dd214b",
   "metadata": {},
   "outputs": [],
   "source": [
    "\n",
    "while condição:\n",
    "    # código\n",
    "    if condição_de_saída:\n",
    "        break  # Sai do loop aqui\n",
    "    # código após o break não será executado"
   ]
  },
  {
   "cell_type": "markdown",
   "id": "86b5175e-7d6c-49b0-b192-911c444378c4",
   "metadata": {},
   "source": [
    "### ✅ Exemplos Práticos\n",
    "#### 1. Saindo de um while"
   ]
  },
  {
   "cell_type": "code",
   "execution_count": null,
   "id": "bcd02dac-1ff4-4caa-b9ad-5e489c3bda3c",
   "metadata": {},
   "outputs": [],
   "source": [
    "contador = 0\n",
    "while True:  # Loop infinito \"aparente\"\n",
    "    print(contador)\n",
    "    contador += 1\n",
    "    if contador >= 5:\n",
    "        break  # Interrompe quando contador chega a 5"
   ]
  },
  {
   "cell_type": "markdown",
   "id": "dc28f106-1d84-4146-9f83-0053ecbbba17",
   "metadata": {},
   "source": [
    "#### Saída:\n",
    "0  \n",
    "1  \n",
    "2  \n",
    "3  \n",
    "4  "
   ]
  },
  {
   "cell_type": "markdown",
   "id": "ac858311-03f2-4273-b124-32ac218427de",
   "metadata": {},
   "source": [
    "### 2. Buscando um item em lista com (for)"
   ]
  },
  {
   "cell_type": "code",
   "execution_count": 6,
   "id": "46f3f1bc-fcb9-4ea9-912b-ca1e2c74bb1b",
   "metadata": {},
   "outputs": [
    {
     "name": "stdout",
     "output_type": "stream",
     "text": [
      "Verificando: maçã\n",
      "Verificando: banana\n",
      "Verificando: uva\n",
      "Uva encontrada! Parando a busca.\n"
     ]
    }
   ],
   "source": [
    "frutas = [\"maçã\", \"banana\", \"uva\", \"melancia\"]\n",
    "for fruta in frutas:\n",
    "    print(f\"Verificando: {fruta}\")\n",
    "    if fruta == \"uva\":\n",
    "        print(\"Uva encontrada! Parando a busca.\")\n",
    "        break"
   ]
  },
  {
   "cell_type": "markdown",
   "id": "d90c0498-81b6-4938-ba2b-cc6a24033274",
   "metadata": {},
   "source": [
    "#### Saída:\n",
    "Verificando: maçã \n",
    "Verificando: banana  \n",
    "Verificando: uva  \n",
    "Uva encontrada! Parando a busca."
   ]
  },
  {
   "cell_type": "markdown",
   "id": "bef10753-9c9d-470f-8215-ec52b3248379",
   "metadata": {},
   "source": [
    "### 🔍 Diferença entre `break`, `continue` e `pass`\n",
    "\n",
    "| 🧪 **Comando** | ⚙️ **Efeito**                                                                 |\n",
    "|----------------|------------------------------------------------------------------------------|\n",
    "| 🔴 `break`      | Termina completamente o loop                                                 |\n",
    "| 🟡 `continue`   | Pula para a próxima iteração (ignora o restante do bloco atual)              |\n",
    "| ⚪ `pass`       | Não faz nada (usado como placeholder em estruturas que ainda serão definidas) |  \n",
    "#### Exemplo comparativo:"
   ]
  },
  {
   "cell_type": "code",
   "execution_count": 7,
   "id": "917cc9f8-70e9-4825-9d86-528587f8b3b5",
   "metadata": {},
   "outputs": [
    {
     "name": "stdout",
     "output_type": "stream",
     "text": [
      "0\n",
      "1\n"
     ]
    }
   ],
   "source": [
    "for num in range(5):\n",
    "    if num == 2:\n",
    "        break  # Sai do loop quando num=2\n",
    "    print(num)\n",
    "# Saída: 0 1"
   ]
  },
  {
   "cell_type": "markdown",
   "id": "6439d786-478c-48db-b3e2-09a07abc23c2",
   "metadata": {},
   "source": [
    "### ⚠️ Cuidados Importantes\n",
    "##### 1.Escopo do break: Só funciona no loop mais interno onde está declarado."
   ]
  },
  {
   "cell_type": "code",
   "execution_count": null,
   "id": "9fc93190-8ed2-4cd7-9200-c60deadf6511",
   "metadata": {},
   "outputs": [],
   "source": [
    "for i in range(3):\n",
    "    for j in range(3):\n",
    "        if j == 1:\n",
    "            break  # Só interrompe o loop de 'j'\n",
    "    print(i)"
   ]
  },
  {
   "cell_type": "markdown",
   "id": "e9b4cf5c-014f-4c47-a3bf-b116b7de8ac5",
   "metadata": {},
   "source": [
    "##### 2.Não usar em funções como return: break não substitui return para sair de funções.\n",
    "\n"
   ]
  },
  {
   "cell_type": "markdown",
   "id": "83cbdf1e-b940-4880-94e6-3ade601e9b17",
   "metadata": {},
   "source": [
    "##  🎯 Exercicios"
   ]
  },
  {
   "cell_type": "markdown",
   "id": "d9a99a48-49e5-4b65-916c-0e1e1763e918",
   "metadata": {},
   "source": [
    "#### 1. Digite um numero e verifique:  \n",
    "Se for positivo, imprima \"Positivo\"  \n",
    "Se for negativo, imprima \"Negativo\"  \n",
    "Se for zero, imprima \"Zero\" "
   ]
  },
  {
   "cell_type": "markdown",
   "id": "c6771165-9ec8-440a-bf98-febf07e5c007",
   "metadata": {},
   "source": [
    "#### 2. Digite um número e verifique:\n",
    "se ele ele estiver entre 5 e 10, imprima na tela a mensagem \" numero aceito\".  \n",
    "se ele não estiver imprima a mensage \"numero não aceito\""
   ]
  },
  {
   "cell_type": "markdown",
   "id": "73048519-6f68-402b-a246-699417fd8022",
   "metadata": {},
   "source": [
    "#### 3. faça um loop que vai começa do numero 3 e vai para no numero 10"
   ]
  },
  {
   "cell_type": "markdown",
   "id": "af5a460c-faf1-4df0-a0bf-8d79d069f595",
   "metadata": {
    "jp-MarkdownHeadingCollapsed": true
   },
   "source": [
    "#### 4. faça um loop que vai começa do numero 2 e vai para no numero 9, mas ignore o numero 7"
   ]
  },
  {
   "cell_type": "markdown",
   "id": "4d694a24-c1c0-481a-98d8-a3849475a062",
   "metadata": {},
   "source": [
    "#### 5. faça um loop que vai começa do numero 1 e vai para no numero 15, quando cheagr no numero 4, vai parar e impimir a mensagem \" número 4 achado\""
   ]
  },
  {
   "cell_type": "markdown",
   "id": "23d6cbda-941a-479f-98be-af65be3a21b8",
   "metadata": {},
   "source": [
    "#### 6. faça um loop que vai contar carneirinho( de 1 carneirinho, até 15 carneirinho):"
   ]
  },
  {
   "cell_type": "code",
   "execution_count": null,
   "id": "aeaf291d-dda4-49fa-a034-5803d82d9475",
   "metadata": {},
   "outputs": [],
   "source": []
  }
 ],
 "metadata": {
  "kernelspec": {
   "display_name": "Python [conda env:base] *",
   "language": "python",
   "name": "conda-base-py"
  },
  "language_info": {
   "codemirror_mode": {
    "name": "ipython",
    "version": 3
   },
   "file_extension": ".py",
   "mimetype": "text/x-python",
   "name": "python",
   "nbconvert_exporter": "python",
   "pygments_lexer": "ipython3",
   "version": "3.12.7"
  }
 },
 "nbformat": 4,
 "nbformat_minor": 5
}
