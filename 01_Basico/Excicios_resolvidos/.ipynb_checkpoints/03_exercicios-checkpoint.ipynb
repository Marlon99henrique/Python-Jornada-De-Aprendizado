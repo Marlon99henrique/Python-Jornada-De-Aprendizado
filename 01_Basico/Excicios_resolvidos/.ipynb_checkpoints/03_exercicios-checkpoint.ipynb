{
 "cells": [
  {
   "cell_type": "markdown",
   "id": "97a15bca-29fd-4a61-99ca-b00c06585733",
   "metadata": {},
   "source": [
    "##  🎯 Exercicios Resolvidos"
   ]
  },
  {
   "cell_type": "markdown",
   "id": "031bad73-ae2a-49ca-929a-f28ae186d6a6",
   "metadata": {},
   "source": [
    "### 1.🔢 Exercícios: Operadores Aritméticos"
   ]
  },
  {
   "cell_type": "markdown",
   "id": "176bde01-a51e-4d44-aaee-e52451a62292",
   "metadata": {},
   "source": [
    "#### A. Cálculo de IMC\n",
    "Calcule o Índice de Massa Corporal (peso / altura²) com:"
   ]
  },
  {
   "cell_type": "code",
   "execution_count": 426,
   "id": "69c840c2-9514-4133-b83d-ea02e758f2bf",
   "metadata": {},
   "outputs": [],
   "source": [
    "peso = 68.5\n",
    "altura = 1.75\n",
    "# Dica: Use exponenciação (**)"
   ]
  },
  {
   "cell_type": "markdown",
   "id": "8524b030-37ae-40e1-8fd9-2cfe3d825955",
   "metadata": {},
   "source": [
    "#### Resposta:"
   ]
  },
  {
   "cell_type": "code",
   "execution_count": 14,
   "id": "26cb4fab-e064-4b60-845c-587f335a98ef",
   "metadata": {},
   "outputs": [
    {
     "name": "stdout",
     "output_type": "stream",
     "text": [
      "O imc é 22.367346938775512\n"
     ]
    }
   ],
   "source": [
    "peso = 68.5\n",
    "altura = 1.75\n",
    "\n",
    "imc= peso/(altura**2)\n",
    "print(f\"O imc é {imc}\")"
   ]
  },
  {
   "cell_type": "markdown",
   "id": "5815a344-7923-4efb-b1f4-38962b0066fa",
   "metadata": {},
   "source": [
    "### 2.⚖️ Exercícios: Operadores de Comparação"
   ]
  },
  {
   "cell_type": "markdown",
   "id": "e512dff7-d7c1-4aa0-8092-4aa5e49e1875",
   "metadata": {},
   "source": [
    "#### A. Controle de Estoque\n",
    "Crie a logica que o resultado seja \"True\" se tiver menos de 10 itens no estoque\n",
    "\n",
    "estoque_atual = 7\n"
   ]
  },
  {
   "cell_type": "markdown",
   "id": "f6649298-0da9-4d42-a8de-9fc16ab70638",
   "metadata": {},
   "source": [
    "#### Resposta:"
   ]
  },
  {
   "cell_type": "code",
   "execution_count": 32,
   "id": "7a57ea1c-0141-4a66-9325-11171e9b846c",
   "metadata": {},
   "outputs": [
    {
     "name": "stdout",
     "output_type": "stream",
     "text": [
      "True\n"
     ]
    }
   ],
   "source": [
    "estoque_atual = 7\n",
    "print(estoque_atual <10)"
   ]
  },
  {
   "cell_type": "markdown",
   "id": "bec0d973-08a3-441c-a31e-766018c5ed18",
   "metadata": {},
   "source": [
    "#### B}.Faixa Etária\n",
    "Confira se uma idade está entre 18 e 65 anos\n",
    "\n"
   ]
  },
  {
   "cell_type": "markdown",
   "id": "963ec61f-8f9e-466e-87a1-ae399bbfbc42",
   "metadata": {},
   "source": [
    "#### Resposta:"
   ]
  },
  {
   "cell_type": "code",
   "execution_count": 34,
   "id": "bdb6857f-ff1a-48bb-939f-aa89df643b9d",
   "metadata": {},
   "outputs": [
    {
     "name": "stdout",
     "output_type": "stream",
     "text": [
      "True\n"
     ]
    }
   ],
   "source": [
    "idade =30\n",
    "print(18 <= idade <= 65)"
   ]
  },
  {
   "cell_type": "markdown",
   "id": "c9f4c1e5-d08a-4ed7-ba35-596c5ec6715a",
   "metadata": {},
   "source": [
    "### 3.� Exercícios: Operadores Lógicos"
   ]
  },
  {
   "cell_type": "markdown",
   "id": "348d5c22-f6cc-4e94-a87a-98efc66862db",
   "metadata": {},
   "source": [
    "#### A.Acesso VIP\n",
    "Permita entrada apenas para maiores de 18 anos OU acompanhados por adulto:  \n",
    "dados:  \n",
    "idade = 16  \n",
    "acompanhado = True"
   ]
  },
  {
   "cell_type": "markdown",
   "id": "36dc1dd3-ed1f-45af-a9f6-ff8456f852f8",
   "metadata": {},
   "source": [
    "#### Resposta:"
   ]
  },
  {
   "cell_type": "code",
   "execution_count": 38,
   "id": "8ae65677-8f19-440a-b31a-c54cbee907d1",
   "metadata": {},
   "outputs": [
    {
     "name": "stdout",
     "output_type": "stream",
     "text": [
      "True\n"
     ]
    }
   ],
   "source": [
    "idade = 16\n",
    "acompanhado = True\n",
    "\n",
    "acesso= idade >18  or acompanhado\n",
    "print(acesso)"
   ]
  },
  {
   "cell_type": "markdown",
   "id": "642832ee-1ab6-434a-a4a5-1b90d298fbc5",
   "metadata": {},
   "source": [
    "#### B.Triagem Médica\n",
    "Marque como urgente se:  \n",
    "Temperatura > 39°C  \n",
    "idade > 50  \n",
    "\n",
    "dados:  \n",
    "temperatura = 39.5  \n",
    "idade = 45\n"
   ]
  },
  {
   "cell_type": "markdown",
   "id": "8282a1b8-f531-4e62-b3ac-a098cd546de4",
   "metadata": {},
   "source": [
    "#### Resposta:"
   ]
  },
  {
   "cell_type": "code",
   "execution_count": 36,
   "id": "231e6b3e-969f-4400-b136-5c36b9efdacb",
   "metadata": {},
   "outputs": [
    {
     "name": "stdout",
     "output_type": "stream",
     "text": [
      "False\n"
     ]
    }
   ],
   "source": [
    "temperatura = 39.5\n",
    "idade = 45 \n",
    "urgente = temperatura > 39 and idade >50\n",
    "print(urgente) "
   ]
  },
  {
   "cell_type": "markdown",
   "id": "15735459-b983-48dd-9989-b4fef86d71a0",
   "metadata": {},
   "source": [
    "#### C.Desconto Especial\n",
    "Aplique desconto para:\n",
    "\n",
    "Idosos (>60 anos)\n",
    "OU\n",
    "\n",
    "Estudantes com carteirinha válida\n",
    "\n",
    "dados:  \n",
    "coloque dados ficticios\n",
    "\n"
   ]
  },
  {
   "cell_type": "markdown",
   "id": "6aa91fb1-6578-4a29-826c-3ef604bf5ffa",
   "metadata": {},
   "source": [
    "#### Resposta:"
   ]
  },
  {
   "cell_type": "code",
   "execution_count": 43,
   "id": "b77abe58-2e9d-4161-836f-b6b2e940ddb0",
   "metadata": {},
   "outputs": [
    {
     "name": "stdout",
     "output_type": "stream",
     "text": [
      "True\n"
     ]
    }
   ],
   "source": [
    "idade = 65\n",
    "eh_estudante = False\n",
    "desconto = idade > 60 or eh_estudante\n",
    "print(desconto) "
   ]
  },
  {
   "cell_type": "markdown",
   "id": "3a4f3077-ad93-4073-b2f9-b39a5cf297c2",
   "metadata": {},
   "source": [
    "### 4.➡️ Exercícios: Operadores de Atribuição"
   ]
  },
  {
   "cell_type": "markdown",
   "id": "77ab0ab6-23c1-42c3-865e-923063ea2bcb",
   "metadata": {},
   "source": [
    "#### A.Contador Progressivo\n",
    "Incremente um valor inicial 5 vezes:  \n",
    "contador = 0\n",
    "\n",
    "\n"
   ]
  },
  {
   "cell_type": "markdown",
   "id": "c46530e1-c301-4205-9a5f-cfdefe2ff14a",
   "metadata": {},
   "source": [
    "#### Resposta:"
   ]
  },
  {
   "cell_type": "code",
   "execution_count": 45,
   "id": "5028b3b4-a5a9-421a-bf1d-a608ea86c04e",
   "metadata": {},
   "outputs": [
    {
     "name": "stdout",
     "output_type": "stream",
     "text": [
      "5\n"
     ]
    }
   ],
   "source": [
    "contador = 0\n",
    "contador += 1\n",
    "contador += 1\n",
    "contador += 1\n",
    "contador += 1\n",
    "contador += 1\n",
    "print(contador)  "
   ]
  },
  {
   "cell_type": "markdown",
   "id": "08feb58c-ceb4-455b-9324-cfbe7991dbda",
   "metadata": {},
   "source": [
    "#### B.Redução de Inventário\n",
    "Subtraia 3 unidades de um produto com estoque inicial de 50"
   ]
  },
  {
   "cell_type": "markdown",
   "id": "f29bd6f0-017e-4d38-8fa0-a61e2bf0e778",
   "metadata": {},
   "source": [
    "#### Resposta:"
   ]
  },
  {
   "cell_type": "code",
   "execution_count": 49,
   "id": "6e3fccac-9433-40cf-89ee-971316e23b1b",
   "metadata": {},
   "outputs": [
    {
     "name": "stdout",
     "output_type": "stream",
     "text": [
      "47\n"
     ]
    }
   ],
   "source": [
    "estoque = 50\n",
    "estoque -= 3\n",
    "print(estoque)  # Saída: 47"
   ]
  },
  {
   "cell_type": "markdown",
   "id": "d3ab97f3-4151-46fa-a97b-4a314e47dfd8",
   "metadata": {},
   "source": [
    "### 🆔 Exercícios: Operadores de Identidade"
   ]
  },
  {
   "cell_type": "markdown",
   "id": "068f2f59-cbc7-4d9a-9ebe-5c0dd0dc7214",
   "metadata": {},
   "source": [
    "#### A.Verificador de Cópias\n",
    "Compare se duas listas com mesmos valores são o mesmo objeto:"
   ]
  },
  {
   "cell_type": "code",
   "execution_count": 49,
   "id": "ee64a2ba-3f88-4963-a14d-9f35fc00c36e",
   "metadata": {},
   "outputs": [],
   "source": [
    "lista1 = [1, 2, 3]\n",
    "lista2 = [1, 2, 3]"
   ]
  },
  {
   "cell_type": "markdown",
   "id": "c0537508-3da6-4db0-8a21-029cbd7a6f9c",
   "metadata": {},
   "source": [
    "#### Resposta:"
   ]
  },
  {
   "cell_type": "code",
   "execution_count": 51,
   "id": "3cd6e7e2-214d-4273-99eb-6dfa6042bdd9",
   "metadata": {},
   "outputs": [
    {
     "name": "stdout",
     "output_type": "stream",
     "text": [
      "False\n"
     ]
    }
   ],
   "source": [
    "lista1 = [1, 2, 3]\n",
    "lista2 = [1, 2, 3]\n",
    "print(lista1 is lista2)  "
   ]
  }
 ],
 "metadata": {
  "kernelspec": {
   "display_name": "Python [conda env:base] *",
   "language": "python",
   "name": "conda-base-py"
  },
  "language_info": {
   "codemirror_mode": {
    "name": "ipython",
    "version": 3
   },
   "file_extension": ".py",
   "mimetype": "text/x-python",
   "name": "python",
   "nbconvert_exporter": "python",
   "pygments_lexer": "ipython3",
   "version": "3.12.7"
  }
 },
 "nbformat": 4,
 "nbformat_minor": 5
}
