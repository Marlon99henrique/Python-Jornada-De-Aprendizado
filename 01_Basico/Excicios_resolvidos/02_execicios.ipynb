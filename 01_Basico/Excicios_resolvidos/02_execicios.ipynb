{
 "cells": [
  {
   "cell_type": "markdown",
   "id": "a9e88ee4-691b-40ee-b22b-432f3a079d0f",
   "metadata": {},
   "source": [
    "##  🎯 Exercicios Resolvidos"
   ]
  },
  {
   "cell_type": "markdown",
   "id": "04ddb3af-a3d7-465e-b1d5-a256a7bb3345",
   "metadata": {},
   "source": [
    "### 1. Exiba a seguinte mensagem na tela\n",
    "Meu nome é \"seu nome\", moro na cidade \"sua cidade\", e tenho \"sua idade\" anos.\n",
    "\n",
    "seu nome, sua cidade, e sua idade quero que sejam variaveis"
   ]
  },
  {
   "cell_type": "code",
   "execution_count": 15,
   "id": "39c949e4-179e-483f-b9b9-daa59b1bde31",
   "metadata": {},
   "outputs": [
    {
     "name": "stdout",
     "output_type": "stream",
     "text": [
      "Meu nome é Marlon, moro na cidade Brasilia, e tenho 30\n"
     ]
    }
   ],
   "source": [
    "meu_nome = \"Marlon\"\n",
    "minha_cidade = \"Brasilia\"\n",
    "minha_idade = 30\n",
    "\n",
    "print(f'Meu nome é {meu_nome}, moro na cidade {minha_cidade}, e tenho {minha_idade}')"
   ]
  },
  {
   "cell_type": "markdown",
   "id": "587f24bc-3a1b-46fd-8104-4f4b7fcbf764",
   "metadata": {},
   "source": [
    "### 2. Comente no codigo do ultimo exercio explicando oque cada linha faz:"
   ]
  },
  {
   "cell_type": "code",
   "execution_count": null,
   "id": "1327d887-0614-4e4a-b23d-ab2230a9e7d9",
   "metadata": {},
   "outputs": [],
   "source": [
    "# declarando as variaveis do execercio\n",
    "meu_nome = \"Marlon\"\n",
    "minha_cidade = \"Brasilia\"\n",
    "minha_idade = 30\n",
    "\n",
    "# chamando a função print\n",
    "print(f'Meu nome é {meu_nome}, moro na cidade {minha_cidade}, e tenho {minha_idade}')"
   ]
  }
 ],
 "metadata": {
  "kernelspec": {
   "display_name": "Python [conda env:base] *",
   "language": "python",
   "name": "conda-base-py"
  },
  "language_info": {
   "codemirror_mode": {
    "name": "ipython",
    "version": 3
   },
   "file_extension": ".py",
   "mimetype": "text/x-python",
   "name": "python",
   "nbconvert_exporter": "python",
   "pygments_lexer": "ipython3",
   "version": "3.12.7"
  }
 },
 "nbformat": 4,
 "nbformat_minor": 5
}
