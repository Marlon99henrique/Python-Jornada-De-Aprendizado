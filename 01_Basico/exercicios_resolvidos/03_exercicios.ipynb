{
 "cells": [
  {
   "cell_type": "markdown",
   "id": "97a15bca-29fd-4a61-99ca-b00c06585733",
   "metadata": {},
   "source": [
    "##  🎯 Exercicios Resolvidos"
   ]
  },
  {
   "cell_type": "markdown",
   "id": "031bad73-ae2a-49ca-929a-f28ae186d6a6",
   "metadata": {},
   "source": [
    "### 1.🔢 Exercícios: Operadores Aritméticos"
   ]
  },
  {
   "cell_type": "markdown",
   "id": "176bde01-a51e-4d44-aaee-e52451a62292",
   "metadata": {},
   "source": [
    "#### A. Cálculo de IMC\n",
    "Calcule o Índice de Massa Corporal (peso / altura²) com:"
   ]
  },
  {
   "cell_type": "markdown",
   "id": "8524b030-37ae-40e1-8fd9-2cfe3d825955",
   "metadata": {},
   "source": [
    "#### Resposta:"
   ]
  },
  {
   "cell_type": "code",
   "execution_count": 3,
   "id": "26cb4fab-e064-4b60-845c-587f335a98ef",
   "metadata": {},
   "outputs": [
    {
     "name": "stdin",
     "output_type": "stream",
     "text": [
      "Digite seu peso em kg:  107\n",
      "Digite sua altura em centímetros:  184\n"
     ]
    },
    {
     "name": "stdout",
     "output_type": "stream",
     "text": [
      "Seu IMC é: 31.60\n"
     ]
    }
   ],
   "source": [
    "# Solicita ao usuário que digite o peso (em kg)\n",
    "peso = float(input(\"Digite seu peso em kg: \"))\n",
    "\n",
    "# Solicita ao usuário que digite a altura (em centímetros)\n",
    "altura_cm = float(input(\"Digite sua altura em centímetros: \"))\n",
    "\n",
    "# Converte a altura de centímetros para metros\n",
    "altura_m = altura_cm / 100\n",
    "\n",
    "# Calcula o IMC usando a fórmula peso / altura²\n",
    "imc = peso / (altura_m ** 2)\n",
    "\n",
    "# Exibe o resultado formatado com duas casas decimais\n",
    "print(f\"Seu IMC é: {imc:.2f}\")"
   ]
  },
  {
   "cell_type": "markdown",
   "id": "965fd510-4d76-465e-838a-8ec1135ad56f",
   "metadata": {},
   "source": [
    "## 🧠 Explicação detalhada\n",
    "### 🔹 Conversão de centímetros para metros\n",
    "- Como o IMC usa metros, dividimos a altura por 100:  \n",
    " altura_m = altura_cm / 100\n",
    "### 🔹 Fórmula do IMC\n",
    "- Usamos a altura convertida:  \n",
    "imc = peso / (altura_m ** 2)\n",
    "\n",
    "\n",
    "\n",
    "\n"
   ]
  },
  {
   "cell_type": "markdown",
   "id": "5815a344-7923-4efb-b1f4-38962b0066fa",
   "metadata": {},
   "source": [
    "### 2.⚖️ Exercícios: Operadores de Comparação"
   ]
  },
  {
   "cell_type": "markdown",
   "id": "e512dff7-d7c1-4aa0-8092-4aa5e49e1875",
   "metadata": {},
   "source": [
    "#### A. Controle de Estoque\n",
    "Crie a logica que o resultado seja \"True\" se tiver menos de 10 itens no estoque  \n",
    "estoque_atual = 7\n"
   ]
  },
  {
   "cell_type": "markdown",
   "id": "f6649298-0da9-4d42-a8de-9fc16ab70638",
   "metadata": {},
   "source": [
    "#### Resposta:"
   ]
  },
  {
   "cell_type": "code",
   "execution_count": 4,
   "id": "7a57ea1c-0141-4a66-9325-11171e9b846c",
   "metadata": {},
   "outputs": [
    {
     "name": "stdout",
     "output_type": "stream",
     "text": [
      "True\n"
     ]
    }
   ],
   "source": [
    "# Define a quantidade atual de itens no estoque\n",
    "estoque_atual = 7\n",
    "\n",
    "# Verifica se o estoque está abaixo de 10\n",
    "estoque_baixo = estoque_atual < 10\n",
    "\n",
    "# Exibe o resultado (True ou False)\n",
    "print(estoque_baixo)"
   ]
  },
  {
   "cell_type": "markdown",
   "id": "557c753f-d1bb-4226-96db-658eb4c58018",
   "metadata": {},
   "source": [
    "## 🧠 Explicação detalhada\n",
    "#### 🔹 estoque_atual = 7\n",
    "- Define a quantidade atual de itens no estoque.\n",
    "#### 🔹 estoque_atual < 10\n",
    "- Essa expressão retorna True se o valor for menor que 10.\n",
    "- Caso contrário, retorna False.\n",
    "#### 🔹 print(estoque_baixo)\n",
    "- Exibe o resultado da verificação.\n",
    "\n",
    "#### 🧪 Saída esperada\n",
    "Como estoque_atual = 7, o resultado será:  \n",
    "True\n",
    "\n",
    "\n"
   ]
  },
  {
   "cell_type": "markdown",
   "id": "bec0d973-08a3-441c-a31e-766018c5ed18",
   "metadata": {},
   "source": [
    "#### B}.Faixa Etária\n",
    "Confira se uma idade está entre 18 e 65 anos\n",
    "\n"
   ]
  },
  {
   "cell_type": "markdown",
   "id": "963ec61f-8f9e-466e-87a1-ae399bbfbc42",
   "metadata": {},
   "source": [
    "#### Resposta:"
   ]
  },
  {
   "cell_type": "code",
   "execution_count": 5,
   "id": "bdb6857f-ff1a-48bb-939f-aa89df643b9d",
   "metadata": {},
   "outputs": [
    {
     "name": "stdout",
     "output_type": "stream",
     "text": [
      "True\n"
     ]
    }
   ],
   "source": [
    "# Define a idade que será verificada\n",
    "idade = 30\n",
    "\n",
    "# Verifica se a idade está entre 18 e 65 (inclusive)\n",
    "faixa_aceita = 18 <= idade <= 65\n",
    "\n",
    "# Exibe o resultado (True ou False)\n",
    "print(faixa_aceita)"
   ]
  },
  {
   "cell_type": "markdown",
   "id": "cb1b7a36-0c22-4170-9161-1e36172e50a9",
   "metadata": {},
   "source": [
    "## 🧠 Explicação detalhada\n",
    "#### 🔹 idade = 30\n",
    "- Define a idade que será analisada.\n",
    "#### 🔹 18 <= idade <= 65\n",
    "- Essa expressão retorna True se a idade estiver entre 18 e 65, incluindo os limites.\n",
    "- Caso contrário, retorna False.\n",
    "#### 🔹 print(faixa_aceita)\n",
    "- Exibe o resultado da verificação.\n",
    "\n"
   ]
  },
  {
   "cell_type": "markdown",
   "id": "c9f4c1e5-d08a-4ed7-ba35-596c5ec6715a",
   "metadata": {},
   "source": [
    "### 3.� Exercícios: Operadores Lógicos"
   ]
  },
  {
   "cell_type": "markdown",
   "id": "348d5c22-f6cc-4e94-a87a-98efc66862db",
   "metadata": {},
   "source": [
    "#### A.Acesso VIP\n",
    "Permita entrada apenas para maiores de 18 anos OU acompanhados por adulto:  \n",
    "dados:  \n",
    "idade = 16  \n",
    "acompanhado = True"
   ]
  },
  {
   "cell_type": "markdown",
   "id": "36dc1dd3-ed1f-45af-a9f6-ff8456f852f8",
   "metadata": {},
   "source": [
    "#### Resposta:"
   ]
  },
  {
   "cell_type": "code",
   "execution_count": 38,
   "id": "8ae65677-8f19-440a-b31a-c54cbee907d1",
   "metadata": {},
   "outputs": [
    {
     "name": "stdout",
     "output_type": "stream",
     "text": [
      "True\n"
     ]
    }
   ],
   "source": [
    "# Dados fornecidos\n",
    "idade = 16\n",
    "acompanhado = True\n",
    "\n",
    "# Verifica se a pessoa pode entrar: maior de 18 OU acompanhada\n",
    "acesso_vip = idade >= 18 or acompanhado == True\n",
    "\n",
    "# Exibe o resultado (True = entrada permitida, False = entrada negada)\n",
    "print(acesso_vip)"
   ]
  },
  {
   "cell_type": "markdown",
   "id": "e4329ee2-e0e4-4be9-b3ba-8ea30f7c4c7d",
   "metadata": {},
   "source": [
    "## 🧠 Explicação detalhada\n",
    "#### 🔹 idade >= 18\n",
    "- Verifica se a pessoa é maior de idade.\n",
    "#### 🔹 acompanhado == True\n",
    "- Verifica se está acompanhada por um adulto.\n",
    "#### 🔹 or\n",
    "- O operador lógico or retorna True se pelo menos uma das condições for verdadeira.\n",
    "#### 🔹 acesso_vip = ...\n",
    "- A variável acesso_vip guarda o resultado da verificação.\n",
    "\n"
   ]
  },
  {
   "cell_type": "markdown",
   "id": "642832ee-1ab6-434a-a4a5-1b90d298fbc5",
   "metadata": {},
   "source": [
    "#### B.Triagem Médica\n",
    "Marque como urgente se:  \n",
    "Temperatura > 39°C  \n",
    "idade > 50  \n",
    "\n",
    "dados:  \n",
    "temperatura = 39.5  \n",
    "idade = 45\n"
   ]
  },
  {
   "cell_type": "markdown",
   "id": "8282a1b8-f531-4e62-b3ac-a098cd546de4",
   "metadata": {},
   "source": [
    "#### Resposta:"
   ]
  },
  {
   "cell_type": "code",
   "execution_count": 6,
   "id": "231e6b3e-969f-4400-b136-5c36b9efdacb",
   "metadata": {},
   "outputs": [
    {
     "name": "stdout",
     "output_type": "stream",
     "text": [
      "True\n"
     ]
    }
   ],
   "source": [
    "# Dados fornecidos\n",
    "temperatura = 39.5\n",
    "idade = 45\n",
    "\n",
    "# Verifica se o caso é urgente\n",
    "urgente = temperatura > 39 or idade > 50\n",
    "\n",
    "# Exibe o resultado (True = caso urgente, False = caso não urgente)\n",
    "print(urgente)"
   ]
  },
  {
   "cell_type": "markdown",
   "id": "5987d68e-9ac4-4d08-8a8b-6c94c8cad977",
   "metadata": {},
   "source": [
    "## 🧠 Explicação detalhada\n",
    "#### 🔹 temperatura > 39\n",
    "- Verifica se a temperatura está acima do limite crítico.\n",
    "#### 🔹 idade > 50\n",
    "- Verifica se a idade está acima do grupo de risco.\n",
    "#### 🔹 or\n",
    "- O operador or retorna True se pelo menos uma das condições for verdadeira.\n",
    "#### 🔹 urgente = ...\n",
    "- A variável urgente guarda o resultado da triagem.\n"
   ]
  },
  {
   "cell_type": "markdown",
   "id": "15735459-b983-48dd-9989-b4fef86d71a0",
   "metadata": {},
   "source": [
    "#### C.Desconto Especial\n",
    "Aplique desconto para:\n",
    "\n",
    "Idosos (>60 anos)\n",
    "OU\n",
    "\n",
    "\n",
    "Estudantes com carteirinha válida\n",
    "\n",
    "dados:  \n",
    "coloque dados ficticios\n",
    "\n"
   ]
  },
  {
   "cell_type": "markdown",
   "id": "6aa91fb1-6578-4a29-826c-3ef604bf5ffa",
   "metadata": {},
   "source": [
    "#### Resposta:"
   ]
  },
  {
   "cell_type": "code",
   "execution_count": 7,
   "id": "b77abe58-2e9d-4161-836f-b6b2e940ddb0",
   "metadata": {},
   "outputs": [
    {
     "name": "stdout",
     "output_type": "stream",
     "text": [
      "True\n"
     ]
    }
   ],
   "source": [
    "#Dados ficticios\n",
    "idade = 22\n",
    "estudante = True\n",
    "carteirinha_valida = True\n",
    "\n",
    "# Verifica se a pessoa é idosa\n",
    "idoso = idade > 60\n",
    "\n",
    "# Verifica se é estudante com carteirinha válida\n",
    "estudante_com_carteirinha = estudante and carteirinha_valida\n",
    "\n",
    "# Aplica desconto se for idoso OU estudante com carteirinha\n",
    "desconto = idoso or estudante_com_carteirinha\n",
    "\n",
    "# Exibe o resultado\n",
    "print(desconto)"
   ]
  },
  {
   "cell_type": "markdown",
   "id": "a9d8d49e-9a38-47ad-bdbc-bba8ef61dc42",
   "metadata": {},
   "source": [
    "## 🧠 Explicação detalhada\n",
    "#### 🔹 idade > 60\n",
    "- Verifica se a pessoa é idosa.\n",
    "#### 🔹 estudante and carteirinha_valida\n",
    "- Verifica se a pessoa é estudante e tem carteirinha válida.\n",
    "#### 🔹 idoso or estudante_com_carteirinha\n",
    "- Aplica o desconto se pelo menos uma das condições for verdadeira.\n"
   ]
  },
  {
   "cell_type": "markdown",
   "id": "3a4f3077-ad93-4073-b2f9-b39a5cf297c2",
   "metadata": {},
   "source": [
    "### 4.➡️ Exercícios: Operadores de Atribuição"
   ]
  },
  {
   "cell_type": "markdown",
   "id": "77ab0ab6-23c1-42c3-865e-923063ea2bcb",
   "metadata": {},
   "source": [
    "#### A.Contador Progressivo\n",
    "Incremente um valor inicial 5 vezes:  \n",
    "contador = 0\n",
    "\n",
    "\n"
   ]
  },
  {
   "cell_type": "markdown",
   "id": "c46530e1-c301-4205-9a5f-cfdefe2ff14a",
   "metadata": {},
   "source": [
    "#### Resposta:"
   ]
  },
  {
   "cell_type": "code",
   "execution_count": 45,
   "id": "5028b3b4-a5a9-421a-bf1d-a608ea86c04e",
   "metadata": {},
   "outputs": [
    {
     "name": "stdout",
     "output_type": "stream",
     "text": [
      "5\n"
     ]
    }
   ],
   "source": [
    "contador = 0\n",
    "contador += 1\n",
    "contador += 1\n",
    "contador += 1\n",
    "contador += 1\n",
    "contador += 1\n",
    "print(contador)  "
   ]
  },
  {
   "cell_type": "markdown",
   "id": "5b2fdced-021d-4762-ae98-1cf093f3abe1",
   "metadata": {},
   "source": [
    "## 🧠 Explicação detalhada\n",
    "#### 🔹 contador = 0\n",
    "- Aqui estamos criando a variável chamada contador.\n",
    "- Ela começa com o valor zero.\n",
    "\n",
    "#### 🔹 contador += 1\n",
    "- Essa linha é uma forma abreviada de escrever:\n",
    "contador = contador + 1\n",
    "- Ela incrementa o valor atual da variável em 1.\n",
    "- Após a primeira vez, contador passa de 0 para 1.\n",
    "\n",
    "\n"
   ]
  },
  {
   "cell_type": "markdown",
   "id": "08feb58c-ceb4-455b-9324-cfbe7991dbda",
   "metadata": {},
   "source": [
    "#### B.Redução de Inventário\n",
    "Subtraia 3 unidades de um produto com estoque inicial de 50"
   ]
  },
  {
   "cell_type": "markdown",
   "id": "f29bd6f0-017e-4d38-8fa0-a61e2bf0e778",
   "metadata": {},
   "source": [
    "#### Resposta:"
   ]
  },
  {
   "cell_type": "code",
   "execution_count": 8,
   "id": "6e3fccac-9433-40cf-89ee-971316e23b1b",
   "metadata": {},
   "outputs": [
    {
     "name": "stdout",
     "output_type": "stream",
     "text": [
      "Estoque atual: 47 unidades\n"
     ]
    }
   ],
   "source": [
    "# Estoque inicial\n",
    "estoque = 50\n",
    "\n",
    "# Subtrai 3 unidades do estoque\n",
    "estoque -= 3  # Equivale a: estoque = estoque - 3\n",
    "\n",
    "# Exibe o estoque restante\n",
    "print(f\"Estoque atual: {estoque} unidades\")"
   ]
  },
  {
   "cell_type": "markdown",
   "id": "71391bdd-1ef7-4c6a-b874-da64cd96b58e",
   "metadata": {},
   "source": [
    "## 🧠 Explicação detalhada\n",
    "#### 🔹 estoque = 50\n",
    "- Define a quantidade inicial de produtos no estoque.\n",
    "#### 🔹 estoque -= 3\n",
    "- Subtrai 3 unidades do valor atual.\n"
   ]
  }
 ],
 "metadata": {
  "kernelspec": {
   "display_name": "Python [conda env:base] *",
   "language": "python",
   "name": "conda-base-py"
  },
  "language_info": {
   "codemirror_mode": {
    "name": "ipython",
    "version": 3
   },
   "file_extension": ".py",
   "mimetype": "text/x-python",
   "name": "python",
   "nbconvert_exporter": "python",
   "pygments_lexer": "ipython3",
   "version": "3.12.7"
  }
 },
 "nbformat": 4,
 "nbformat_minor": 5
}
