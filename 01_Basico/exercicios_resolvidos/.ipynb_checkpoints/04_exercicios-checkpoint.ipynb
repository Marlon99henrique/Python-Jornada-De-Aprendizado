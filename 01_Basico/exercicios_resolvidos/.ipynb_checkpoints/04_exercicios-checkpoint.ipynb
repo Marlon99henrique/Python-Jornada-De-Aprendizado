{
 "cells": [
  {
   "cell_type": "markdown",
   "id": "69e62721-a99a-4bff-a557-9903a6121ce6",
   "metadata": {},
   "source": [
    "##  🎯 Exercicios resolvidos\n"
   ]
  },
  {
   "cell_type": "markdown",
   "id": "bc08fe66-4737-4c04-8183-842578922226",
   "metadata": {},
   "source": [
    "#### 1. Digite um numero e verifique:  \n",
    "Se for positivo, imprima \"Positivo\"  \n",
    "Se for negativo, imprima \"Negativo\"  \n",
    "Se for zero, imprima \"Zero\" "
   ]
  },
  {
   "cell_type": "markdown",
   "id": "99dcd054-e4ba-4d10-9750-31ef3a1a03e5",
   "metadata": {},
   "source": [
    "### Resposta:"
   ]
  },
  {
   "cell_type": "code",
   "execution_count": 15,
   "id": "d8da6b15-0576-4a03-ba36-4e620f1b3460",
   "metadata": {},
   "outputs": [
    {
     "name": "stdin",
     "output_type": "stream",
     "text": [
      "Digite um número:  5\n"
     ]
    },
    {
     "name": "stdout",
     "output_type": "stream",
     "text": [
      "Positivo\n"
     ]
    }
   ],
   "source": [
    "# Passo 1: Solicita ao usuário que digite um número\n",
    "numero = float(input(\"Digite um número: \"))\n",
    "\n",
    "# Passo 2: Verifica se o número é positivo\n",
    "if numero > 0:\n",
    "    print(\"Positivo\")\n",
    "\n",
    "# Passo 3: Verifica se o número é negativo\n",
    "elif numero < 0:\n",
    "    print(\"Negativo\")\n",
    "\n",
    "# Passo 4: Se não for maior nem menor que zero, só pode ser zero\n",
    "else:\n",
    "    print(\"Zero\")"
   ]
  },
  {
   "cell_type": "markdown",
   "id": "9f52d796-437b-4117-b8ea-a8407d730c7f",
   "metadata": {},
   "source": [
    "## 🧠 Explicação detalhada\n",
    "### 🔹 input(\"Digite um número: \")\n",
    "- Essa função exibe uma mensagem e espera o usuário digitar algo.\n",
    "- O valor retornado é sempre uma string, então usamos float() para converter para número decimal (caso o usuário digite, por exemplo, 3.5).\n",
    "### 🔹 if numero > 0:\n",
    "- Se o número for maior que zero, ele é positivo.\n",
    "- O programa imprime \"Positivo\".\n",
    "### 🔹 elif numero < 0:\n",
    "- Se o número for menor que zero, ele é negativo.\n",
    "- O programa imprime \"Negativo\".\n",
    "### 🔹 else:\n",
    "- Se não for maior nem menor que zero, então só pode ser zero.\n",
    "- O programa imprime \"Zero\".\n"
   ]
  },
  {
   "cell_type": "markdown",
   "id": "f7e1940c-daae-4ff6-bed8-3adf8e41ff9d",
   "metadata": {},
   "source": [
    "#### 2. Digite um número e verifique:\n",
    "se ele ele estiver entre 5 e 10, imprima na tela a mensagem \" numero aceito\".  \n",
    "se ele não estiver imprima a mensage \"numero não aceito\""
   ]
  },
  {
   "cell_type": "markdown",
   "id": "84d18d7c-3c2e-48b0-ae5e-51f204691fa6",
   "metadata": {},
   "source": [
    "### Resposta:"
   ]
  },
  {
   "cell_type": "code",
   "execution_count": 16,
   "id": "9ac4160d-0aa5-44db-a07f-73082a54bbf1",
   "metadata": {},
   "outputs": [
    {
     "name": "stdin",
     "output_type": "stream",
     "text": [
      "Digite um número:  8\n"
     ]
    },
    {
     "name": "stdout",
     "output_type": "stream",
     "text": [
      "Número aceito\n"
     ]
    }
   ],
   "source": [
    "# Passo 1: Solicita ao usuário que digite um número\n",
    "numero = float(input(\"Digite um número: \"))\n",
    "\n",
    "# Passo 2: Verifica se o número está entre 5 e 10 (inclusive)\n",
    "if 5 <= numero <= 10:\n",
    "    print(\"Número aceito\")\n",
    "else:\n",
    "    print(\"Número não aceito\")\n",
    "    "
   ]
  },
  {
   "cell_type": "markdown",
   "id": "3db41b54-a947-4fea-93b8-22fc2175f4c7",
   "metadata": {},
   "source": [
    "## 🧠 Explicação detalhada\n",
    "### 🔹 float(input(\"Digite um número: \"))\n",
    "- Recebe a entrada do usuário e converte para número decimal.\n",
    "- Usamos float para permitir números com casas decimais, como 7.5.\n",
    "### 🔹 if 5 <= numero <= 10:\n",
    "- Essa é uma forma compacta de verificar se o número está entre 5 e 10, incluindo os limites.\n"
   ]
  },
  {
   "cell_type": "markdown",
   "id": "be057a44-e167-4845-abde-3687ae432c7e",
   "metadata": {},
   "source": [
    "#### 3. faça um loop que vai começa do numero 3 e vai para no numero 10"
   ]
  },
  {
   "cell_type": "markdown",
   "id": "37fecb16-8a5c-4555-a21b-ecd3882e3e60",
   "metadata": {},
   "source": [
    "### Resposta:"
   ]
  },
  {
   "cell_type": "code",
   "execution_count": 17,
   "id": "b87a6c1d-daed-44be-9cb8-a97070303f46",
   "metadata": {},
   "outputs": [
    {
     "name": "stdout",
     "output_type": "stream",
     "text": [
      "3\n",
      "4\n",
      "5\n",
      "6\n",
      "7\n",
      "8\n",
      "9\n",
      "10\n"
     ]
    }
   ],
   "source": [
    "# Começa com o número 3\n",
    "i = 3\n",
    "\n",
    "# Enquanto i for menor ou igual a 10, o loop continua\n",
    "while i <= 10:\n",
    "    print(i)\n",
    "    i += 1  # Incrementa i em 1 a cada repetição"
   ]
  },
  {
   "cell_type": "markdown",
   "id": "46d00620-c9fa-4d4f-8dc8-999705b641c7",
   "metadata": {},
   "source": [
    "## 🧠 Explicação:\n",
    "- i = 3: inicializa a variável com o valor de início.\n",
    "- while i <= 10: o loop continua enquanto i for menor ou igual a 10.\n",
    "- print(i): exibe o valor atual de i.\n",
    "- i += 1: aumenta i em 1 a cada volta do loop.\n"
   ]
  },
  {
   "cell_type": "markdown",
   "id": "5b8674ed-1744-4de0-9a70-b310324f8172",
   "metadata": {},
   "source": [
    "#### 4. faça um loop que vai começa do numero 2 e vai para no numero 9, mas ignore o numero 7"
   ]
  },
  {
   "cell_type": "markdown",
   "id": "45a03c40-78a4-4c72-aeef-4d6d403d0343",
   "metadata": {},
   "source": [
    "### Resposta:"
   ]
  },
  {
   "cell_type": "code",
   "execution_count": 12,
   "id": "31f64171-28f6-47bb-b09a-5eef0999ac8f",
   "metadata": {},
   "outputs": [
    {
     "name": "stdout",
     "output_type": "stream",
     "text": [
      "3\n",
      "4\n",
      "5\n",
      "6\n",
      "8\n",
      "9\n",
      "10\n"
     ]
    }
   ],
   "source": [
    "i = 2\n",
    "\n",
    "while i <= 9:\n",
    "    if i == 7:\n",
    "        i += 1  # Avança para o próximo número antes de imprimir\n",
    "        continue  # Pula o restante do código e volta ao início do loop\n",
    "    print(i)\n",
    "    i += 1"
   ]
  },
  {
   "cell_type": "markdown",
   "id": "8d496b95-448d-4e11-bcc2-4a6115297312",
   "metadata": {},
   "source": [
    "## 🧠 Explicação:\n",
    "- Começa com i = 2.\n",
    "- O loop continua enquanto i <= 9.\n",
    "- Se i == 7, o continue faz o loop pular o print(i).\n",
    "- i += 1 garante que o número avance a cada repetição.\n"
   ]
  },
  {
   "cell_type": "markdown",
   "id": "d26ad571-a1b6-4d2b-b34c-b6b46d6853a3",
   "metadata": {},
   "source": [
    "#### 5. faça um loop que vai começa do numero 1 e vai para no numero 15, quando cheagr no numero 4, vai parar e impimir a mensagem \" número 4 achado\""
   ]
  },
  {
   "cell_type": "markdown",
   "id": "d1ec7c9e-8505-4429-b73d-443d2c96ef17",
   "metadata": {},
   "source": [
    "### Resposta:"
   ]
  },
  {
   "cell_type": "code",
   "execution_count": 18,
   "id": "318e2179-3ced-4b05-8fcc-ff37583af82f",
   "metadata": {},
   "outputs": [
    {
     "name": "stdout",
     "output_type": "stream",
     "text": [
      "1\n",
      "2\n",
      "3\n",
      "Número 4 achado\n"
     ]
    }
   ],
   "source": [
    "i = 1\n",
    "\n",
    "while i <= 15:\n",
    "    if i == 4:\n",
    "        print(\"Número 4 achado\")\n",
    "        break  # Encerra o loop imediatamente\n",
    "    print(i)\n",
    "    i += 1"
   ]
  },
  {
   "cell_type": "markdown",
   "id": "3ce55a83-2645-4522-9fb5-26b0a5644775",
   "metadata": {},
   "source": [
    "## 🧠 Explicação:\n",
    "- Começa com i = 1.\n",
    "- O loop continua enquanto i <= 15.\n",
    "- Quando i == 4, imprime a mensagem e interrompe o loop com break.\n",
    "- Os números anteriores a 4 são exibidos normalmente.\n"
   ]
  },
  {
   "cell_type": "markdown",
   "id": "9375d411-f4db-46d7-8ed4-ee28b6f957ce",
   "metadata": {},
   "source": [
    "#### 6. faça um loop que vai contar carneirinho( de 1 carneirinho, até 15 carneirinho):"
   ]
  },
  {
   "cell_type": "markdown",
   "id": "8b324e64-b801-45c5-a97a-0629bfe40a7e",
   "metadata": {},
   "source": [
    "### Resposta"
   ]
  },
  {
   "cell_type": "code",
   "execution_count": 19,
   "id": "2d769923-6452-4fa8-ad7a-91b6c57cb73f",
   "metadata": {},
   "outputs": [
    {
     "name": "stdout",
     "output_type": "stream",
     "text": [
      "1 carneirinho(s)... 🐑\n",
      "2 carneirinho(s)... 🐑\n",
      "3 carneirinho(s)... 🐑\n",
      "4 carneirinho(s)... 🐑\n",
      "5 carneirinho(s)... 🐑\n",
      "6 carneirinho(s)... 🐑\n",
      "7 carneirinho(s)... 🐑\n",
      "8 carneirinho(s)... 🐑\n",
      "9 carneirinho(s)... 🐑\n",
      "10 carneirinho(s)... 🐑\n",
      "11 carneirinho(s)... 🐑\n",
      "12 carneirinho(s)... 🐑\n",
      "13 carneirinho(s)... 🐑\n",
      "14 carneirinho(s)... 🐑\n",
      "15 carneirinho(s)... 🐑\n"
     ]
    }
   ],
   "source": [
    "for i in range(1, 16):  # Vai de 1 até 15\n",
    "    print(f\"{i} carneirinho(s)... 🐑\")"
   ]
  },
  {
   "cell_type": "markdown",
   "id": "ec409c76-a033-4c00-afc8-01a1dc2acfed",
   "metadata": {},
   "source": [
    "## 🧠 Explicação:\n",
    "### - range(1, 16) gera os números de 1 até 15.\n",
    "- f\"{i} carneirinho(s)... 🐑\" usa f-strings para inserir o número na frase.\n",
    "- O emoji 🐑 deixa a contagem mais divertida!\n",
    "\n",
    "### ✅ Usando while (mesmo resultado)\n",
    "i = 1\n",
    "\n",
    "while i <= 15:\n",
    "    print(f\"{i} carneirinho(s)... 🐑\")\n",
    "    i += 1\n",
    "\n",
    "\n",
    "\n",
    "####  Saída esperada\n",
    "1 carneirinho(s)... 🐑\n",
    "2 carneirinho(s)... 🐑\n",
    "3 carneirinho(s)... 🐑\n",
    "...\n",
    "15 carneirinho(s)... 🐑\n",
    "\n"
   ]
  },
  {
   "cell_type": "code",
   "execution_count": null,
   "id": "5c46e14a-e119-42f0-8f18-85d731048276",
   "metadata": {},
   "outputs": [],
   "source": []
  }
 ],
 "metadata": {
  "kernelspec": {
   "display_name": "Python [conda env:base] *",
   "language": "python",
   "name": "conda-base-py"
  },
  "language_info": {
   "codemirror_mode": {
    "name": "ipython",
    "version": 3
   },
   "file_extension": ".py",
   "mimetype": "text/x-python",
   "name": "python",
   "nbconvert_exporter": "python",
   "pygments_lexer": "ipython3",
   "version": "3.12.7"
  }
 },
 "nbformat": 4,
 "nbformat_minor": 5
}
