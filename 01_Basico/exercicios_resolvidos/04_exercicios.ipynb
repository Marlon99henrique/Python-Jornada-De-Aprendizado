{
 "cells": [
  {
   "cell_type": "markdown",
   "id": "69e62721-a99a-4bff-a557-9903a6121ce6",
   "metadata": {},
   "source": [
    "##  🎯 Exercicios resolvidos\n"
   ]
  },
  {
   "cell_type": "markdown",
   "id": "bc08fe66-4737-4c04-8183-842578922226",
   "metadata": {},
   "source": [
    "#### 1.Exercício Proposto:\n",
    "Digite um numero e verifique:  \n",
    "Se for positivo, imprima \"Positivo\"  \n",
    "Se for negativo, imprima \"Negativo\"  \n",
    "Se for zero, imprima \"Zero\"  "
   ]
  },
  {
   "cell_type": "markdown",
   "id": "99dcd054-e4ba-4d10-9750-31ef3a1a03e5",
   "metadata": {},
   "source": [
    "### Resposta:"
   ]
  },
  {
   "cell_type": "code",
   "execution_count": 16,
   "id": "d8da6b15-0576-4a03-ba36-4e620f1b3460",
   "metadata": {},
   "outputs": [
    {
     "name": "stdout",
     "output_type": "stream",
     "text": [
      "O número digitado é 0\n"
     ]
    }
   ],
   "source": [
    "numero = 0\n",
    "\n",
    "if numero >0:\n",
    "    print(f'O número {numero} é positivo')\n",
    "elif numero <0:\n",
    "    print(f'O número {numero} é negativo')\n",
    "else:\n",
    "    print(\"O número digitado é 0\")"
   ]
  },
  {
   "cell_type": "code",
   "execution_count": null,
   "id": "9a791a64-d3ed-4334-81c9-59f8380e1d25",
   "metadata": {},
   "outputs": [],
   "source": []
  }
 ],
 "metadata": {
  "kernelspec": {
   "display_name": "Python [conda env:base] *",
   "language": "python",
   "name": "conda-base-py"
  },
  "language_info": {
   "codemirror_mode": {
    "name": "ipython",
    "version": 3
   },
   "file_extension": ".py",
   "mimetype": "text/x-python",
   "name": "python",
   "nbconvert_exporter": "python",
   "pygments_lexer": "ipython3",
   "version": "3.12.7"
  }
 },
 "nbformat": 4,
 "nbformat_minor": 5
}
