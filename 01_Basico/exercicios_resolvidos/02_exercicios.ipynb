{
 "cells": [
  {
   "cell_type": "markdown",
   "id": "a9e88ee4-691b-40ee-b22b-432f3a079d0f",
   "metadata": {},
   "source": [
    "##  🎯 Exercicios Resolvidos"
   ]
  },
  {
   "cell_type": "markdown",
   "id": "04ddb3af-a3d7-465e-b1d5-a256a7bb3345",
   "metadata": {},
   "source": [
    "### 1. Exiba a seguinte mensagem na tela\n",
    "Meu nome é \"seu nome\", moro na cidade \"sua cidade\", e tenho \"sua idade\" anos.\n",
    "\n",
    "seu nome, sua cidade, e sua idade quero que sejam variaveis"
   ]
  },
  {
   "cell_type": "code",
   "execution_count": 2,
   "id": "39c949e4-179e-483f-b9b9-daa59b1bde31",
   "metadata": {},
   "outputs": [
    {
     "name": "stdout",
     "output_type": "stream",
     "text": [
      "Meu nome é Marlon, moro na cidade Brasília, e tenho 25 anos.\n"
     ]
    }
   ],
   "source": [
    "# Definindo as variáveis\n",
    "nome = \"Marlon\"\n",
    "cidade = \"Brasília\"\n",
    "idade = 25\n",
    "\n",
    "# Exibindo a mensagem com as variáveis\n",
    "print(f'Meu nome é {nome}, moro na cidade {cidade}, e tenho {idade} anos.')"
   ]
  },
  {
   "cell_type": "markdown",
   "id": "04080ab5-e15f-4e32-94ca-3925963880ef",
   "metadata": {},
   "source": [
    "## 🧠 Explicação detalhada\n",
    "### 🔹 Variáveis\n",
    "- nome, cidade e idade são variáveis que armazenam informações pessoais.\n",
    "- Você pode mudar os valores para qualquer outro nome, cidade ou idade.\n",
    "### 🔹 f-string\n",
    "- A expressão f'...' permite inserir variáveis diretamente dentro da string.\n",
    "- As aspas dentro da mensagem são exibidas normalmente porque estão entre aspas simples externas.\n"
   ]
  },
  {
   "cell_type": "markdown",
   "id": "587f24bc-3a1b-46fd-8104-4f4b7fcbf764",
   "metadata": {},
   "source": [
    "### 2. Comente no codigo do ultimo exercio explicando oque cada linha faz:"
   ]
  },
  {
   "cell_type": "code",
   "execution_count": 4,
   "id": "1327d887-0614-4e4a-b23d-ab2230a9e7d9",
   "metadata": {},
   "outputs": [
    {
     "name": "stdout",
     "output_type": "stream",
     "text": [
      "Meu nome é Marlon, moro na cidade Brasília, e tenho 25 anos.\n"
     ]
    }
   ],
   "source": [
    "# Define a variável 'nome' com o valor \"Marlon\"\n",
    "nome = \"Marlon\"\n",
    "\n",
    "# Define a variável 'cidade' com o valor \"Brasília\"\n",
    "cidade = \"Brasília\"\n",
    "\n",
    "# Define a variável 'idade' com o valor 25\n",
    "idade = 25\n",
    "\n",
    "# Exibe uma mensagem formatada na tela, usando as variáveis\n",
    "# As aspas dentro da mensagem são exibidas porque estão entre aspas simples\n",
    "print(f'Meu nome é {nome}, moro na cidade {cidade}, e tenho {idade} anos.')"
   ]
  },
  {
   "cell_type": "markdown",
   "id": "53b8a991-02f2-4bb6-9f46-4b51b284262d",
   "metadata": {},
   "source": [
    "## 🧠 Explicação geral\n",
    "- As três primeiras linhas guardam informações em variáveis.\n",
    "- A última linha usa essas variáveis para montar uma frase personalizada.\n",
    "- O f-string (f'...') é uma forma prática de inserir valores de variáveis diretamente dentro do texto.\n"
   ]
  },
  {
   "cell_type": "code",
   "execution_count": null,
   "id": "c977bd6a-4cd3-42c9-88dc-91420a5c0abc",
   "metadata": {},
   "outputs": [],
   "source": []
  }
 ],
 "metadata": {
  "kernelspec": {
   "display_name": "Python [conda env:base] *",
   "language": "python",
   "name": "conda-base-py"
  },
  "language_info": {
   "codemirror_mode": {
    "name": "ipython",
    "version": 3
   },
   "file_extension": ".py",
   "mimetype": "text/x-python",
   "name": "python",
   "nbconvert_exporter": "python",
   "pygments_lexer": "ipython3",
   "version": "3.12.7"
  }
 },
 "nbformat": 4,
 "nbformat_minor": 5
}
