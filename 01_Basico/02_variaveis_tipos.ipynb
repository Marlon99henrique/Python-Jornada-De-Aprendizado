{
 "cells": [
  {
   "cell_type": "markdown",
   "id": "f1647e39-1d4d-45f9-a70a-99c9cc199053",
   "metadata": {},
   "source": [
    "# 📌 Variáveis e Tipos de Dados\n",
    "\n",
    "## 🔹 O que é uma variável?\n",
    "Uma **variável** é um espaço na memória do computador usado para armazenar um valor que pode ser usado e modificado durante a execução do programa.\n",
    "\n",
    "**Características:**\n",
    "- Tem **nome** (identificador)\n",
    "- **Armazena um valor**\n",
    "- Pode **mudar de valor** durante a execução\n",
    "- No Python, **não é necessário declarar o tipo** (tipagem dinâmica)\n",
    "\n",
    "---\n",
    "\n",
    "## 📝 Criando variáveis no Python\n"
   ]
  },
  {
   "cell_type": "code",
   "execution_count": 12,
   "id": "dedeb6c9-0536-467f-8f7b-9fa7ad26cfe7",
   "metadata": {},
   "outputs": [
    {
     "name": "stdout",
     "output_type": "stream",
     "text": [
      "Maria\n",
      "25\n",
      "1.68\n",
      "True\n"
     ]
    }
   ],
   "source": [
    "# Exemplo de criação de variáveis\n",
    "nome = \"Maria\"\n",
    "idade = 25\n",
    "altura = 1.68\n",
    "estudando = True\n",
    "\n",
    "print(nome)\n",
    "print(idade)\n",
    "print(altura)\n",
    "print(estudando)\n"
   ]
  },
  {
   "cell_type": "markdown",
   "id": "2dda8c98-1ee8-4861-b07a-5fd77bee2007",
   "metadata": {
    "jp-MarkdownHeadingCollapsed": true
   },
   "source": [
    "### Tipos de Dados mais comuns\n",
    "\n",
    "O Python possui vários tipos de dados, mas os principais são:\n",
    "\n",
    "| Tipo   | Exemplo    | Descrição                               |\n",
    "|--------|------------|-----------------------------------------|\n",
    "| `int`  | `10`       | Número inteiro                          |\n",
    "| `float`| `3.14`     | Número decimal (ponto flutuante)        |\n",
    "| `str`  | `\"Python\"` | Texto (string)                          |\n",
    "| `bool` | `True`/`False` | Valores booleanos (verdadeiro/falso) |"
   ]
  },
  {
   "cell_type": "markdown",
   "id": "8ba39351-3339-439d-95b6-2fb6b2034e0b",
   "metadata": {},
   "source": [
    "## 🐍 Tipos de Dados Fundamentais em Python\n",
    "\n",
    "### 1. 🔢 Inteiro (`int`)\n",
    "#### O que é:  \n",
    "Armazena números inteiros (positivos ou negativos) sem casas decimais.\n",
    "\n",
    "\n",
    "\n",
    "#### Como declarar:\n",
    "\n",
    "#### Sintaxe básica\n",
    "nome_variavel = valor_inteiro\n",
    "\n",
    "#### Exemplos\n"
   ]
  },
  {
   "cell_type": "code",
   "execution_count": null,
   "id": "2606240c-efc5-458a-8b61-c003e10f31a7",
   "metadata": {},
   "outputs": [],
   "source": [
    "quantidade = 10\n",
    "temperatura = -5\n",
    "codigo_produto = 42"
   ]
  },
  {
   "cell_type": "markdown",
   "id": "a959ac95-5587-4197-9a97-864ba1a7557d",
   "metadata": {},
   "source": [
    "#### Características\n",
    "\n",
    "- Suporta operações matemáticas básicas: `+`, `-`, `*`, `/`\n",
    "- Pode usar underscores para legibilidade: `1_000_000`"
   ]
  },
  {
   "cell_type": "markdown",
   "id": "f709db57-bb08-4e85-9f87-0ea0703ad702",
   "metadata": {},
   "source": [
    "### 2. 📊 Decimal (float)\n",
    "\n",
    "#### O que é:  \n",
    "Armazena números reais (com casas decimais).\n",
    "\n",
    "#### Como declarar:  \n",
    "\n"
   ]
  },
  {
   "cell_type": "code",
   "execution_count": 96,
   "id": "25def73d-bd6f-4dc8-8bd5-f4ee9ca400b1",
   "metadata": {},
   "outputs": [],
   "source": [
    "valor = 3.14\n",
    "preco = 99.99"
   ]
  },
  {
   "cell_type": "markdown",
   "id": "b99dcb91-5c93-4e74-bb7b-0704cee0f05d",
   "metadata": {},
   "source": [
    "#### Sintaxe básica\n",
    "nome_variavel = valor_decimal\n",
    "\n",
    "#### Exemplos\n"
   ]
  },
  {
   "cell_type": "code",
   "execution_count": 59,
   "id": "3154350b-00dd-474f-b714-41a892a92285",
   "metadata": {},
   "outputs": [],
   "source": [
    "preco = 19.99\n",
    "pi = 3.141592\n",
    "imc = 22.5"
   ]
  },
  {
   "cell_type": "markdown",
   "id": "b37ac52c-c6e2-428b-96b5-25b11b6da132",
   "metadata": {},
   "source": [
    "### ⚠️ Cuidados\n",
    "\n",
    "- A precisão decimal pode variar em operações complexas.\n",
    "- Para cálculos financeiros, considere usar `Decimal` do módulo `decimal`:\n",
    "\n"
   ]
  },
  {
   "cell_type": "code",
   "execution_count": 120,
   "id": "d24c7f19-f758-4f66-a1a0-f2e83ada1776",
   "metadata": {},
   "outputs": [
    {
     "name": "stdout",
     "output_type": "stream",
     "text": [
      "104.9895\n"
     ]
    }
   ],
   "source": [
    "  from decimal import Decimal\n",
    "\n",
    "  preco = Decimal('99.99')\n",
    "  taxa = Decimal('0.05')\n",
    "  total = preco * (1 + taxa)\n",
    "  print(total)"
   ]
  },
  {
   "cell_type": "markdown",
   "id": "33716bef-9a3b-43e6-b6e8-4c83c8450521",
   "metadata": {},
   "source": [
    "## 3. 🔤 Texto (str)\n",
    "\n",
    "#### O que é: \n",
    "Armazena sequências de caracteres (texto).\n",
    "\n",
    "### Como declarar:\n"
   ]
  },
  {
   "cell_type": "markdown",
   "id": "526289c3-0404-4714-99f1-8d0fe55f0f2a",
   "metadata": {},
   "source": [
    "#### Sintaxe básica\n",
    "nome_variavel = \"texto\"  # Aspas simples ou duplas\n",
    "\n",
    "#### Exemplos\n",
    "produto = \"Notebook\"\n",
    "\n",
    "mensagem = 'Olá, mundo!'\n",
    "\n",
    "endereco = \"\"\"Rua Python, 123\"\"\"  # Para múltiplas linhas"
   ]
  },
  {
   "cell_type": "markdown",
   "id": "cd67f118-ad8c-4b72-8c6d-3108eebd0c55",
   "metadata": {},
   "source": [
    "#### Operações úteis:\n",
    "\n",
    "- Concatenação: `nome + sobrenome`\n",
    "- Formatação: `f\"Olá, {nome}\"`\n",
    "- Métodos: `.upper()`, `.split()`, `.replace()`"
   ]
  },
  {
   "cell_type": "markdown",
   "id": "8fb6dd58-ab79-4225-b54a-7925387d1842",
   "metadata": {},
   "source": [
    "### 4. ✅❌ Booleano (`bool`)  \n",
    "\n",
    "#### O que é: \n",
    "Armazena valores lógicos (`True` ou `False`).  \n",
    "\n",
    "#### Como declarar: \n",
    "\n"
   ]
  },
  {
   "cell_type": "code",
   "execution_count": 125,
   "id": "a0fdaa06-eb48-44eb-9d01-cbb33383c538",
   "metadata": {},
   "outputs": [],
   "source": [
    "\n",
    "verdadeiro = True  \n",
    "falso = False  "
   ]
  },
  {
   "cell_type": "markdown",
   "id": "69f754b5-b07a-4635-a4f1-eaa7bf5a44f9",
   "metadata": {},
   "source": [
    "#### Sintaxe básica\n",
    "nome_variave> = True/False\n",
    "\n",
    "Segui a mesma logica de declaração, apenas o (True /False), que devem começar com letra maiuscula\n",
    "\n",
    "\n",
    "\n",
    "\n",
    "#### Exemplos\n",
    "disponivel = True\n",
    "\n",
    "tem_estoque = False\n",
    "\n",
    "eh_admin = (nivel_acesso == 5)\n",
    "\n"
   ]
  },
  {
   "cell_type": "markdown",
   "id": "6c054cd1-dbd1-4947-90dc-d630fc291040",
   "metadata": {},
   "source": [
    "**Uso comum:**\n",
    "- 🎛️ **Controle de fluxo**: `if`, `while`\n",
    "- 🤔 **Expressões condicionais**: comparações (`>`, `==`, etc.)\n",
    "- 🚩 **Flags de estado**: variáveis booleanas para controle"
   ]
  },
  {
   "cell_type": "markdown",
   "id": "702f315b-1fbb-4a27-8b34-116dc932e251",
   "metadata": {},
   "source": [
    "### 📌 Dicas Essenciais  \n",
    "Sempre use nomes descritivos para variáveis  \n",
    "\n",
    "Python é dinamicamente tipado (não declare tipos explicitamente)  \n",
    "\n",
    "Verifique tipos com type(): type(10) → <class 'int'>  \n",
    "\n",
    "Conversões entre tipos: int(), float(), str(), bool()  \n"
   ]
  },
  {
   "cell_type": "markdown",
   "id": "66a1a140-0cbe-450a-b759-c0981785a9d9",
   "metadata": {},
   "source": [
    "## **Como Verificar o Tipo de uma Variável**  \n",
    "Use a função `type()` para identificar o tipo de uma variável:  \n",
    "\n"
   ]
  },
  {
   "cell_type": "code",
   "execution_count": 165,
   "id": "386b76aa-4483-42cb-b1d5-c44cf0409fff",
   "metadata": {},
   "outputs": [
    {
     "name": "stdout",
     "output_type": "stream",
     "text": [
      "<class 'int'>\n",
      "<class 'float'>\n",
      "<class 'str'>\n",
      "<class 'bool'> <class 'bool'>\n"
     ]
    }
   ],
   "source": [
    " \n",
    "numero_inteiro = 42\n",
    "print(type(numero))                     # Saída: <class 'int'>  \n",
    "                                        # int é igual a número inteiro\n",
    "\n",
    "numero_decimal = 17.45\n",
    "print(type(numero_decimal))             # Saída: <class 'float'>\n",
    "                                        # float é igual a número decimal\n",
    "\n",
    "texto = \"Python\"\n",
    "print(type(texto))                      # Saída: <class 'str'>\n",
    "                                        # str é igual a string\n",
    "verdadeiro = True\n",
    "falso = False\n",
    "print(type(verdadeiro),type(falso))     # Saída: <class \"bool'><class 'bool'>\n",
    "                                        # bool é igual a booleano/verdadeiro ou falso\n"
   ]
  },
  {
   "cell_type": "markdown",
   "id": "636bc774-0a35-4dc9-9ceb-502637b6ae97",
   "metadata": {},
   "source": [
    "## 🐍💡 Guia Completo de Nomenclatura em Python\n",
    "\n",
    "### 📌 Boas Práticas Essenciais\n",
    "- **Nomes significativos**:\n"
   ]
  },
  {
   "cell_type": "code",
   "execution_count": 24,
   "id": "55565062-2076-47ba-99e9-c407b2d237bd",
   "metadata": {},
   "outputs": [],
   "source": [
    " \n",
    "  saldo_conta = 1000\n",
    "  nome_cliente = \"Maria\"\n",
    "  temperatura_celsius = 25.5\n",
    "  \n",
    " "
   ]
  },
  {
   "cell_type": "markdown",
   "id": "cea87a41-615c-4b62-be4f-e5d64c326a94",
   "metadata": {},
   "source": [
    " ### ❌ Evitar\n",
    "  x = 1000\n",
    "  a = \"Maria\"\n",
    "  temp = 25.5"
   ]
  },
  {
   "cell_type": "markdown",
   "id": "b0abc4b0-dbcc-47db-a3c1-48a0be194094",
   "metadata": {},
   "source": [
    "## ⚠️ Regras Fundamentais\n",
    "\n",
    "### Estrutura básica permitida:\n",
    "\n",
    "✅ Letras minúsculas: `a`–`z`  \n",
    "✅ Números (após a primeira letra): ex. `produto1`  \n",
    "✅ Underline para separação: `snake_case`\n",
    "\n",
    "### Não permitido:\n",
    "\n",
    "❌ Caracteres especiais: `@`, `!`, `#`, etc.  \n",
    "❌ Espaços em branco\n",
    "\n",
    "### Exemplos práticos:\n",
    "**Válidos:**\n",
    "\n",
    "usuario_id = 42\n",
    "\n",
    "_valor_temporario = 3.14\n",
    "\n",
    "\n",
    "**Inválidos**\n",
    "\n",
    "2pac = \"artista\"  # Erro!\n",
    "\n",
    "preço_total = 99  # Caractere especial 'ç'\n",
    "\n"
   ]
  },
  {
   "cell_type": "markdown",
   "id": "e988f49f-1448-4e17-927a-0733b226ac11",
   "metadata": {},
   "source": [
    "## 🐍 Padrão Pythonico (PEP 8)\n",
    "\n",
    "| Contexto   | Padrão       | Exemplos              |\n",
    "|------------|--------------|------------------------|\n",
    "| Variáveis  | `snake_case` | `quantidade_itens`     |\n",
    "| Constantes | `UPPER_CASE` | `TAXA_JUROS = 0.05`    |\n",
    "| Funções    | `snake_case` | `calcular_desconto()`  |\n",
    "| Classes    | `PascalCase` | `ClienteVip`           |"
   ]
  },
  {
   "cell_type": "markdown",
   "id": "b0ae6fc4-2ed8-4251-8af0-4ddd1f8e331a",
   "metadata": {},
   "source": [
    "## 💡 Dicas Práticas\n",
    "### 1.Para números em variáveis:"
   ]
  },
  {
   "cell_type": "code",
   "execution_count": 44,
   "id": "92ca2eb7-2a23-46d1-a0a7-b463f4608e25",
   "metadata": {},
   "outputs": [],
   "source": [
    "# Bom\n",
    "idade_usuario1 = 25\n",
    "produto_2 = \"Mouse\"\n",
    "\n",
    "# Ruim\n",
    "a1 = 25\n",
    "b2 = \"Mouse\""
   ]
  },
  {
   "cell_type": "markdown",
   "id": "5a0f4d4c-ed90-4594-aa65-600d1740aa4a",
   "metadata": {},
   "source": [
    "### 2.Evite abreviações obscuras:"
   ]
  },
  {
   "cell_type": "code",
   "execution_count": null,
   "id": "06c90dc5-3258-40bd-bd90-e73fe23bbae1",
   "metadata": {},
   "outputs": [],
   "source": [
    "# 👎 Pouco claro\n",
    "fn = \"João\"\n",
    "qtd = 10\n",
    "\n",
    "# 👍 Auto-explicativo\n",
    "nome_funcionario = \"João\"\n",
    "quantidade = 10"
   ]
  },
  {
   "cell_type": "code",
   "execution_count": null,
   "id": "5c2e0c15-d8d9-4ed8-bd31-a362dbe4aa7a",
   "metadata": {},
   "outputs": [],
   "source": []
  }
 ],
 "metadata": {
  "kernelspec": {
   "display_name": "Python [conda env:base] *",
   "language": "python",
   "name": "conda-base-py"
  },
  "language_info": {
   "codemirror_mode": {
    "name": "ipython",
    "version": 3
   },
   "file_extension": ".py",
   "mimetype": "text/x-python",
   "name": "python",
   "nbconvert_exporter": "python",
   "pygments_lexer": "ipython3",
   "version": "3.12.7"
  }
 },
 "nbformat": 4,
 "nbformat_minor": 5
}
