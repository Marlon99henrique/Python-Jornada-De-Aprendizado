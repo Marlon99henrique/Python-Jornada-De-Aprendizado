{
 "cells": [
  {
   "cell_type": "markdown",
   "id": "27d89d47-9bd7-4361-aab0-02386ce5b1ef",
   "metadata": {},
   "source": [
    "# Estruturas de Condições em Python\n",
    "Neste notebook, exploraremos as principais estruturas de controle em Python com exemplos práticos.\n",
    "\n",
    "---"
   ]
  },
  {
   "cell_type": "markdown",
   "id": "0492053a-16db-4c23-8c86-ae1fd434b188",
   "metadata": {},
   "source": [
    "## Condicionais (`if`, `elif`, `else`)"
   ]
  },
  {
   "cell_type": "markdown",
   "id": "c943ca77-5666-496f-8e7c-ccce7862b965",
   "metadata": {},
   "source": [
    "### 1. Condicional simples (if)  \n",
    "O if é uma estrutura de controle que permite que seu programa tome decisões com base em condições.  \n",
    "#### Sintaxe Básica:\n"
   ]
  },
  {
   "cell_type": "code",
   "execution_count": null,
   "id": "b5ed575f-95de-4223-ba65-a102d3f69929",
   "metadata": {},
   "outputs": [],
   "source": [
    "if condição:                                             # 1. Inicia com 'if' + condição + ':'\n",
    "    print(\"Condição é verdadeira\")                       # 2. Bloco indentado (geralmente 4 espaços ou 1 TAB)\n",
    "    print(\"Este código só roda se a condição for True\")  # 3. Mesmo bloco = mesma indentação\n",
    "print(\"Este código roda sempre\")                         # 4. Fora do bloco 'if' (sem indentação)"
   ]
  },
  {
   "cell_type": "markdown",
   "id": "36d17d50-fc6b-4de8-bc6c-3eb3bc60c519",
   "metadata": {},
   "source": [
    "#### ⚠️ A indentação é OBRIGATÓRIA\n",
    "Python não usa chaves {} como outras linguagens. O que define o bloco de código é:  \n",
    "Dois pontos (:) ao final da condição.  \n",
    "Espaços ou TAB antes das linhas do bloco (o padrão é 4 espaços)."
   ]
  },
  {
   "cell_type": "markdown",
   "id": "a5146b03-8f6c-4025-8a4c-b727936dc6cb",
   "metadata": {},
   "source": [
    "#### Exemplo Prático 1 (Condição Simples):"
   ]
  },
  {
   "cell_type": "code",
   "execution_count": null,
   "id": "f82c9f80-17ff-4eb8-9221-207e15ffaad0",
   "metadata": {},
   "outputs": [],
   "source": [
    "idade = 18\n",
    "\n",
    "if idade >= 18:\n",
    "    print(\"Você é maior de idade!\")"
   ]
  },
  {
   "cell_type": "markdown",
   "id": "e29645e8-35f4-4901-a4e8-782e282379c7",
   "metadata": {},
   "source": [
    "Neste exemplo:  \n",
    "A variável idade recebe o valor 18  \n",
    "O if verifica se idade é maior ou igual a 18  \n",
    "Como a condição é verdadeira, imprime a mensagem"
   ]
  },
  {
   "cell_type": "markdown",
   "id": "d073c718-9790-427c-b727-94dbf715d6fe",
   "metadata": {},
   "source": [
    "### Exemplo 2 (Com else - \"Senão\"):"
   ]
  },
  {
   "cell_type": "code",
   "execution_count": null,
   "id": "cb5ec117-0559-464d-bb5b-a1598eaa7906",
   "metadata": {},
   "outputs": [],
   "source": [
    "saldo = 100\n",
    "saque = 120\n",
    "\n",
    "if saque <= saldo:\n",
    "    print(\"Saque realizado com sucesso!\")\n",
    "else:\n",
    "    print(\"Saldo insuficiente!\")"
   ]
  },
  {
   "cell_type": "markdown",
   "id": "63179822-a18c-47af-8cf5-d277bee8e7b1",
   "metadata": {},
   "source": [
    "Aqui:  \n",
    "Se a condição for verdadeira, executa o primeiro bloco  \n",
    "Se for falsa, executa o bloco após o else"
   ]
  },
  {
   "cell_type": "markdown",
   "id": "252b334d-2dfa-4a01-9c47-4d4a835f9175",
   "metadata": {},
   "source": [
    "### Exemplo 3 (Com elif - \"Senão Se\"):"
   ]
  },
  {
   "cell_type": "code",
   "execution_count": null,
   "id": "d5f84855-726f-4a27-9c39-1009947dfe6d",
   "metadata": {},
   "outputs": [],
   "source": [
    "nota = 7.5\n",
    "\n",
    "if nota >= 9:\n",
    "    print(\"Conceito A\")\n",
    "elif nota >= 7:\n",
    "    print(\"Conceito B\")\n",
    "elif nota >= 5:\n",
    "    print(\"Conceito C\")\n",
    "else:\n",
    "    print(\"Conceito D\")"
   ]
  },
  {
   "cell_type": "markdown",
   "id": "214b6ce4-6300-43d4-a66b-8b55ab35d3bb",
   "metadata": {},
   "source": [
    "O elif permite verificar múltiplas condições em sequência.\n",
    "#### Dicas Importantes:  \n",
    "Indentação: Em Python, os blocos de código são definidos por indentação (geralmente 4 espaços)  \n",
    "Operadores de Comparação: ==, !=, >, <, >=, <=  \n",
    "Operadores Lógicos: and, or, not"
   ]
  },
  {
   "cell_type": "markdown",
   "id": "04767962-4ac8-456c-8e82-2b3b572d1332",
   "metadata": {},
   "source": [
    "##  🎯 Exercicios"
   ]
  },
  {
   "cell_type": "markdown",
   "id": "6dab8aa3-ee32-496a-9315-eb23b52bc36e",
   "metadata": {},
   "source": [
    "#### 1.Exercício Proposto:\n",
    "Digite um numero e verifique:  \n",
    "Se for positivo, imprima \"Positivo\"  \n",
    "Se for negativo, imprima \"Negativo\"  \n",
    "Se for zero, imprima \"Zero\"  "
   ]
  },
  {
   "cell_type": "code",
   "execution_count": null,
   "id": "27ed2a34-4e92-420a-8ff2-a908d950f33d",
   "metadata": {},
   "outputs": [],
   "source": []
  }
 ],
 "metadata": {
  "kernelspec": {
   "display_name": "Python [conda env:base] *",
   "language": "python",
   "name": "conda-base-py"
  },
  "language_info": {
   "codemirror_mode": {
    "name": "ipython",
    "version": 3
   },
   "file_extension": ".py",
   "mimetype": "text/x-python",
   "name": "python",
   "nbconvert_exporter": "python",
   "pygments_lexer": "ipython3",
   "version": "3.12.7"
  }
 },
 "nbformat": 4,
 "nbformat_minor": 5
}
